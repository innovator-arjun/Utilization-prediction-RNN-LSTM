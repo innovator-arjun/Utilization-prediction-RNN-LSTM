{
 "cells": [
  {
   "cell_type": "code",
   "execution_count": 95,
   "metadata": {
    "collapsed": true
   },
   "outputs": [],
   "source": [
    "import pandas as pd\n",
    "import numpy as np"
   ]
  },
  {
   "cell_type": "code",
   "execution_count": 96,
   "metadata": {
    "collapsed": false
   },
   "outputs": [],
   "source": [
    "preprocessed_df=pd.read_csv('Data/preprocessed_data.csv')\n",
    "preprocessed_df.drop(['Unnamed: 0'],1,inplace=True)"
   ]
  },
  {
   "cell_type": "code",
   "execution_count": 97,
   "metadata": {
    "collapsed": false
   },
   "outputs": [
    {
     "data": {
      "text/html": [
       "<div>\n",
       "<table border=\"1\" class=\"dataframe\">\n",
       "  <thead>\n",
       "    <tr style=\"text-align: right;\">\n",
       "      <th></th>\n",
       "      <th>Hostname</th>\n",
       "      <th>Application</th>\n",
       "      <th>Utilization(bps)</th>\n",
       "      <th>Timestamp</th>\n",
       "    </tr>\n",
       "  </thead>\n",
       "  <tbody>\n",
       "    <tr>\n",
       "      <th>0</th>\n",
       "      <td>vdevice-host-name</td>\n",
       "      <td>dns</td>\n",
       "      <td>105.000</td>\n",
       "      <td>2019-01-18 08:55:00</td>\n",
       "    </tr>\n",
       "    <tr>\n",
       "      <th>1</th>\n",
       "      <td>vdevice-host-name</td>\n",
       "      <td>tcp</td>\n",
       "      <td>0.000</td>\n",
       "      <td>2019-01-18 08:55:00</td>\n",
       "    </tr>\n",
       "    <tr>\n",
       "      <th>2</th>\n",
       "      <td>vdevice-host-name</td>\n",
       "      <td>https</td>\n",
       "      <td>2777.375</td>\n",
       "      <td>2019-01-18 08:55:00</td>\n",
       "    </tr>\n",
       "    <tr>\n",
       "      <th>3</th>\n",
       "      <td>vdevice-host-name</td>\n",
       "      <td>google_gen</td>\n",
       "      <td>0.000</td>\n",
       "      <td>2019-01-18 08:55:00</td>\n",
       "    </tr>\n",
       "    <tr>\n",
       "      <th>4</th>\n",
       "      <td>vdevice-host-name</td>\n",
       "      <td>firefox_update</td>\n",
       "      <td>0.000</td>\n",
       "      <td>2019-01-18 08:55:00</td>\n",
       "    </tr>\n",
       "  </tbody>\n",
       "</table>\n",
       "</div>"
      ],
      "text/plain": [
       "            Hostname     Application  Utilization(bps)            Timestamp\n",
       "0  vdevice-host-name             dns           105.000  2019-01-18 08:55:00\n",
       "1  vdevice-host-name             tcp             0.000  2019-01-18 08:55:00\n",
       "2  vdevice-host-name           https          2777.375  2019-01-18 08:55:00\n",
       "3  vdevice-host-name      google_gen             0.000  2019-01-18 08:55:00\n",
       "4  vdevice-host-name  firefox_update             0.000  2019-01-18 08:55:00"
      ]
     },
     "execution_count": 97,
     "metadata": {},
     "output_type": "execute_result"
    }
   ],
   "source": [
    "preprocessed_df.head()"
   ]
  },
  {
   "cell_type": "code",
   "execution_count": 98,
   "metadata": {
    "collapsed": true
   },
   "outputs": [],
   "source": [
    "application_name=['dns','https']"
   ]
  },
  {
   "cell_type": "code",
   "execution_count": 99,
   "metadata": {
    "collapsed": false
   },
   "outputs": [
    {
     "name": "stdout",
     "output_type": "stream",
     "text": [
      "(13132, 2)\n"
     ]
    }
   ],
   "source": [
    "# for i in application_name:\n",
    "    \n",
    "df=preprocessed_df.loc[preprocessed_df['Application'] == 'dns']\n",
    "df=df[['Timestamp','Utilization(bps)']]\n",
    "training_set=df[0:len(df)-3000]\n",
    "print(training_set.shape)\n",
    "training_set_sliced = training_set.iloc[:, 1:2].values\n"
   ]
  },
  {
   "cell_type": "code",
   "execution_count": null,
   "metadata": {
    "collapsed": false
   },
   "outputs": [],
   "source": []
  },
  {
   "cell_type": "code",
   "execution_count": 100,
   "metadata": {
    "collapsed": false
   },
   "outputs": [],
   "source": [
    "# Feature Scaling\n",
    "from sklearn.preprocessing import MinMaxScaler\n",
    "sc = MinMaxScaler(feature_range = (0, 1))\n",
    "training_set_scaled = sc.fit_transform(training_set_sliced)\n"
   ]
  },
  {
   "cell_type": "code",
   "execution_count": 101,
   "metadata": {
    "collapsed": false
   },
   "outputs": [],
   "source": [
    "# Creating a data structure with 100 timesteps and 1 output\n",
    "X_train = []\n",
    "y_train = []\n",
    "for i in range(120, len(training_set)):\n",
    "    X_train.append(training_set_scaled[i-120:i, 0])\n",
    "    y_train.append(training_set_scaled[i, 0])\n",
    "X_train, y_train = np.array(X_train), np.array(y_train)\n",
    "\n",
    "# Reshaping\n",
    "X_train = np.reshape(X_train, (X_train.shape[0], X_train.shape[1], 1))"
   ]
  },
  {
   "cell_type": "code",
   "execution_count": 102,
   "metadata": {
    "collapsed": false
   },
   "outputs": [],
   "source": [
    "\n",
    "# Importing the Keras libraries and packages\n",
    "from keras.models import Sequential\n",
    "from keras.layers import Dense\n",
    "from keras.layers import LSTM\n",
    "from keras.layers import Dropout\n",
    "\n",
    "# Initialising the RNN\n",
    "regressor = Sequential()"
   ]
  },
  {
   "cell_type": "code",
   "execution_count": 103,
   "metadata": {
    "collapsed": false
   },
   "outputs": [],
   "source": [
    "\n",
    "# Adding the first LSTM layer and some Dropout regularisation\n",
    "regressor.add(LSTM(units = 75, return_sequences = True, input_shape = (X_train.shape[1], 1)))\n",
    "#rregressoregressor.add(Dropout(0.2))\n",
    "\n",
    "\n",
    "# Adding a second LSTM layer and some Dropout regularisation\n",
    "regressor.add(LSTM(units = 75))\n",
    "regressor.add(Dropout(0.2))\n",
    "\n",
    "# Adding the output layer\n",
    "regressor.add(Dense(units = 1))\n",
    "\n",
    "# Compiling the RNN\n",
    "regressor.compile(optimizer = 'rmsprop', loss = 'mean_squared_error')\n",
    "\n",
    "\n",
    "\n"
   ]
  },
  {
   "cell_type": "code",
   "execution_count": null,
   "metadata": {
    "collapsed": false
   },
   "outputs": [],
   "source": []
  },
  {
   "cell_type": "code",
   "execution_count": 104,
   "metadata": {
    "collapsed": false
   },
   "outputs": [
    {
     "name": "stdout",
     "output_type": "stream",
     "text": [
      "_________________________________________________________________\n",
      "Layer (type)                 Output Shape              Param #   \n",
      "=================================================================\n",
      "lstm_17 (LSTM)               (None, 120, 75)           23100     \n",
      "_________________________________________________________________\n",
      "lstm_18 (LSTM)               (None, 75)                45300     \n",
      "_________________________________________________________________\n",
      "dropout_9 (Dropout)          (None, 75)                0         \n",
      "_________________________________________________________________\n",
      "dense_9 (Dense)              (None, 1)                 76        \n",
      "=================================================================\n",
      "Total params: 68,476\n",
      "Trainable params: 68,476\n",
      "Non-trainable params: 0\n",
      "_________________________________________________________________\n"
     ]
    }
   ],
   "source": [
    "regressor.summary()"
   ]
  },
  {
   "cell_type": "code",
   "execution_count": 105,
   "metadata": {
    "collapsed": false
   },
   "outputs": [
    {
     "name": "stdout",
     "output_type": "stream",
     "text": [
      "Epoch 1/100\n",
      "13012/13012 [==============================] - 104s 8ms/step - loss: 6.1791e-04\n",
      "Epoch 2/100\n",
      "13012/13012 [==============================] - 100s 8ms/step - loss: 5.7318e-04\n",
      "Epoch 3/100\n",
      "13012/13012 [==============================] - 53s 4ms/step - loss: 5.5904e-04\n",
      "Epoch 4/100\n",
      "13012/13012 [==============================] - 50s 4ms/step - loss: 5.5412e-04\n",
      "Epoch 5/100\n",
      "13012/13012 [==============================] - 56s 4ms/step - loss: 5.4875e-04\n",
      "Epoch 6/100\n",
      "13012/13012 [==============================] - 52s 4ms/step - loss: 5.4634e-04\n",
      "Epoch 7/100\n",
      "13012/13012 [==============================] - 52s 4ms/step - loss: 5.4619e-04\n",
      "Epoch 8/100\n",
      "13012/13012 [==============================] - 52s 4ms/step - loss: 5.4213e-04\n",
      "Epoch 9/100\n",
      "13012/13012 [==============================] - 53s 4ms/step - loss: 5.4089e-04\n",
      "Epoch 10/100\n",
      "13012/13012 [==============================] - 53s 4ms/step - loss: 5.3900e-04\n",
      "Epoch 11/100\n",
      "13012/13012 [==============================] - 56s 4ms/step - loss: 5.2673e-04\n",
      "Epoch 12/100\n",
      "13012/13012 [==============================] - 55s 4ms/step - loss: 5.2494e-04\n",
      "Epoch 13/100\n",
      "13012/13012 [==============================] - 53s 4ms/step - loss: 5.2211e-04\n",
      "Epoch 14/100\n",
      "13012/13012 [==============================] - 55s 4ms/step - loss: 5.2131e-04\n",
      "Epoch 15/100\n",
      "13012/13012 [==============================] - 53s 4ms/step - loss: 5.1931e-04\n",
      "Epoch 16/100\n",
      "13012/13012 [==============================] - 52s 4ms/step - loss: 5.2036e-04\n",
      "Epoch 17/100\n",
      "13012/13012 [==============================] - 52s 4ms/step - loss: 5.1770e-04\n",
      "Epoch 18/100\n",
      "13012/13012 [==============================] - 53s 4ms/step - loss: 5.1933e-04\n",
      "Epoch 19/100\n",
      "13012/13012 [==============================] - 53s 4ms/step - loss: 5.1633e-04\n",
      "Epoch 20/100\n",
      "13012/13012 [==============================] - 54s 4ms/step - loss: 5.1838e-04\n",
      "Epoch 21/100\n",
      "13012/13012 [==============================] - 53s 4ms/step - loss: 5.1597e-04\n",
      "Epoch 22/100\n",
      "13012/13012 [==============================] - 52s 4ms/step - loss: 5.1527e-04\n",
      "Epoch 23/100\n",
      "13012/13012 [==============================] - 53s 4ms/step - loss: 5.1356e-04\n",
      "Epoch 24/100\n",
      "13012/13012 [==============================] - 52s 4ms/step - loss: 5.1552e-04\n",
      "Epoch 25/100\n",
      "13012/13012 [==============================] - 54s 4ms/step - loss: 5.1278e-04\n",
      "Epoch 26/100\n",
      "13012/13012 [==============================] - 53s 4ms/step - loss: 5.1295e-04\n",
      "Epoch 27/100\n",
      "13012/13012 [==============================] - 54s 4ms/step - loss: 5.0950e-04\n",
      "Epoch 28/100\n",
      "13012/13012 [==============================] - 57s 4ms/step - loss: 5.0798e-04\n",
      "Epoch 29/100\n",
      "13012/13012 [==============================] - 52s 4ms/step - loss: 5.0350e-04\n",
      "Epoch 30/100\n",
      "13012/13012 [==============================] - 55s 4ms/step - loss: 5.0369e-04\n",
      "Epoch 31/100\n",
      "13012/13012 [==============================] - 55s 4ms/step - loss: 5.0471e-04\n",
      "Epoch 32/100\n",
      "13012/13012 [==============================] - 54s 4ms/step - loss: 4.9941e-04\n",
      "Epoch 33/100\n",
      "13012/13012 [==============================] - 58s 4ms/step - loss: 4.9968e-04\n",
      "Epoch 34/100\n",
      "13012/13012 [==============================] - 56s 4ms/step - loss: 4.9789e-04\n",
      "Epoch 35/100\n",
      "13012/13012 [==============================] - 54s 4ms/step - loss: 4.9561e-04\n",
      "Epoch 36/100\n",
      "13012/13012 [==============================] - 57s 4ms/step - loss: 4.9233e-04\n",
      "Epoch 37/100\n",
      "13012/13012 [==============================] - 56s 4ms/step - loss: 4.9174e-04\n",
      "Epoch 38/100\n",
      "13012/13012 [==============================] - 54s 4ms/step - loss: 4.9229e-04\n",
      "Epoch 39/100\n",
      "13012/13012 [==============================] - 54s 4ms/step - loss: 4.8903e-04\n",
      "Epoch 40/100\n",
      "13012/13012 [==============================] - 54s 4ms/step - loss: 4.8899e-04\n",
      "Epoch 41/100\n",
      "13012/13012 [==============================] - 54s 4ms/step - loss: 4.8622e-04\n",
      "Epoch 42/100\n",
      "13012/13012 [==============================] - 55s 4ms/step - loss: 4.8371e-04\n",
      "Epoch 43/100\n",
      "13012/13012 [==============================] - 56s 4ms/step - loss: 4.8426e-04\n",
      "Epoch 44/100\n",
      "13012/13012 [==============================] - 54s 4ms/step - loss: 4.8595e-04\n",
      "Epoch 45/100\n",
      "13012/13012 [==============================] - 58s 4ms/step - loss: 4.8284e-04\n",
      "Epoch 46/100\n",
      "13012/13012 [==============================] - 54s 4ms/step - loss: 4.8194e-04\n",
      "Epoch 47/100\n",
      "13012/13012 [==============================] - 54s 4ms/step - loss: 4.8051e-04\n",
      "Epoch 48/100\n",
      "13012/13012 [==============================] - 56s 4ms/step - loss: 4.8043e-04\n",
      "Epoch 49/100\n",
      "13012/13012 [==============================] - 59s 5ms/step - loss: 4.7679e-04\n",
      "Epoch 50/100\n",
      "13012/13012 [==============================] - 57s 4ms/step - loss: 4.8017e-04\n",
      "Epoch 51/100\n",
      "13012/13012 [==============================] - 57s 4ms/step - loss: 4.7784e-04\n",
      "Epoch 52/100\n",
      "13012/13012 [==============================] - 58s 4ms/step - loss: 4.7538e-04\n",
      "Epoch 53/100\n",
      "13012/13012 [==============================] - 56s 4ms/step - loss: 4.7601e-04\n",
      "Epoch 54/100\n",
      "13012/13012 [==============================] - 55s 4ms/step - loss: 4.7555e-04\n",
      "Epoch 55/100\n",
      "13012/13012 [==============================] - 59s 5ms/step - loss: 4.7430e-04\n",
      "Epoch 56/100\n",
      "13012/13012 [==============================] - 56s 4ms/step - loss: 4.7249e-04\n",
      "Epoch 57/100\n",
      "13012/13012 [==============================] - 55s 4ms/step - loss: 4.7349e-04\n",
      "Epoch 58/100\n",
      "13012/13012 [==============================] - 55s 4ms/step - loss: 4.7096e-04\n",
      "Epoch 59/100\n",
      "13012/13012 [==============================] - 56s 4ms/step - loss: 4.7136e-04\n",
      "Epoch 60/100\n",
      "13012/13012 [==============================] - 56s 4ms/step - loss: 4.7164e-04\n",
      "Epoch 61/100\n",
      "13012/13012 [==============================] - 60s 5ms/step - loss: 4.7528e-04\n",
      "Epoch 62/100\n",
      "13012/13012 [==============================] - 69s 5ms/step - loss: 4.7068e-04\n",
      "Epoch 63/100\n",
      "13012/13012 [==============================] - 103s 8ms/step - loss: 4.6820e-04\n",
      "Epoch 64/100\n",
      "13012/13012 [==============================] - 105s 8ms/step - loss: 4.6980e-04\n",
      "Epoch 65/100\n",
      "13012/13012 [==============================] - 105s 8ms/step - loss: 4.7011e-04\n",
      "Epoch 66/100\n",
      "13012/13012 [==============================] - 113s 9ms/step - loss: 4.6699e-04\n",
      "Epoch 67/100\n",
      "13012/13012 [==============================] - 117s 9ms/step - loss: 4.6979e-04\n",
      "Epoch 68/100\n",
      "13012/13012 [==============================] - 100s 8ms/step - loss: 4.6799e-04\n",
      "Epoch 69/100\n",
      "13012/13012 [==============================] - 103s 8ms/step - loss: 4.6764e-04\n",
      "Epoch 70/100\n",
      "13012/13012 [==============================] - 107s 8ms/step - loss: 4.6687e-04\n",
      "Epoch 71/100\n",
      "13012/13012 [==============================] - 7792s 599ms/step - loss: 4.6542e-04\n",
      "Epoch 72/100\n",
      "13012/13012 [==============================] - 125s 10ms/step - loss: 4.6557e-04\n",
      "Epoch 73/100\n",
      "13012/13012 [==============================] - 114s 9ms/step - loss: 4.6469e-04\n",
      "Epoch 74/100\n",
      "13012/13012 [==============================] - 110s 8ms/step - loss: 4.6299e-04\n",
      "Epoch 75/100\n",
      "13012/13012 [==============================] - 104s 8ms/step - loss: 4.6654e-04\n",
      "Epoch 76/100\n",
      "13012/13012 [==============================] - 109s 8ms/step - loss: 4.6636e-04\n",
      "Epoch 77/100\n",
      "13012/13012 [==============================] - 120s 9ms/step - loss: 4.6397e-04\n",
      "Epoch 78/100\n",
      "13012/13012 [==============================] - 113s 9ms/step - loss: 4.6845e-04\n",
      "Epoch 79/100\n",
      "13012/13012 [==============================] - 125s 10ms/step - loss: 4.6295e-04\n",
      "Epoch 80/100\n",
      "13012/13012 [==============================] - 112s 9ms/step - loss: 4.6134e-04\n",
      "Epoch 81/100\n",
      "13012/13012 [==============================] - 112s 9ms/step - loss: 4.6305e-04\n",
      "Epoch 82/100\n",
      "13012/13012 [==============================] - 110s 8ms/step - loss: 4.6235e-04\n",
      "Epoch 83/100\n",
      "13012/13012 [==============================] - 107s 8ms/step - loss: 4.6080e-04\n",
      "Epoch 84/100\n",
      "13012/13012 [==============================] - 112s 9ms/step - loss: 4.6216e-04\n",
      "Epoch 85/100\n",
      "13012/13012 [==============================] - 114s 9ms/step - loss: 4.6173e-04\n",
      "Epoch 86/100\n",
      "13012/13012 [==============================] - 109s 8ms/step - loss: 4.6140e-04\n",
      "Epoch 87/100\n",
      "13012/13012 [==============================] - 108s 8ms/step - loss: 4.5831e-04\n",
      "Epoch 88/100\n",
      "13012/13012 [==============================] - 108s 8ms/step - loss: 4.5854e-04\n",
      "Epoch 89/100\n",
      "13012/13012 [==============================] - 108s 8ms/step - loss: 4.6124e-04\n",
      "Epoch 90/100\n",
      "13012/13012 [==============================] - 105s 8ms/step - loss: 4.5990e-04\n",
      "Epoch 91/100\n",
      "13012/13012 [==============================] - 102s 8ms/step - loss: 4.5552e-04\n",
      "Epoch 92/100\n",
      "13012/13012 [==============================] - 107s 8ms/step - loss: 4.5969e-04\n",
      "Epoch 93/100\n",
      "13012/13012 [==============================] - 106s 8ms/step - loss: 4.5872e-04\n",
      "Epoch 94/100\n",
      "13012/13012 [==============================] - 109s 8ms/step - loss: 4.5701e-04\n",
      "Epoch 95/100\n",
      "13012/13012 [==============================] - 106s 8ms/step - loss: 4.5668e-04\n",
      "Epoch 96/100\n",
      "13012/13012 [==============================] - 114s 9ms/step - loss: 4.5792e-04\n",
      "Epoch 97/100\n",
      "13012/13012 [==============================] - 110s 8ms/step - loss: 4.5742e-04\n",
      "Epoch 98/100\n",
      "13012/13012 [==============================] - 92s 7ms/step - loss: 4.5605e-04\n",
      "Epoch 99/100\n",
      "13012/13012 [==============================] - 93s 7ms/step - loss: 4.5935e-04\n",
      "Epoch 100/100\n",
      "13012/13012 [==============================] - 98s 7ms/step - loss: 4.5436e-04\n"
     ]
    },
    {
     "data": {
      "text/plain": [
       "<keras.callbacks.History at 0x1766fa6a8d0>"
      ]
     },
     "execution_count": 105,
     "metadata": {},
     "output_type": "execute_result"
    }
   ],
   "source": [
    "# Fitting the RNN to the Training set\n",
    "regressor.fit(X_train, y_train, epochs = 100, batch_size = 32)"
   ]
  },
  {
   "cell_type": "code",
   "execution_count": 106,
   "metadata": {
    "collapsed": false
   },
   "outputs": [
    {
     "name": "stdout",
     "output_type": "stream",
     "text": [
      "model built successfully\n"
     ]
    }
   ],
   "source": [
    "print('model built successfully')\n",
    "regressor.save('dns(100 epo- 75 neuron-120 time-rmsprop).h5') "
   ]
  },
  {
   "cell_type": "code",
   "execution_count": 107,
   "metadata": {
    "collapsed": true
   },
   "outputs": [],
   "source": [
    "\n",
    "real_pattern_prediction=df[len(df)-3000:]"
   ]
  },
  {
   "cell_type": "code",
   "execution_count": 108,
   "metadata": {
    "collapsed": false
   },
   "outputs": [
    {
     "data": {
      "text/html": [
       "<div>\n",
       "<table border=\"1\" class=\"dataframe\">\n",
       "  <thead>\n",
       "    <tr style=\"text-align: right;\">\n",
       "      <th></th>\n",
       "      <th>Timestamp</th>\n",
       "      <th>Utilization(bps)</th>\n",
       "    </tr>\n",
       "  </thead>\n",
       "  <tbody>\n",
       "    <tr>\n",
       "      <th>440582</th>\n",
       "      <td>2019-03-05 00:30:00</td>\n",
       "      <td>499.875</td>\n",
       "    </tr>\n",
       "    <tr>\n",
       "      <th>440627</th>\n",
       "      <td>2019-03-05 00:35:00</td>\n",
       "      <td>825.750</td>\n",
       "    </tr>\n",
       "    <tr>\n",
       "      <th>440649</th>\n",
       "      <td>2019-03-05 00:40:00</td>\n",
       "      <td>479.125</td>\n",
       "    </tr>\n",
       "    <tr>\n",
       "      <th>440704</th>\n",
       "      <td>2019-03-05 00:45:00</td>\n",
       "      <td>552.375</td>\n",
       "    </tr>\n",
       "    <tr>\n",
       "      <th>440761</th>\n",
       "      <td>2019-03-05 00:50:00</td>\n",
       "      <td>642.500</td>\n",
       "    </tr>\n",
       "  </tbody>\n",
       "</table>\n",
       "</div>"
      ],
      "text/plain": [
       "                  Timestamp  Utilization(bps)\n",
       "440582  2019-03-05 00:30:00           499.875\n",
       "440627  2019-03-05 00:35:00           825.750\n",
       "440649  2019-03-05 00:40:00           479.125\n",
       "440704  2019-03-05 00:45:00           552.375\n",
       "440761  2019-03-05 00:50:00           642.500"
      ]
     },
     "execution_count": 108,
     "metadata": {},
     "output_type": "execute_result"
    }
   ],
   "source": [
    "real_pattern_prediction.head()"
   ]
  },
  {
   "cell_type": "code",
   "execution_count": 109,
   "metadata": {
    "collapsed": false
   },
   "outputs": [
    {
     "data": {
      "text/html": [
       "<div>\n",
       "<table border=\"1\" class=\"dataframe\">\n",
       "  <thead>\n",
       "    <tr style=\"text-align: right;\">\n",
       "      <th></th>\n",
       "      <th>Timestamp</th>\n",
       "      <th>Utilization(bps)</th>\n",
       "    </tr>\n",
       "  </thead>\n",
       "  <tbody>\n",
       "    <tr>\n",
       "      <th>0</th>\n",
       "      <td>2019-01-18 08:55:00</td>\n",
       "      <td>105.0</td>\n",
       "    </tr>\n",
       "    <tr>\n",
       "      <th>9</th>\n",
       "      <td>2019-01-18 09:00:00</td>\n",
       "      <td>212.5</td>\n",
       "    </tr>\n",
       "    <tr>\n",
       "      <th>20</th>\n",
       "      <td>2019-01-18 09:05:00</td>\n",
       "      <td>105.0</td>\n",
       "    </tr>\n",
       "    <tr>\n",
       "      <th>21</th>\n",
       "      <td>2019-01-18 09:10:00</td>\n",
       "      <td>340.0</td>\n",
       "    </tr>\n",
       "    <tr>\n",
       "      <th>34</th>\n",
       "      <td>2019-01-18 09:15:00</td>\n",
       "      <td>142.5</td>\n",
       "    </tr>\n",
       "  </tbody>\n",
       "</table>\n",
       "</div>"
      ],
      "text/plain": [
       "              Timestamp  Utilization(bps)\n",
       "0   2019-01-18 08:55:00             105.0\n",
       "9   2019-01-18 09:00:00             212.5\n",
       "20  2019-01-18 09:05:00             105.0\n",
       "21  2019-01-18 09:10:00             340.0\n",
       "34  2019-01-18 09:15:00             142.5"
      ]
     },
     "execution_count": 109,
     "metadata": {},
     "output_type": "execute_result"
    }
   ],
   "source": [
    "training_set.head()"
   ]
  },
  {
   "cell_type": "code",
   "execution_count": 110,
   "metadata": {
    "collapsed": false
   },
   "outputs": [],
   "source": [
    "\n",
    "# Getting the Random predictiond data\n",
    "dataset_total = pd.concat((training_set['Utilization(bps)'], real_pattern_prediction['Utilization(bps)']), axis = 0)\n",
    "inputs = dataset_total[len(dataset_total) - len(real_pattern_prediction) - 120:].values\n",
    "inputs = inputs.reshape(-1,1)\n",
    "inputs = sc.transform(inputs)\n",
    "X_test = []\n",
    "for i in range(120, len(real_pattern_prediction)+120):\n",
    "    X_test.append(inputs[i-120:i, 0])\n",
    "X_test = np.array(X_test)\n",
    "X_test = np.reshape(X_test, (X_test.shape[0], X_test.shape[1], 1))\n",
    "predicted_pattern = regressor.predict(X_test)\n",
    "predicted_pattern = sc.inverse_transform(predicted_pattern)"
   ]
  },
  {
   "cell_type": "code",
   "execution_count": 111,
   "metadata": {
    "collapsed": false
   },
   "outputs": [
    {
     "data": {
      "image/png": "[encoded data removed]",
      "text/plain": [
       "<Figure size 600x400 with 1 Axes>"
      ]
     },
     "metadata": {},
     "output_type": "display_data"
    }
   ],
   "source": [
    "import matplotlib.pyplot as plt\n",
    "%matplotlib inline\n",
    "real_pattern_prediction=real_pattern_prediction.iloc[:, 1:2].values\n",
    "# Visualising the results\n",
    "plt.plot(real_pattern_prediction, color = 'red', label = 'Real Pattern Number')\n",
    "plt.plot(predicted_pattern, color = 'blue', label = 'Predicted Pattern Number')\n",
    "plt.title('DNS Prediction')\n",
    "plt.xlabel('record')\n",
    "plt.ylabel('Pattern Number')\n",
    "plt.legend()\n",
    "plt.show()"
   ]
  },
  {
   "cell_type": "code",
   "execution_count": null,
   "metadata": {
    "collapsed": true
   },
   "outputs": [],
   "source": []
  }
 ],
 "metadata": {
  "kernelspec": {
   "display_name": "Python [Anaconda3]",
   "language": "python",
   "name": "Python [Anaconda3]"
  },
  "language_info": {
   "codemirror_mode": {
    "name": "ipython",
    "version": 3
   },
   "file_extension": ".py",
   "mimetype": "text/x-python",
   "name": "python",
   "nbconvert_exporter": "python",
   "pygments_lexer": "ipython3",
   "version": "3.5.2"
  }
 },
 "nbformat": 4,
 "nbformat_minor": 0
}

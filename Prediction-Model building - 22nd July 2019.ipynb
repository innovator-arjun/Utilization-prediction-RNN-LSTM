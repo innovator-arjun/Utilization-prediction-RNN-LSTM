{
 "cells": [
  {
   "cell_type": "code",
   "execution_count": 3,
   "metadata": {
    "collapsed": true
   },
   "outputs": [],
   "source": [
    "import pandas as pd\n",
    "import numpy as np"
   ]
  },
  {
   "cell_type": "code",
   "execution_count": 4,
   "metadata": {
    "collapsed": false
   },
   "outputs": [],
   "source": [
    "#preprocessed_df=pd.read_csv('/home/rootuser/arj/ticket/Data/preprocessed_data.csv')\n",
    "preprocessed_df=pd.read_csv('Data/preprocessed_data.csv')\n",
    "\n",
    "preprocessed_df.drop(['Unnamed: 0'],1,inplace=True)"
   ]
  },
  {
   "cell_type": "code",
   "execution_count": 5,
   "metadata": {
    "collapsed": false
   },
   "outputs": [
    {
     "data": {
      "text/html": [
       "<div>\n",
       "<table border=\"1\" class=\"dataframe\">\n",
       "  <thead>\n",
       "    <tr style=\"text-align: right;\">\n",
       "      <th></th>\n",
       "      <th>Hostname</th>\n",
       "      <th>Application</th>\n",
       "      <th>Utilization(bps)</th>\n",
       "      <th>Timestamp</th>\n",
       "    </tr>\n",
       "  </thead>\n",
       "  <tbody>\n",
       "    <tr>\n",
       "      <th>0</th>\n",
       "      <td>vdevice-host-name</td>\n",
       "      <td>dns</td>\n",
       "      <td>105.000</td>\n",
       "      <td>2019-01-18 08:55:00</td>\n",
       "    </tr>\n",
       "    <tr>\n",
       "      <th>1</th>\n",
       "      <td>vdevice-host-name</td>\n",
       "      <td>tcp</td>\n",
       "      <td>0.000</td>\n",
       "      <td>2019-01-18 08:55:00</td>\n",
       "    </tr>\n",
       "    <tr>\n",
       "      <th>2</th>\n",
       "      <td>vdevice-host-name</td>\n",
       "      <td>https</td>\n",
       "      <td>2777.375</td>\n",
       "      <td>2019-01-18 08:55:00</td>\n",
       "    </tr>\n",
       "    <tr>\n",
       "      <th>3</th>\n",
       "      <td>vdevice-host-name</td>\n",
       "      <td>google_gen</td>\n",
       "      <td>0.000</td>\n",
       "      <td>2019-01-18 08:55:00</td>\n",
       "    </tr>\n",
       "    <tr>\n",
       "      <th>4</th>\n",
       "      <td>vdevice-host-name</td>\n",
       "      <td>firefox_update</td>\n",
       "      <td>0.000</td>\n",
       "      <td>2019-01-18 08:55:00</td>\n",
       "    </tr>\n",
       "  </tbody>\n",
       "</table>\n",
       "</div>"
      ],
      "text/plain": [
       "            Hostname     Application  Utilization(bps)            Timestamp\n",
       "0  vdevice-host-name             dns           105.000  2019-01-18 08:55:00\n",
       "1  vdevice-host-name             tcp             0.000  2019-01-18 08:55:00\n",
       "2  vdevice-host-name           https          2777.375  2019-01-18 08:55:00\n",
       "3  vdevice-host-name      google_gen             0.000  2019-01-18 08:55:00\n",
       "4  vdevice-host-name  firefox_update             0.000  2019-01-18 08:55:00"
      ]
     },
     "execution_count": 5,
     "metadata": {},
     "output_type": "execute_result"
    }
   ],
   "source": [
    "preprocessed_df.head()"
   ]
  },
  {
   "cell_type": "code",
   "execution_count": 6,
   "metadata": {
    "collapsed": true
   },
   "outputs": [],
   "source": [
    "application_name=['dns','https']"
   ]
  },
  {
   "cell_type": "code",
   "execution_count": 7,
   "metadata": {
    "collapsed": false
   },
   "outputs": [],
   "source": [
    "# for i in application_name:\n",
    "    \n",
    "df=preprocessed_df.loc[preprocessed_df['Application'] == 'dns']\n",
    "df=df[['Timestamp','Utilization(bps)']]\n",
    "\n"
   ]
  },
  {
   "cell_type": "code",
   "execution_count": 8,
   "metadata": {
    "collapsed": false
   },
   "outputs": [],
   "source": [
    "df=df[df['Utilization(bps)']!= 0]"
   ]
  },
  {
   "cell_type": "code",
   "execution_count": 9,
   "metadata": {
    "collapsed": false
   },
   "outputs": [
    {
     "data": {
      "text/plain": [
       "(16128, 2)"
      ]
     },
     "execution_count": 9,
     "metadata": {},
     "output_type": "execute_result"
    }
   ],
   "source": [
    "df.shape"
   ]
  },
  {
   "cell_type": "code",
   "execution_count": 10,
   "metadata": {
    "collapsed": false
   },
   "outputs": [
    {
     "name": "stdout",
     "output_type": "stream",
     "text": [
      "(13128, 2)\n"
     ]
    }
   ],
   "source": [
    "training_set=df[0:len(df)-3000]\n",
    "print(training_set.shape)\n",
    "training_set_sliced = training_set.iloc[:, 1:2].values"
   ]
  },
  {
   "cell_type": "code",
   "execution_count": 11,
   "metadata": {
    "collapsed": false
   },
   "outputs": [],
   "source": [
    "# Feature Scaling\n",
    "from sklearn.preprocessing import MinMaxScaler\n",
    "sc = MinMaxScaler(feature_range = (0, 1))\n",
    "training_set_scaled = sc.fit_transform(training_set_sliced)\n"
   ]
  },
  {
   "cell_type": "code",
   "execution_count": 12,
   "metadata": {
    "collapsed": false
   },
   "outputs": [],
   "source": [
    "# Creating a data structure with 100 timesteps and 1 output\n",
    "X_train = []\n",
    "y_train = []\n",
    "for i in range(150, len(training_set)):\n",
    "    X_train.append(training_set_scaled[i-150:i, 0])\n",
    "    y_train.append(training_set_scaled[i, 0])\n",
    "X_train, y_train = np.array(X_train), np.array(y_train)\n",
    "\n",
    "# Reshaping\n",
    "X_train = np.reshape(X_train, (X_train.shape[0], X_train.shape[1], 1))"
   ]
  },
  {
   "cell_type": "code",
   "execution_count": 13,
   "metadata": {
    "collapsed": false
   },
   "outputs": [
    {
     "name": "stderr",
     "output_type": "stream",
     "text": [
      "Using TensorFlow backend.\n"
     ]
    }
   ],
   "source": [
    "\n",
    "# Importing the Keras libraries and packages\n",
    "from keras.models import Sequential\n",
    "from keras.layers import Dense\n",
    "from keras.layers import LSTM\n",
    "from keras.layers import Dropout\n",
    "\n",
    "# Initialising the RNN\n",
    "regressor = Sequential()"
   ]
  },
  {
   "cell_type": "code",
   "execution_count": 14,
   "metadata": {
    "collapsed": false
   },
   "outputs": [],
   "source": [
    "\n",
    "# Adding the first LSTM layer and some Dropout regularisation\n",
    "regressor.add(LSTM(units = 50, return_sequences = True, input_shape = (X_train.shape[1], 1)))\n",
    "\n",
    "\n",
    "# Adding a second LSTM layer and some Dropout regularisation\n",
    "regressor.add(LSTM(units = 50))\n",
    "regressor.add(Dropout(0.2))\n",
    "\n",
    "# Adding the output layer\n",
    "regressor.add(Dense(units = 1))\n",
    "\n",
    "# Compiling the RNN\n",
    "regressor.compile(optimizer = 'sgd', loss = 'mean_squared_error')\n",
    "\n",
    "\n",
    "\n"
   ]
  },
  {
   "cell_type": "code",
   "execution_count": 15,
   "metadata": {
    "collapsed": false
   },
   "outputs": [
    {
     "name": "stdout",
     "output_type": "stream",
     "text": [
      "_________________________________________________________________\n",
      "Layer (type)                 Output Shape              Param #   \n",
      "=================================================================\n",
      "lstm_1 (LSTM)                (None, 150, 50)           10400     \n",
      "_________________________________________________________________\n",
      "lstm_2 (LSTM)                (None, 50)                20200     \n",
      "_________________________________________________________________\n",
      "dropout_1 (Dropout)          (None, 50)                0         \n",
      "_________________________________________________________________\n",
      "dense_1 (Dense)              (None, 1)                 51        \n",
      "=================================================================\n",
      "Total params: 30,651\n",
      "Trainable params: 30,651\n",
      "Non-trainable params: 0\n",
      "_________________________________________________________________\n"
     ]
    }
   ],
   "source": [
    "regressor.summary()"
   ]
  },
  {
   "cell_type": "code",
   "execution_count": null,
   "metadata": {
    "collapsed": false,
    "scrolled": true
   },
   "outputs": [
    {
     "name": "stdout",
     "output_type": "stream",
     "text": [
      "Epoch 1/200\n",
      "12978/12978 [==============================] - 49s 4ms/step - loss: 8.8893e-04\n",
      "Epoch 2/200\n",
      "12978/12978 [==============================] - 47s 4ms/step - loss: 8.8212e-04\n",
      "Epoch 3/200\n",
      "12978/12978 [==============================] - 48s 4ms/step - loss: 8.7853e-04\n",
      "Epoch 4/200\n",
      "12978/12978 [==============================] - 46s 4ms/step - loss: 8.7290e-04\n",
      "Epoch 5/200\n",
      "12978/12978 [==============================] - 47s 4ms/step - loss: 8.6979e-04\n",
      "Epoch 6/200\n",
      "12978/12978 [==============================] - 47s 4ms/step - loss: 8.6608e-04\n",
      "Epoch 7/200\n",
      "12978/12978 [==============================] - 46s 4ms/step - loss: 8.6068e-04\n",
      "Epoch 8/200\n",
      "12978/12978 [==============================] - 45s 3ms/step - loss: 8.5463e-04\n",
      "Epoch 9/200\n",
      "12978/12978 [==============================] - 46s 4ms/step - loss: 8.5377e-04\n",
      "Epoch 10/200\n",
      "12978/12978 [==============================] - 48s 4ms/step - loss: 8.4750e-04\n",
      "Epoch 11/200\n",
      "12978/12978 [==============================] - 52s 4ms/step - loss: 8.4376e-04\n",
      "Epoch 12/200\n",
      "12978/12978 [==============================] - 52s 4ms/step - loss: 8.4123e-04\n",
      "Epoch 13/200\n",
      "12978/12978 [==============================] - 58s 4ms/step - loss: 8.1944e-04\n",
      "Epoch 19/200\n",
      "12978/12978 [==============================] - 53s 4ms/step - loss: 8.1440e-04\n",
      "Epoch 20/200\n",
      "12978/12978 [==============================] - 52s 4ms/step - loss: 8.1049e-04\n",
      "Epoch 21/200\n",
      "12978/12978 [==============================] - 55s 4ms/step - loss: 8.0488e-04\n",
      "Epoch 22/200\n",
      "12978/12978 [==============================] - 59s 5ms/step - loss: 7.9283e-04\n",
      "Epoch 26/200\n",
      "12978/12978 [==============================] - 65s 5ms/step - loss: 7.6501e-04\n",
      "Epoch 34/200\n",
      "12978/12978 [==============================] - 69s 5ms/step - loss: 7.4728e-04\n",
      "Epoch 40/200\n",
      "12978/12978 [==============================] - 74s 6ms/step - loss: 7.4469e-04\n",
      "Epoch 41/200\n",
      "12978/12978 [==============================] - 64s 5ms/step - loss: 7.4122e-04\n",
      "Epoch 42/200\n",
      "12978/12978 [==============================] - 63s 5ms/step - loss: 7.3792e-04\n",
      "Epoch 43/200\n",
      "12978/12978 [==============================] - 64s 5ms/step - loss: 7.3665e-04\n",
      "Epoch 44/200\n",
      "12978/12978 [==============================] - 62s 5ms/step - loss: 7.3321e-04\n",
      "Epoch 45/200\n",
      "12978/12978 [==============================] - 61s 5ms/step - loss: 7.3054e-04\n",
      "Epoch 46/200\n",
      "12978/12978 [==============================] - 66s 5ms/step - loss: 7.2573e-04\n",
      "Epoch 47/200\n",
      "12978/12978 [==============================] - 61s 5ms/step - loss: 7.2468e-04\n",
      "Epoch 48/200\n",
      "12978/12978 [==============================] - 64s 5ms/step - loss: 7.1952e-04\n",
      "Epoch 50/200\n",
      "12978/12978 [==============================] - 58s 5ms/step - loss: 7.1601e-04\n",
      "Epoch 51/200\n",
      "12978/12978 [==============================] - 59s 5ms/step - loss: 7.1406e-04\n",
      "Epoch 52/200\n",
      "12978/12978 [==============================] - 68s 5ms/step - loss: 7.0911e-04\n",
      "Epoch 53/200\n",
      "12978/12978 [==============================] - 58s 5ms/step - loss: 7.0667e-04\n",
      "Epoch 54/200\n",
      "12978/12978 [==============================] - 71s 5ms/step - loss: 7.0399e-04\n",
      "Epoch 55/200\n",
      "12978/12978 [==============================] - 58s 4ms/step - loss: 6.8599e-04\n",
      "Epoch 62/200\n",
      "12978/12978 [==============================] - 115s 9ms/step - loss: 6.6724e-04\n",
      "Epoch 70/200\n",
      "12978/12978 [==============================] - 109s 8ms/step - loss: 6.5686e-04\n",
      "Epoch 74/200\n",
      "12978/12978 [==============================] - 105s 8ms/step - loss: 6.5468e-04\n",
      "Epoch 75/200\n",
      "12978/12978 [==============================] - 106s 8ms/step - loss: 6.5068e-04\n",
      "Epoch 76/200\n",
      "12978/12978 [==============================] - 107s 8ms/step - loss: 6.4417e-04\n",
      "Epoch 80/200\n",
      "12978/12978 [==============================] - 103s 8ms/step - loss: 6.4003e-04\n",
      "Epoch 81/200\n",
      "12978/12978 [==============================] - 101s 8ms/step - loss: 6.3272e-04\n",
      "Epoch 85/200\n",
      "12978/12978 [==============================] - 156s 12ms/step - loss: 6.2869e-04\n",
      "Epoch 86/200\n",
      "12978/12978 [==============================] - 124s 10ms/step - loss: 6.2976e-04\n",
      "Epoch 87/200\n",
      "12978/12978 [==============================] - 98s 8ms/step - loss: 6.2660e-04\n",
      "Epoch 88/200\n",
      "12978/12978 [==============================] - 108s 8ms/step - loss: 6.2477e-04\n",
      "Epoch 89/200\n",
      "12978/12978 [==============================] - 92s 7ms/step - loss: 6.2000e-04\n",
      "Epoch 90/200\n",
      "12978/12978 [==============================] - 89s 7ms/step - loss: 6.2038e-04\n",
      "Epoch 91/200\n",
      "12978/12978 [==============================] - 96s 7ms/step - loss: 6.1759e-04\n",
      "Epoch 92/200\n",
      "12978/12978 [==============================] - 98s 8ms/step - loss: 6.1510e-04\n",
      "Epoch 93/200\n",
      "12978/12978 [==============================] - 96s 7ms/step - loss: 6.1450e-04\n",
      "Epoch 94/200\n",
      "12978/12978 [==============================] - 102s 8ms/step - loss: 6.1110e-04\n",
      "Epoch 95/200\n",
      "12978/12978 [==============================] - 98s 8ms/step - loss: 6.1098e-04\n",
      "Epoch 96/200\n",
      "12978/12978 [==============================] - 92s 7ms/step - loss: 6.0864e-04\n",
      "Epoch 97/200\n",
      "12978/12978 [==============================] - 93s 7ms/step - loss: 6.0648e-04\n",
      "Epoch 98/200\n",
      "12978/12978 [==============================] - 88s 7ms/step - loss: 5.9866e-04\n",
      "Epoch 103/200\n",
      "12978/12978 [==============================] - 92s 7ms/step - loss: 5.9631e-04\n",
      "Epoch 104/200\n",
      "12978/12978 [==============================] - 98s 8ms/step - loss: 5.8672e-04\n",
      "Epoch 111/200\n",
      "12978/12978 [==============================] - 92s 7ms/step - loss: 5.8576e-04\n",
      "Epoch 112/200\n",
      "12978/12978 [==============================] - 90s 7ms/step - loss: 5.8603e-04\n",
      "Epoch 113/200\n",
      "12978/12978 [==============================] - 106s 8ms/step - loss: 5.7547e-04\n",
      "Epoch 120/200\n",
      "12978/12978 [==============================] - 107s 8ms/step - loss: 5.7273e-04\n",
      "Epoch 121/200\n",
      "12978/12978 [==============================] - 105s 8ms/step - loss: 5.7278e-04\n",
      "Epoch 122/200\n",
      "12978/12978 [==============================] - 111s 9ms/step - loss: 5.7152e-04\n",
      "Epoch 123/200\n",
      "12978/12978 [==============================] - 69s 5ms/step - loss: 5.6461e-04\n",
      "Epoch 131/200\n",
      "12978/12978 [==============================] - 63s 5ms/step - loss: 5.6322e-04\n",
      "Epoch 132/200\n",
      "12978/12978 [==============================] - 72s 6ms/step - loss: 5.5983e-04\n",
      "Epoch 133/200\n",
      "12978/12978 [==============================] - 67s 5ms/step - loss: 5.6266e-04\n",
      "Epoch 134/200\n",
      "12978/12978 [==============================] - 67s 5ms/step - loss: 5.6261e-04\n",
      "Epoch 135/200\n",
      "12978/12978 [==============================] - 64s 5ms/step - loss: 5.6005e-04\n",
      "Epoch 136/200\n",
      "12978/12978 [==============================] - 62s 5ms/step - loss: 5.6118e-04\n",
      "Epoch 137/200\n",
      "12978/12978 [==============================] - 73s 6ms/step - loss: 5.5536e-04\n",
      "Epoch 144/200\n",
      "12978/12978 [==============================] - 64s 5ms/step - loss: 5.5494e-04\n",
      "Epoch 145/200\n",
      "12978/12978 [==============================] - 67s 5ms/step - loss: 5.5582e-04\n",
      "Epoch 146/200\n",
      "12978/12978 [==============================] - 63s 5ms/step - loss: 5.5576e-04\n",
      "Epoch 147/200\n",
      "12978/12978 [==============================] - 61s 5ms/step - loss: 5.5341e-04\n",
      "Epoch 148/200\n",
      "12978/12978 [==============================] - 63s 5ms/step - loss: 5.5158e-04\n",
      "Epoch 149/200\n",
      "12978/12978 [==============================] - 60s 5ms/step - loss: 5.5177e-04\n",
      "Epoch 150/200\n",
      "12978/12978 [==============================] - 55s 4ms/step - loss: 5.5288e-04\n",
      "Epoch 151/200\n",
      "12978/12978 [==============================] - 55s 4ms/step - loss: 5.5086e-04\n",
      "Epoch 152/200\n",
      "12978/12978 [==============================] - 54s 4ms/step - loss: 5.5192e-04\n",
      "Epoch 153/200\n",
      "12978/12978 [==============================] - 55s 4ms/step - loss: 5.5296e-04\n",
      "Epoch 154/200\n",
      "12978/12978 [==============================] - 57s 4ms/step - loss: 5.4968e-04\n",
      "Epoch 155/200\n",
      "12978/12978 [==============================] - 54s 4ms/step - loss: 5.5012e-04\n",
      "Epoch 156/200\n",
      "12978/12978 [==============================] - 54s 4ms/step - loss: 5.5119e-04\n",
      "Epoch 157/200\n",
      "12978/12978 [==============================] - 54s 4ms/step - loss: 5.4843e-04\n",
      "Epoch 158/200\n",
      "12978/12978 [==============================] - 55s 4ms/step - loss: 5.4846e-04\n",
      "Epoch 159/200\n",
      "12978/12978 [==============================] - 59s 5ms/step - loss: 5.4824e-04\n",
      "Epoch 160/200\n",
      "12978/12978 [==============================] - 54s 4ms/step - loss: 5.4764e-04\n",
      "Epoch 161/200\n",
      "12978/12978 [==============================] - 55s 4ms/step - loss: 5.4807e-04\n",
      "Epoch 162/200\n",
      "12978/12978 [==============================] - 60s 5ms/step - loss: 5.4767e-04\n",
      "Epoch 163/200\n",
      "12978/12978 [==============================] - 56s 4ms/step - loss: 5.4803e-04\n",
      "Epoch 164/200\n",
      "12978/12978 [==============================] - 56s 4ms/step - loss: 5.4755e-04\n",
      "Epoch 165/200\n",
      "12978/12978 [==============================] - 56s 4ms/step - loss: 5.4925e-04\n",
      "Epoch 166/200\n",
      "12978/12978 [==============================] - 55s 4ms/step - loss: 5.4794e-04\n",
      "Epoch 167/200\n",
      "12978/12978 [==============================] - 56s 4ms/step - loss: 5.4744e-04\n",
      "Epoch 168/200\n",
      "12978/12978 [==============================] - 52s 4ms/step - loss: 5.4633e-04\n",
      "Epoch 169/200\n",
      "12978/12978 [==============================] - 51s 4ms/step - loss: 5.4749e-04\n",
      "Epoch 170/200\n",
      "12978/12978 [==============================] - 53s 4ms/step - loss: 5.4650e-04\n",
      "Epoch 171/200\n",
      "12978/12978 [==============================] - 54s 4ms/step - loss: 5.4798e-04\n",
      "Epoch 172/200\n",
      "12978/12978 [==============================] - 54s 4ms/step - loss: 5.4697e-04\n",
      "Epoch 173/200\n",
      "12978/12978 [==============================] - 60s 5ms/step - loss: 5.4709e-04\n",
      "Epoch 174/200\n",
      "12978/12978 [==============================] - 57s 4ms/step - loss: 5.4581e-04\n",
      "Epoch 175/200\n",
      "12978/12978 [==============================] - 56s 4ms/step - loss: 5.4526e-04\n",
      "Epoch 176/200\n",
      "12978/12978 [==============================] - 53s 4ms/step - loss: 5.4467e-04\n",
      "Epoch 177/200\n",
      "12978/12978 [==============================] - 51s 4ms/step - loss: 5.4501e-04\n",
      "Epoch 178/200\n",
      "12978/12978 [==============================] - 48s 4ms/step - loss: 5.4643e-04\n",
      "Epoch 179/200\n",
      "12978/12978 [==============================] - 48s 4ms/step - loss: 5.4583e-04\n",
      "Epoch 180/200\n",
      "12978/12978 [==============================] - 49s 4ms/step - loss: 5.4610e-04\n",
      "Epoch 181/200\n",
      "12978/12978 [==============================] - 49s 4ms/step - loss: 5.4655e-04\n",
      "Epoch 182/200\n",
      "12978/12978 [==============================] - 48s 4ms/step - loss: 5.4623e-04\n",
      "Epoch 183/200\n",
      "12978/12978 [==============================] - 48s 4ms/step - loss: 5.4468e-04\n",
      "Epoch 184/200\n",
      "12978/12978 [==============================] - 47s 4ms/step - loss: 5.4294e-04\n",
      "Epoch 185/200\n",
      "12978/12978 [==============================] - 49s 4ms/step - loss: 5.4498e-04\n",
      "Epoch 186/200\n",
      "12978/12978 [==============================] - 59s 5ms/step - loss: 5.4567e-04\n",
      "Epoch 187/200\n",
      "12978/12978 [==============================] - 57s 4ms/step - loss: 5.4570e-04\n",
      "Epoch 188/200\n",
      "12978/12978 [==============================] - 53s 4ms/step - loss: 5.4545e-04\n",
      "Epoch 191/200\n",
      "12978/12978 [==============================] - 55s 4ms/step - loss: 5.4621e-04\n",
      "Epoch 192/200\n",
      "12978/12978 [==============================] - 51s 4ms/step - loss: 5.4396e-04\n",
      "Epoch 193/200\n",
      "12978/12978 [==============================] - 84s 6ms/step - loss: 5.4400e-04\n",
      "Epoch 194/200\n",
      "12978/12978 [==============================] - 91s 7ms/step - loss: 5.4407e-04\n",
      "Epoch 195/200\n",
      "12978/12978 [==============================] - 100s 8ms/step - loss: 5.4348e-04\n",
      "Epoch 196/200\n",
      "12978/12978 [==============================] - 94s 7ms/step - loss: 5.4382e-04\n",
      "Epoch 197/200\n",
      "12978/12978 [==============================] - 92s 7ms/step - loss: 5.4439e-04\n",
      "Epoch 198/200\n",
      "12978/12978 [==============================] - 92s 7ms/step - loss: 5.4470e-04\n",
      "Epoch 199/200\n",
      "12978/12978 [==============================] - 88s 7ms/step - loss: 5.4476e-04\n",
      "Epoch 200/200\n",
      "12864/12978 [============================>.] - ETA: 0s - loss: 5.4783e-04"
     ]
    }
   ],
   "source": [
    "# Fitting the RNN to the Training set\n",
    "regressor.fit(X_train, y_train, epochs = 200, batch_size = 32)"
   ]
  },
  {
   "cell_type": "code",
   "execution_count": 98,
   "metadata": {
    "collapsed": false
   },
   "outputs": [
    {
     "name": "stdout",
     "output_type": "stream",
     "text": [
      "model built successfully\n"
     ]
    }
   ],
   "source": [
    "print('model built successfully')\n",
    "#regressor.save('/home/rootuser/arj/ticket/model/dns-sgd(200 epo- 80 neuron-200 time).h5') \n",
    "regressor.save('model/dns-sgd(200 epo- 50 neuron-150 time).h5') "
   ]
  },
  {
   "cell_type": "code",
   "execution_count": 99,
   "metadata": {
    "collapsed": true
   },
   "outputs": [],
   "source": [
    "\n",
    "real_pattern_prediction=df[len(df)-3000:]"
   ]
  },
  {
   "cell_type": "code",
   "execution_count": 100,
   "metadata": {
    "collapsed": false
   },
   "outputs": [
    {
     "data": {
      "text/html": [
       "<div>\n",
       "<table border=\"1\" class=\"dataframe\">\n",
       "  <thead>\n",
       "    <tr style=\"text-align: right;\">\n",
       "      <th></th>\n",
       "      <th>Timestamp</th>\n",
       "      <th>Utilization(bps)</th>\n",
       "    </tr>\n",
       "  </thead>\n",
       "  <tbody>\n",
       "    <tr>\n",
       "      <th>440582</th>\n",
       "      <td>2019-03-05 00:30:00</td>\n",
       "      <td>499.875</td>\n",
       "    </tr>\n",
       "    <tr>\n",
       "      <th>440627</th>\n",
       "      <td>2019-03-05 00:35:00</td>\n",
       "      <td>825.750</td>\n",
       "    </tr>\n",
       "    <tr>\n",
       "      <th>440649</th>\n",
       "      <td>2019-03-05 00:40:00</td>\n",
       "      <td>479.125</td>\n",
       "    </tr>\n",
       "    <tr>\n",
       "      <th>440704</th>\n",
       "      <td>2019-03-05 00:45:00</td>\n",
       "      <td>552.375</td>\n",
       "    </tr>\n",
       "    <tr>\n",
       "      <th>440761</th>\n",
       "      <td>2019-03-05 00:50:00</td>\n",
       "      <td>642.500</td>\n",
       "    </tr>\n",
       "  </tbody>\n",
       "</table>\n",
       "</div>"
      ],
      "text/plain": [
       "                  Timestamp  Utilization(bps)\n",
       "440582  2019-03-05 00:30:00           499.875\n",
       "440627  2019-03-05 00:35:00           825.750\n",
       "440649  2019-03-05 00:40:00           479.125\n",
       "440704  2019-03-05 00:45:00           552.375\n",
       "440761  2019-03-05 00:50:00           642.500"
      ]
     },
     "execution_count": 100,
     "metadata": {},
     "output_type": "execute_result"
    }
   ],
   "source": [
    "real_pattern_prediction.head()"
   ]
  },
  {
   "cell_type": "code",
   "execution_count": 101,
   "metadata": {
    "collapsed": false
   },
   "outputs": [
    {
     "data": {
      "text/html": [
       "<div>\n",
       "<table border=\"1\" class=\"dataframe\">\n",
       "  <thead>\n",
       "    <tr style=\"text-align: right;\">\n",
       "      <th></th>\n",
       "      <th>Timestamp</th>\n",
       "      <th>Utilization(bps)</th>\n",
       "    </tr>\n",
       "  </thead>\n",
       "  <tbody>\n",
       "    <tr>\n",
       "      <th>0</th>\n",
       "      <td>2019-01-18 08:55:00</td>\n",
       "      <td>105.0</td>\n",
       "    </tr>\n",
       "    <tr>\n",
       "      <th>9</th>\n",
       "      <td>2019-01-18 09:00:00</td>\n",
       "      <td>212.5</td>\n",
       "    </tr>\n",
       "    <tr>\n",
       "      <th>20</th>\n",
       "      <td>2019-01-18 09:05:00</td>\n",
       "      <td>105.0</td>\n",
       "    </tr>\n",
       "    <tr>\n",
       "      <th>21</th>\n",
       "      <td>2019-01-18 09:10:00</td>\n",
       "      <td>340.0</td>\n",
       "    </tr>\n",
       "    <tr>\n",
       "      <th>34</th>\n",
       "      <td>2019-01-18 09:15:00</td>\n",
       "      <td>142.5</td>\n",
       "    </tr>\n",
       "  </tbody>\n",
       "</table>\n",
       "</div>"
      ],
      "text/plain": [
       "              Timestamp  Utilization(bps)\n",
       "0   2019-01-18 08:55:00             105.0\n",
       "9   2019-01-18 09:00:00             212.5\n",
       "20  2019-01-18 09:05:00             105.0\n",
       "21  2019-01-18 09:10:00             340.0\n",
       "34  2019-01-18 09:15:00             142.5"
      ]
     },
     "execution_count": 101,
     "metadata": {},
     "output_type": "execute_result"
    }
   ],
   "source": [
    "training_set.head()"
   ]
  },
  {
   "cell_type": "code",
   "execution_count": 102,
   "metadata": {
    "collapsed": false
   },
   "outputs": [],
   "source": [
    "\n",
    "# Getting the Random predictiond data\n",
    "dataset_total = pd.concat((training_set['Utilization(bps)'], real_pattern_prediction['Utilization(bps)']), axis = 0)\n",
    "inputs = dataset_total[len(dataset_total) - len(real_pattern_prediction) - 150:].values\n",
    "inputs = inputs.reshape(-1,1)\n",
    "inputs = sc.transform(inputs)\n",
    "X_test = []\n",
    "for i in range(150, len(real_pattern_prediction)+150):\n",
    "    X_test.append(inputs[i-150:i, 0])\n",
    "X_test = np.array(X_test)\n",
    "X_test = np.reshape(X_test, (X_test.shape[0], X_test.shape[1], 1))\n",
    "predicted_pattern = regressor.predict(X_test)\n",
    "predicted_pattern = sc.inverse_transform(predicted_pattern)"
   ]
  },
  {
   "cell_type": "code",
   "execution_count": 103,
   "metadata": {
    "collapsed": false
   },
   "outputs": [
    {
     "data": {
      "image/png": "[encoded data removed]",
      "text/plain": [
       "<Figure size 600x400 with 1 Axes>"
      ]
     },
     "metadata": {},
     "output_type": "display_data"
    }
   ],
   "source": [
    "import matplotlib.pyplot as plt\n",
    "%matplotlib inline\n",
    "real_pattern_prediction=real_pattern_prediction.iloc[:, 1:2].values\n",
    "# Visualising the results\n",
    "plt.plot(real_pattern_prediction, color = 'red', label = 'Real Pattern Number')\n",
    "plt.plot(predicted_pattern, color = 'blue', label = 'Predicted Pattern Number')\n",
    "plt.title('Pattern Number Prediction')\n",
    "plt.xlabel('record')\n",
    "plt.ylabel('Pattern Number')\n",
    "plt.legend()\n",
    "plt.show()"
   ]
  },
  {
   "cell_type": "code",
   "execution_count": null,
   "metadata": {
    "collapsed": true
   },
   "outputs": [],
   "source": []
  }
 ],
 "metadata": {
  "anaconda-cloud": {},
  "kernelspec": {
   "display_name": "Python [Anaconda3]",
   "language": "python",
   "name": "Python [Anaconda3]"
  },
  "language_info": {
   "codemirror_mode": {
    "name": "ipython",
    "version": 3
   },
   "file_extension": ".py",
   "mimetype": "text/x-python",
   "name": "python",
   "nbconvert_exporter": "python",
   "pygments_lexer": "ipython3",
   "version": "3.5.2"
  }
 },
 "nbformat": 4,
 "nbformat_minor": 0
}

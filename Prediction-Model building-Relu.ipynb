{
 "cells": [
  {
   "cell_type": "code",
   "execution_count": 1,
   "metadata": {
    "collapsed": true
   },
   "outputs": [],
   "source": [
    "import pandas as pd\n",
    "import numpy as np"
   ]
  },
  {
   "cell_type": "code",
   "execution_count": 2,
   "metadata": {
    "collapsed": false
   },
   "outputs": [],
   "source": [
    "#preprocessed_df=pd.read_csv('/home/rootuser/arj/ticket/Data/preprocessed_data.csv')\n",
    "preprocessed_df=pd.read_csv('Data/preprocessed_data.csv')\n",
    "preprocessed_df.drop(['Unnamed: 0'],1,inplace=True)"
   ]
  },
  {
   "cell_type": "code",
   "execution_count": 3,
   "metadata": {
    "collapsed": false
   },
   "outputs": [
    {
     "data": {
      "text/html": [
       "<div>\n",
       "<table border=\"1\" class=\"dataframe\">\n",
       "  <thead>\n",
       "    <tr style=\"text-align: right;\">\n",
       "      <th></th>\n",
       "      <th>Hostname</th>\n",
       "      <th>Application</th>\n",
       "      <th>Utilization(kb)</th>\n",
       "      <th>Timestamp</th>\n",
       "    </tr>\n",
       "  </thead>\n",
       "  <tbody>\n",
       "    <tr>\n",
       "      <th>0</th>\n",
       "      <td>vdevice-host-name</td>\n",
       "      <td>dns</td>\n",
       "      <td>0.10</td>\n",
       "      <td>2019-01-18 08:55:00</td>\n",
       "    </tr>\n",
       "    <tr>\n",
       "      <th>1</th>\n",
       "      <td>vdevice-host-name</td>\n",
       "      <td>tcp</td>\n",
       "      <td>0.00</td>\n",
       "      <td>2019-01-18 08:55:00</td>\n",
       "    </tr>\n",
       "    <tr>\n",
       "      <th>2</th>\n",
       "      <td>vdevice-host-name</td>\n",
       "      <td>https</td>\n",
       "      <td>2.78</td>\n",
       "      <td>2019-01-18 08:55:00</td>\n",
       "    </tr>\n",
       "    <tr>\n",
       "      <th>3</th>\n",
       "      <td>vdevice-host-name</td>\n",
       "      <td>google_gen</td>\n",
       "      <td>0.00</td>\n",
       "      <td>2019-01-18 08:55:00</td>\n",
       "    </tr>\n",
       "    <tr>\n",
       "      <th>4</th>\n",
       "      <td>vdevice-host-name</td>\n",
       "      <td>firefox_update</td>\n",
       "      <td>0.00</td>\n",
       "      <td>2019-01-18 08:55:00</td>\n",
       "    </tr>\n",
       "  </tbody>\n",
       "</table>\n",
       "</div>"
      ],
      "text/plain": [
       "            Hostname     Application  Utilization(kb)            Timestamp\n",
       "0  vdevice-host-name             dns             0.10  2019-01-18 08:55:00\n",
       "1  vdevice-host-name             tcp             0.00  2019-01-18 08:55:00\n",
       "2  vdevice-host-name           https             2.78  2019-01-18 08:55:00\n",
       "3  vdevice-host-name      google_gen             0.00  2019-01-18 08:55:00\n",
       "4  vdevice-host-name  firefox_update             0.00  2019-01-18 08:55:00"
      ]
     },
     "execution_count": 3,
     "metadata": {},
     "output_type": "execute_result"
    }
   ],
   "source": [
    "preprocessed_df.head()"
   ]
  },
  {
   "cell_type": "code",
   "execution_count": 4,
   "metadata": {
    "collapsed": true
   },
   "outputs": [],
   "source": [
    "application_name=['dns','https']"
   ]
  },
  {
   "cell_type": "code",
   "execution_count": 6,
   "metadata": {
    "collapsed": false
   },
   "outputs": [
    {
     "name": "stdout",
     "output_type": "stream",
     "text": [
      "(15982, 2)\n"
     ]
    }
   ],
   "source": [
    "# for i in application_name:\n",
    "    \n",
    "df=preprocessed_df.loc[preprocessed_df['Application'] == 'dns']\n",
    "df=df[['Timestamp','Utilization(kb)']]\n",
    "training_set=df[0:len(df)-150]\n",
    "print(training_set.shape)\n",
    "training_set_sliced = training_set.iloc[:, 1:2].values\n"
   ]
  },
  {
   "cell_type": "code",
   "execution_count": null,
   "metadata": {
    "collapsed": false
   },
   "outputs": [],
   "source": []
  },
  {
   "cell_type": "code",
   "execution_count": 7,
   "metadata": {
    "collapsed": false
   },
   "outputs": [],
   "source": [
    "# Feature Scaling\n",
    "from sklearn.preprocessing import MinMaxScaler\n",
    "sc = MinMaxScaler()\n",
    "training_set_scaled = sc.fit_transform(training_set_sliced)\n"
   ]
  },
  {
   "cell_type": "code",
   "execution_count": 8,
   "metadata": {
    "collapsed": false
   },
   "outputs": [],
   "source": [
    "# Creating a data structure with 100 timesteps and 1 output\n",
    "X_train = []\n",
    "y_train = []\n",
    "for i in range(12, len(training_set)):\n",
    "    X_train.append(training_set_scaled[i-12:i, 0])\n",
    "    y_train.append(training_set_scaled[i, 0])\n",
    "X_train, y_train = np.array(X_train), np.array(y_train)\n",
    "\n",
    "# Reshaping\n",
    "X_train = np.reshape(X_train, (X_train.shape[0], X_train.shape[1], 1))"
   ]
  },
  {
   "cell_type": "code",
   "execution_count": 9,
   "metadata": {
    "collapsed": false
   },
   "outputs": [
    {
     "data": {
      "text/plain": [
       "(15970, 12, 1)"
      ]
     },
     "execution_count": 9,
     "metadata": {},
     "output_type": "execute_result"
    }
   ],
   "source": [
    "X_train.shape"
   ]
  },
  {
   "cell_type": "code",
   "execution_count": 10,
   "metadata": {
    "collapsed": false
   },
   "outputs": [
    {
     "data": {
      "text/plain": [
       "(15970,)"
      ]
     },
     "execution_count": 10,
     "metadata": {},
     "output_type": "execute_result"
    }
   ],
   "source": [
    "y_train.shape"
   ]
  },
  {
   "cell_type": "code",
   "execution_count": 22,
   "metadata": {
    "collapsed": false
   },
   "outputs": [],
   "source": [
    "\n",
    "# Importing the Keras libraries and packages\n",
    "from keras.models import Sequential\n",
    "from keras.layers import Dense , BatchNormalization , Dropout , Activation\n",
    "from keras.layers import LSTM , GRU\n",
    "from sklearn.preprocessing import MinMaxScaler\n",
    "from sklearn.metrics import mean_squared_error\n",
    "from keras.optimizers import Adam , SGD , RMSprop\n",
    "\n"
   ]
  },
  {
   "cell_type": "code",
   "execution_count": null,
   "metadata": {
    "collapsed": false
   },
   "outputs": [],
   "source": [
    "filepath=\"stock_weights.hdf5\"\n",
    "from keras.callbacks import ReduceLROnPlateau , ModelCheckpoint\n",
    "lr_reduce = ReduceLROnPlateau(monitor='val_loss', factor=0.1, epsilon=0.0001, patience=1, verbose=1)\n",
    "checkpoint = ModelCheckpoint(filepath, monitor='val_loss', verbose=1, save_best_only=True, mode='max')"
   ]
  },
  {
   "cell_type": "code",
   "execution_count": 28,
   "metadata": {
    "collapsed": false
   },
   "outputs": [
    {
     "name": "stdout",
     "output_type": "stream",
     "text": [
      "_________________________________________________________________\n",
      "Layer (type)                 Output Shape              Param #   \n",
      "=================================================================\n",
      "gru_1 (GRU)                  (None, 12, 256)           198144    \n",
      "_________________________________________________________________\n",
      "dropout_2 (Dropout)          (None, 12, 256)           0         \n",
      "_________________________________________________________________\n",
      "lstm_3 (LSTM)                (None, 256)               525312    \n",
      "_________________________________________________________________\n",
      "dropout_3 (Dropout)          (None, 256)               0         \n",
      "_________________________________________________________________\n",
      "dense_2 (Dense)              (None, 64)                16448     \n",
      "_________________________________________________________________\n",
      "dense_3 (Dense)              (None, 1)                 65        \n",
      "=================================================================\n",
      "Total params: 739,969\n",
      "Trainable params: 739,969\n",
      "Non-trainable params: 0\n",
      "_________________________________________________________________\n",
      "None\n"
     ]
    }
   ],
   "source": [
    "# # Initialising the RNN\n",
    "# regressor = Sequential()\n",
    "\n",
    "# # Adding the first LSTM layer and some Dropout regularisation\n",
    "# regressor.add(LSTM(units = 100, activation = 'relu',return_sequences=True,input_shape = (X_train.shape[1], 1)))\n",
    "\n",
    "# regressor.add(Dropout(0.2))\n",
    "# regressor.add(LSTM(units = 50, activation = 'relu'))\n",
    "# # Adding the output layer\n",
    "# regressor.add(Dense(units = 1))\n",
    "# #regressor.add(Activation(\"linear\"))\n",
    "# # Compiling the RNN\n",
    "# #regressor.compile(optimizer = 'adam', loss = 'mean_squared_error', metrics=['accuracy'])\n",
    "# regressor.compile(loss=\"mse\", optimizer=\"adam\",metrics=['accuracy'])\n",
    "\n",
    "\n",
    "model = Sequential()\n",
    "model.add(GRU(256 , input_shape = (X_train.shape[1], 1), return_sequences=True))\n",
    "model.add(Dropout(0.3))\n",
    "model.add(LSTM(256))\n",
    "model.add(Dropout(0.3))\n",
    "model.add(Dense(64 ,  activation = 'relu'))\n",
    "model.add(Dense(1))\n",
    "print(model.summary())\n"
   ]
  },
  {
   "cell_type": "code",
   "execution_count": 29,
   "metadata": {
    "collapsed": false
   },
   "outputs": [],
   "source": [
    "model.compile(loss='mean_squared_error', optimizer=Adam(lr = 0.0005) , metrics = ['mean_squared_error'])"
   ]
  },
  {
   "cell_type": "code",
   "execution_count": 31,
   "metadata": {
    "collapsed": false
   },
   "outputs": [
    {
     "name": "stdout",
     "output_type": "stream",
     "text": [
      "Epoch 1/100\n",
      "15970/15970 [==============================] - 19s 1ms/step - loss: 6.8966e-04 - mean_squared_error: 6.8966e-04\n",
      "Epoch 2/100\n"
     ]
    },
    {
     "name": "stderr",
     "output_type": "stream",
     "text": [
      "C:\\Anaconda3\\lib\\site-packages\\keras\\callbacks.py:434: RuntimeWarning: Can save best model only with val_loss available, skipping.\n",
      "  'skipping.' % (self.monitor), RuntimeWarning)\n",
      "C:\\Anaconda3\\lib\\site-packages\\keras\\callbacks.py:1109: RuntimeWarning: Reduce LR on plateau conditioned on metric `val_loss` which is not available. Available metrics are: mean_squared_error,loss,lr\n",
      "  (self.monitor, ','.join(list(logs.keys()))), RuntimeWarning\n"
     ]
    },
    {
     "name": "stdout",
     "output_type": "stream",
     "text": [
      "15970/15970 [==============================] - 17s 1ms/step - loss: 6.3547e-04 - mean_squared_error: 6.3547e-04\n",
      "Epoch 3/100\n",
      "15970/15970 [==============================] - 18s 1ms/step - loss: 5.7375e-04 - mean_squared_error: 5.7375e-04\n",
      "Epoch 4/100\n",
      "15970/15970 [==============================] - 18s 1ms/step - loss: 5.9205e-04 - mean_squared_error: 5.9205e-04\n",
      "Epoch 5/100\n",
      "15970/15970 [==============================] - 18s 1ms/step - loss: 5.8383e-04 - mean_squared_error: 5.8383e-04\n",
      "Epoch 6/100\n",
      "15970/15970 [==============================] - 18s 1ms/step - loss: 5.7935e-04 - mean_squared_error: 5.7935e-04\n",
      "Epoch 7/100\n",
      "15970/15970 [==============================] - 18s 1ms/step - loss: 5.7774e-04 - mean_squared_error: 5.7774e-04\n",
      "Epoch 8/100\n",
      "15970/15970 [==============================] - 19s 1ms/step - loss: 5.7836e-04 - mean_squared_error: 5.7836e-04\n",
      "Epoch 9/100\n",
      "15970/15970 [==============================] - 20s 1ms/step - loss: 5.7649e-04 - mean_squared_error: 5.7649e-04\n",
      "Epoch 10/100\n",
      "15970/15970 [==============================] - 19s 1ms/step - loss: 5.6603e-04 - mean_squared_error: 5.6603e-04\n",
      "Epoch 11/100\n",
      "15970/15970 [==============================] - 20s 1ms/step - loss: 5.6737e-04 - mean_squared_error: 5.6737e-04\n",
      "Epoch 12/100\n",
      "15970/15970 [==============================] - 19s 1ms/step - loss: 5.5719e-04 - mean_squared_error: 5.5719e-04\n",
      "Epoch 13/100\n",
      "15970/15970 [==============================] - 18s 1ms/step - loss: 5.6524e-04 - mean_squared_error: 5.6524e-04\n",
      "Epoch 14/100\n",
      "15970/15970 [==============================] - 18s 1ms/step - loss: 5.6184e-04 - mean_squared_error: 5.6184e-04\n",
      "Epoch 15/100\n",
      "15970/15970 [==============================] - 19s 1ms/step - loss: 5.4787e-04 - mean_squared_error: 5.4787e-04\n",
      "Epoch 16/100\n",
      "15970/15970 [==============================] - 18s 1ms/step - loss: 5.5116e-04 - mean_squared_error: 5.5116e-04\n",
      "Epoch 17/100\n",
      "15970/15970 [==============================] - 18s 1ms/step - loss: 5.5017e-04 - mean_squared_error: 5.5017e-04\n",
      "Epoch 18/100\n",
      "15970/15970 [==============================] - 18s 1ms/step - loss: 5.4862e-04 - mean_squared_error: 5.4862e-04\n",
      "Epoch 19/100\n",
      "15970/15970 [==============================] - 20s 1ms/step - loss: 5.5340e-04 - mean_squared_error: 5.5340e-04\n",
      "Epoch 20/100\n",
      "15970/15970 [==============================] - 18s 1ms/step - loss: 5.4999e-04 - mean_squared_error: 5.4999e-04\n",
      "Epoch 21/100\n",
      "15970/15970 [==============================] - 18s 1ms/step - loss: 5.5069e-04 - mean_squared_error: 5.5069e-04\n",
      "Epoch 22/100\n",
      "15970/15970 [==============================] - 18s 1ms/step - loss: 5.4919e-04 - mean_squared_error: 5.4919e-04\n",
      "Epoch 23/100\n",
      "15970/15970 [==============================] - 18s 1ms/step - loss: 5.4608e-04 - mean_squared_error: 5.4608e-04\n",
      "Epoch 24/100\n",
      "15970/15970 [==============================] - 18s 1ms/step - loss: 5.5398e-04 - mean_squared_error: 5.5398e-04\n",
      "Epoch 25/100\n",
      "15970/15970 [==============================] - 19s 1ms/step - loss: 5.5116e-04 - mean_squared_error: 5.5116e-04\n",
      "Epoch 26/100\n",
      "15970/15970 [==============================] - 19s 1ms/step - loss: 5.4535e-04 - mean_squared_error: 5.4535e-04\n",
      "Epoch 27/100\n",
      "15970/15970 [==============================] - 18s 1ms/step - loss: 5.4492e-04 - mean_squared_error: 5.4492e-04\n",
      "Epoch 28/100\n",
      "15970/15970 [==============================] - 19s 1ms/step - loss: 5.4772e-04 - mean_squared_error: 5.4772e-04\n",
      "Epoch 29/100\n",
      "15970/15970 [==============================] - 19s 1ms/step - loss: 5.4373e-04 - mean_squared_error: 5.4373e-04\n",
      "Epoch 30/100\n",
      "15970/15970 [==============================] - 17s 1ms/step - loss: 5.4265e-04 - mean_squared_error: 5.4265e-04\n",
      "Epoch 31/100\n",
      "15970/15970 [==============================] - 18s 1ms/step - loss: 5.4186e-04 - mean_squared_error: 5.4186e-04\n",
      "Epoch 32/100\n",
      "15970/15970 [==============================] - 17s 1ms/step - loss: 5.4406e-04 - mean_squared_error: 5.4406e-04\n",
      "Epoch 33/100\n",
      "15970/15970 [==============================] - 19s 1ms/step - loss: 5.4018e-04 - mean_squared_error: 5.4018e-04\n",
      "Epoch 34/100\n",
      "15970/15970 [==============================] - 18s 1ms/step - loss: 5.3787e-04 - mean_squared_error: 5.3787e-04\n",
      "Epoch 35/100\n",
      "15970/15970 [==============================] - 17s 1ms/step - loss: 5.3946e-04 - mean_squared_error: 5.3946e-04\n",
      "Epoch 36/100\n",
      "15970/15970 [==============================] - 18s 1ms/step - loss: 5.3808e-04 - mean_squared_error: 5.3808e-04\n",
      "Epoch 37/100\n",
      "15970/15970 [==============================] - 18s 1ms/step - loss: 5.4021e-04 - mean_squared_error: 5.4021e-04\n",
      "Epoch 38/100\n",
      "15970/15970 [==============================] - 18s 1ms/step - loss: 5.3670e-04 - mean_squared_error: 5.3670e-04\n",
      "Epoch 39/100\n",
      "15970/15970 [==============================] - 17s 1ms/step - loss: 5.3706e-04 - mean_squared_error: 5.3706e-04\n",
      "Epoch 40/100\n",
      "15970/15970 [==============================] - 19s 1ms/step - loss: 5.3552e-04 - mean_squared_error: 5.3552e-04\n",
      "Epoch 41/100\n",
      "15970/15970 [==============================] - 17s 1ms/step - loss: 5.3804e-04 - mean_squared_error: 5.3804e-04\n",
      "Epoch 42/100\n",
      "15970/15970 [==============================] - 17s 1ms/step - loss: 5.3878e-04 - mean_squared_error: 5.3878e-04\n",
      "Epoch 43/100\n",
      "15970/15970 [==============================] - 17s 1ms/step - loss: 5.3476e-04 - mean_squared_error: 5.3476e-04\n",
      "Epoch 44/100\n",
      "15970/15970 [==============================] - 18s 1ms/step - loss: 5.3728e-04 - mean_squared_error: 5.3728e-04\n",
      "Epoch 45/100\n",
      "15970/15970 [==============================] - 17s 1ms/step - loss: 5.3698e-04 - mean_squared_error: 5.3698e-04\n",
      "Epoch 46/100\n",
      "15970/15970 [==============================] - 18s 1ms/step - loss: 5.4016e-04 - mean_squared_error: 5.4016e-04\n",
      "Epoch 47/100\n",
      "15970/15970 [==============================] - 19s 1ms/step - loss: 5.3771e-04 - mean_squared_error: 5.3771e-04\n",
      "Epoch 48/100\n",
      "15970/15970 [==============================] - 18s 1ms/step - loss: 5.3738e-04 - mean_squared_error: 5.3738e-04\n",
      "Epoch 49/100\n",
      "15970/15970 [==============================] - 17s 1ms/step - loss: 5.3708e-04 - mean_squared_error: 5.3708e-04\n",
      "Epoch 50/100\n",
      "15970/15970 [==============================] - 23s 1ms/step - loss: 5.3586e-04 - mean_squared_error: 5.3586e-04\n",
      "Epoch 51/100\n",
      "15970/15970 [==============================] - 22s 1ms/step - loss: 5.3333e-04 - mean_squared_error: 5.3333e-04\n",
      "Epoch 52/100\n",
      "15970/15970 [==============================] - 22s 1ms/step - loss: 5.3727e-04 - mean_squared_error: 5.3727e-04\n",
      "Epoch 53/100\n",
      "15970/15970 [==============================] - 21s 1ms/step - loss: 5.3654e-04 - mean_squared_error: 5.3654e-04\n",
      "Epoch 54/100\n",
      "15970/15970 [==============================] - 22s 1ms/step - loss: 5.3434e-04 - mean_squared_error: 5.3434e-04\n",
      "Epoch 55/100\n",
      "15970/15970 [==============================] - 21s 1ms/step - loss: 5.3517e-04 - mean_squared_error: 5.3517e-04\n",
      "Epoch 56/100\n",
      "15970/15970 [==============================] - 24s 1ms/step - loss: 5.3550e-04 - mean_squared_error: 5.3550e-04\n",
      "Epoch 57/100\n",
      "15970/15970 [==============================] - 25s 2ms/step - loss: 5.3341e-04 - mean_squared_error: 5.3341e-04\n",
      "Epoch 58/100\n",
      "15970/15970 [==============================] - 20s 1ms/step - loss: 5.4080e-04 - mean_squared_error: 5.4080e-04\n",
      "Epoch 59/100\n",
      "15970/15970 [==============================] - 23s 1ms/step - loss: 5.3043e-04 - mean_squared_error: 5.3043e-04\n",
      "Epoch 60/100\n",
      "15970/15970 [==============================] - 20s 1ms/step - loss: 5.2939e-04 - mean_squared_error: 5.2939e-04\n",
      "Epoch 61/100\n",
      "15970/15970 [==============================] - 22s 1ms/step - loss: 5.3587e-04 - mean_squared_error: 5.3587e-04\n",
      "Epoch 62/100\n",
      "15970/15970 [==============================] - 21s 1ms/step - loss: 5.3872e-04 - mean_squared_error: 5.3872e-04\n",
      "Epoch 63/100\n",
      "15970/15970 [==============================] - 23s 1ms/step - loss: 5.3366e-04 - mean_squared_error: 5.3366e-04\n",
      "Epoch 64/100\n",
      "15970/15970 [==============================] - 25s 2ms/step - loss: 5.3384e-04 - mean_squared_error: 5.3384e-04\n",
      "Epoch 65/100\n",
      "15970/15970 [==============================] - 22s 1ms/step - loss: 5.3463e-04 - mean_squared_error: 5.3463e-04\n",
      "Epoch 66/100\n",
      "15970/15970 [==============================] - 21s 1ms/step - loss: 5.3373e-04 - mean_squared_error: 5.3373e-04\n",
      "Epoch 67/100\n",
      "15970/15970 [==============================] - 21s 1ms/step - loss: 5.3426e-04 - mean_squared_error: 5.3426e-04\n",
      "Epoch 68/100\n",
      "15970/15970 [==============================] - 20s 1ms/step - loss: 5.3858e-04 - mean_squared_error: 5.3858e-04\n",
      "Epoch 69/100\n",
      "15970/15970 [==============================] - 24s 1ms/step - loss: 5.3370e-04 - mean_squared_error: 5.3370e-04\n",
      "Epoch 70/100\n",
      "15970/15970 [==============================] - 20s 1ms/step - loss: 5.3761e-04 - mean_squared_error: 5.3761e-04\n",
      "Epoch 71/100\n",
      "15970/15970 [==============================] - 20s 1ms/step - loss: 5.3670e-04 - mean_squared_error: 5.3670e-04\n",
      "Epoch 72/100\n",
      "15970/15970 [==============================] - 21s 1ms/step - loss: 5.3237e-04 - mean_squared_error: 5.3237e-04\n",
      "Epoch 73/100\n",
      "15970/15970 [==============================] - 20s 1ms/step - loss: 5.3600e-04 - mean_squared_error: 5.3600e-04\n",
      "Epoch 74/100\n",
      "15970/15970 [==============================] - 21s 1ms/step - loss: 5.3131e-04 - mean_squared_error: 5.3131e-04\n",
      "Epoch 75/100\n",
      "15970/15970 [==============================] - 20s 1ms/step - loss: 5.3405e-04 - mean_squared_error: 5.3405e-04\n",
      "Epoch 76/100\n",
      "15970/15970 [==============================] - 21s 1ms/step - loss: 5.2757e-04 - mean_squared_error: 5.2757e-04\n",
      "Epoch 77/100\n",
      "15970/15970 [==============================] - 28s 2ms/step - loss: 5.2765e-04 - mean_squared_error: 5.2765e-04\n",
      "Epoch 78/100\n",
      "15970/15970 [==============================] - 29s 2ms/step - loss: 5.2382e-04 - mean_squared_error: 5.2382e-04\n",
      "Epoch 79/100\n",
      "15970/15970 [==============================] - 24s 1ms/step - loss: 5.1866e-04 - mean_squared_error: 5.1866e-04\n",
      "Epoch 80/100\n",
      "15970/15970 [==============================] - 21s 1ms/step - loss: 5.1365e-04 - mean_squared_error: 5.1365e-04\n",
      "Epoch 81/100\n",
      "15970/15970 [==============================] - 21s 1ms/step - loss: 5.0684e-04 - mean_squared_error: 5.0684e-04\n",
      "Epoch 82/100\n",
      "15970/15970 [==============================] - 21s 1ms/step - loss: 5.0617e-04 - mean_squared_error: 5.0617e-04\n",
      "Epoch 83/100\n",
      "15970/15970 [==============================] - 20s 1ms/step - loss: 5.0868e-04 - mean_squared_error: 5.0868e-04\n",
      "Epoch 84/100\n",
      "15970/15970 [==============================] - 22s 1ms/step - loss: 5.0055e-04 - mean_squared_error: 5.0055e-04\n",
      "Epoch 85/100\n",
      "15970/15970 [==============================] - 22s 1ms/step - loss: 5.0362e-04 - mean_squared_error: 5.0362e-04\n",
      "Epoch 86/100\n",
      "15970/15970 [==============================] - 22s 1ms/step - loss: 4.8837e-04 - mean_squared_error: 4.8837e-04\n",
      "Epoch 87/100\n",
      "15970/15970 [==============================] - 24s 2ms/step - loss: 4.9209e-04 - mean_squared_error: 4.9209e-04\n",
      "Epoch 88/100\n",
      "15970/15970 [==============================] - 22s 1ms/step - loss: 4.9523e-04 - mean_squared_error: 4.9523e-04\n",
      "Epoch 89/100\n",
      "15970/15970 [==============================] - 22s 1ms/step - loss: 4.9363e-04 - mean_squared_error: 4.9363e-04\n",
      "Epoch 90/100\n",
      "15970/15970 [==============================] - 25s 2ms/step - loss: 4.9423e-04 - mean_squared_error: 4.9423e-04\n",
      "Epoch 91/100\n",
      "15970/15970 [==============================] - 22s 1ms/step - loss: 4.8766e-04 - mean_squared_error: 4.8766e-04\n",
      "Epoch 92/100\n",
      "15970/15970 [==============================] - 21s 1ms/step - loss: 4.8772e-04 - mean_squared_error: 4.8772e-04\n",
      "Epoch 93/100\n",
      "15970/15970 [==============================] - 21s 1ms/step - loss: 4.8512e-04 - mean_squared_error: 4.8512e-04\n",
      "Epoch 94/100\n",
      "15970/15970 [==============================] - 22s 1ms/step - loss: 4.7640e-04 - mean_squared_error: 4.7640e-04\n",
      "Epoch 95/100\n",
      "15970/15970 [==============================] - 21s 1ms/step - loss: 4.8174e-04 - mean_squared_error: 4.8174e-04\n",
      "Epoch 96/100\n",
      "15970/15970 [==============================] - 21s 1ms/step - loss: 4.8350e-04 - mean_squared_error: 4.8350e-04\n",
      "Epoch 97/100\n",
      "15970/15970 [==============================] - 20s 1ms/step - loss: 4.8795e-04 - mean_squared_error: 4.8795e-04\n",
      "Epoch 98/100\n",
      "15970/15970 [==============================] - 20s 1ms/step - loss: 4.7969e-04 - mean_squared_error: 4.7969e-04\n",
      "Epoch 99/100\n",
      "15970/15970 [==============================] - 20s 1ms/step - loss: 4.7574e-04 - mean_squared_error: 4.7574e-04\n",
      "Epoch 100/100\n",
      "15970/15970 [==============================] - 20s 1ms/step - loss: 4.8096e-04 - mean_squared_error: 4.8096e-04\n"
     ]
    }
   ],
   "source": [
    "\n",
    "history = model.fit(X_train, y_train, epochs=100 , batch_size = 128 , \n",
    "          callbacks = [checkpoint , lr_reduce], shuffle=False,verbose=1 )"
   ]
  },
  {
   "cell_type": "code",
   "execution_count": 15,
   "metadata": {
    "collapsed": false
   },
   "outputs": [
    {
     "name": "stdout",
     "output_type": "stream",
     "text": [
      "Epoch 1/50\n",
      "15970/15970 [==============================] - 18s 1ms/step - loss: 7.2615e-04 - acc: 2.5047e-04\n",
      "Epoch 2/50\n",
      "15970/15970 [==============================] - 15s 967us/step - loss: 6.6318e-04 - acc: 2.5047e-04\n",
      "Epoch 3/50\n",
      "15970/15970 [==============================] - 16s 1000us/step - loss: 6.3010e-04 - acc: 2.5047e-04\n",
      "Epoch 4/50\n",
      "15970/15970 [==============================] - 16s 1ms/step - loss: 5.7368e-04 - acc: 2.5047e-04\n",
      "Epoch 5/50\n",
      "15970/15970 [==============================] - 28s 2ms/step - loss: 5.5817e-04 - acc: 2.5047e-04\n",
      "Epoch 6/50\n",
      "15970/15970 [==============================] - 22s 1ms/step - loss: 5.5777e-04 - acc: 2.5047e-04\n",
      "Epoch 7/50\n",
      "15970/15970 [==============================] - 20s 1ms/step - loss: 5.4983e-04 - acc: 2.5047e-04\n",
      "Epoch 8/50\n",
      "15970/15970 [==============================] - 19s 1ms/step - loss: 5.6152e-04 - acc: 2.5047e-04\n",
      "Epoch 9/50\n",
      "15970/15970 [==============================] - 19s 1ms/step - loss: 5.4644e-04 - acc: 2.5047e-04\n",
      "Epoch 10/50\n",
      "15970/15970 [==============================] - 19s 1ms/step - loss: 5.9087e-04 - acc: 2.5047e-04\n",
      "Epoch 11/50\n",
      "15970/15970 [==============================] - 23s 1ms/step - loss: 5.4890e-04 - acc: 2.5047e-04\n",
      "Epoch 12/50\n",
      "15970/15970 [==============================] - 20s 1ms/step - loss: 5.4970e-04 - acc: 2.5047e-04\n",
      "Epoch 13/50\n",
      "15970/15970 [==============================] - 20s 1ms/step - loss: 5.5196e-04 - acc: 2.5047e-04\n",
      "Epoch 14/50\n",
      "15970/15970 [==============================] - 23s 1ms/step - loss: 5.3984e-04 - acc: 2.5047e-04\n",
      "Epoch 15/50\n",
      "15970/15970 [==============================] - 21s 1ms/step - loss: 5.3741e-04 - acc: 2.5047e-04\n",
      "Epoch 16/50\n",
      "15970/15970 [==============================] - 17s 1ms/step - loss: 5.3327e-04 - acc: 2.5047e-04\n",
      "Epoch 17/50\n",
      "15970/15970 [==============================] - 17s 1ms/step - loss: 5.3228e-04 - acc: 2.5047e-04\n",
      "Epoch 18/50\n",
      "15970/15970 [==============================] - 19s 1ms/step - loss: 5.3017e-04 - acc: 2.5047e-04\n",
      "Epoch 19/50\n",
      "15970/15970 [==============================] - 18s 1ms/step - loss: 5.2825e-04 - acc: 2.5047e-04\n",
      "Epoch 20/50\n",
      "15970/15970 [==============================] - 18s 1ms/step - loss: 5.2739e-04 - acc: 2.5047e-04\n",
      "Epoch 21/50\n",
      "15970/15970 [==============================] - 21s 1ms/step - loss: 5.2411e-04 - acc: 2.5047e-04\n",
      "Epoch 22/50\n",
      "15970/15970 [==============================] - 17s 1ms/step - loss: 5.2343e-04 - acc: 2.5047e-04\n",
      "Epoch 23/50\n",
      "15970/15970 [==============================] - 19s 1ms/step - loss: 5.3337e-04 - acc: 2.5047e-04\n",
      "Epoch 24/50\n",
      "15970/15970 [==============================] - 19s 1ms/step - loss: 5.2518e-04 - acc: 2.5047e-04\n",
      "Epoch 25/50\n",
      "15970/15970 [==============================] - 21s 1ms/step - loss: 5.2124e-04 - acc: 2.5047e-04\n",
      "Epoch 26/50\n",
      "15970/15970 [==============================] - 25s 2ms/step - loss: 5.2563e-04 - acc: 2.5047e-04\n",
      "Epoch 27/50\n",
      "15970/15970 [==============================] - 19s 1ms/step - loss: 5.2021e-04 - acc: 2.5047e-04\n",
      "Epoch 28/50\n",
      "15970/15970 [==============================] - 18s 1ms/step - loss: 5.1785e-04 - acc: 2.5047e-04\n",
      "Epoch 29/50\n",
      "15970/15970 [==============================] - 19s 1ms/step - loss: 5.1978e-04 - acc: 2.5047e-04\n",
      "Epoch 30/50\n",
      "15970/15970 [==============================] - 19s 1ms/step - loss: 5.1835e-04 - acc: 2.5047e-04\n",
      "Epoch 31/50\n",
      "15970/15970 [==============================] - 18s 1ms/step - loss: 5.1386e-04 - acc: 2.5047e-04\n",
      "Epoch 32/50\n",
      "15970/15970 [==============================] - 17s 1ms/step - loss: 5.1592e-04 - acc: 2.5047e-04\n",
      "Epoch 33/50\n",
      "15970/15970 [==============================] - 17s 1ms/step - loss: 5.1575e-04 - acc: 2.5047e-04\n",
      "Epoch 34/50\n",
      "15970/15970 [==============================] - 18s 1ms/step - loss: 5.2020e-04 - acc: 2.5047e-04\n",
      "Epoch 35/50\n",
      "15970/15970 [==============================] - 18s 1ms/step - loss: 5.1556e-04 - acc: 2.5047e-04\n",
      "Epoch 36/50\n",
      "15970/15970 [==============================] - 18s 1ms/step - loss: 5.1322e-04 - acc: 2.5047e-04\n",
      "Epoch 37/50\n",
      "15970/15970 [==============================] - 19s 1ms/step - loss: 5.1985e-04 - acc: 2.5047e-04\n",
      "Epoch 38/50\n",
      "15970/15970 [==============================] - 18s 1ms/step - loss: 5.2317e-04 - acc: 2.5047e-04\n",
      "Epoch 39/50\n",
      "15970/15970 [==============================] - 18s 1ms/step - loss: 5.2182e-04 - acc: 2.5047e-04\n",
      "Epoch 40/50\n",
      "15970/15970 [==============================] - 17s 1ms/step - loss: 5.1652e-04 - acc: 2.5047e-04\n",
      "Epoch 41/50\n",
      "15970/15970 [==============================] - 17s 1ms/step - loss: 5.2007e-04 - acc: 2.5047e-04\n",
      "Epoch 42/50\n",
      "15970/15970 [==============================] - 17s 1ms/step - loss: 5.1896e-04 - acc: 2.5047e-04\n",
      "Epoch 43/50\n",
      "15970/15970 [==============================] - 16s 1ms/step - loss: 5.1533e-04 - acc: 2.5047e-04\n",
      "Epoch 44/50\n",
      "15970/15970 [==============================] - 18s 1ms/step - loss: 5.1780e-04 - acc: 2.5047e-04\n",
      "Epoch 45/50\n",
      "15970/15970 [==============================] - 23s 1ms/step - loss: 5.1581e-04 - acc: 2.5047e-04\n",
      "Epoch 46/50\n",
      "15970/15970 [==============================] - 18s 1ms/step - loss: 5.1655e-04 - acc: 2.5047e-04\n",
      "Epoch 47/50\n",
      "15970/15970 [==============================] - 16s 995us/step - loss: 5.1790e-04 - acc: 2.5047e-04\n",
      "Epoch 48/50\n",
      "15970/15970 [==============================] - 18s 1ms/step - loss: 5.1767e-04 - acc: 2.5047e-04\n",
      "Epoch 49/50\n",
      "15970/15970 [==============================] - 16s 997us/step - loss: 5.2166e-04 - acc: 2.5047e-04\n",
      "Epoch 50/50\n",
      "15970/15970 [==============================] - 20s 1ms/step - loss: 5.1073e-04 - acc: 2.5047e-04\n"
     ]
    },
    {
     "data": {
      "text/plain": [
       "<keras.callbacks.History at 0x250f0c8de48>"
      ]
     },
     "execution_count": 15,
     "metadata": {},
     "output_type": "execute_result"
    }
   ],
   "source": [
    "# Fitting the RNN to the Training set\n",
    "# regressor.fit(X_train, y_train, epochs = 50,shuffle=False,verbose=1, batch_size = 16)"
   ]
  },
  {
   "cell_type": "code",
   "execution_count": null,
   "metadata": {
    "collapsed": true
   },
   "outputs": [],
   "source": [
    "# print('model built successfully')\n",
    "# #regressor.save('/home/rootuser/arj/ticket/model/dns-relu(1000 epo- 100 neuron-288 time).h5') \n",
    "# regressor.save('model/service-dns-relu-new(1000 epo- 100*50 neuron-12 time).h5') "
   ]
  },
  {
   "cell_type": "code",
   "execution_count": 32,
   "metadata": {
    "collapsed": true
   },
   "outputs": [],
   "source": [
    "\n",
    "real_pattern_prediction=df[len(df)-150:]"
   ]
  },
  {
   "cell_type": "code",
   "execution_count": 33,
   "metadata": {
    "collapsed": false
   },
   "outputs": [
    {
     "data": {
      "text/html": [
       "<div>\n",
       "<table border=\"1\" class=\"dataframe\">\n",
       "  <thead>\n",
       "    <tr style=\"text-align: right;\">\n",
       "      <th></th>\n",
       "      <th>Timestamp</th>\n",
       "      <th>Utilization(kb)</th>\n",
       "    </tr>\n",
       "  </thead>\n",
       "  <tbody>\n",
       "    <tr>\n",
       "      <th>592046</th>\n",
       "      <td>2019-03-14 23:40:00</td>\n",
       "      <td>0.61</td>\n",
       "    </tr>\n",
       "    <tr>\n",
       "      <th>592095</th>\n",
       "      <td>2019-03-14 23:45:00</td>\n",
       "      <td>0.55</td>\n",
       "    </tr>\n",
       "    <tr>\n",
       "      <th>592185</th>\n",
       "      <td>2019-03-14 23:50:00</td>\n",
       "      <td>0.67</td>\n",
       "    </tr>\n",
       "    <tr>\n",
       "      <th>592217</th>\n",
       "      <td>2019-03-14 23:55:00</td>\n",
       "      <td>0.64</td>\n",
       "    </tr>\n",
       "    <tr>\n",
       "      <th>592261</th>\n",
       "      <td>2019-03-15 00:00:00</td>\n",
       "      <td>1.37</td>\n",
       "    </tr>\n",
       "  </tbody>\n",
       "</table>\n",
       "</div>"
      ],
      "text/plain": [
       "                  Timestamp  Utilization(kb)\n",
       "592046  2019-03-14 23:40:00             0.61\n",
       "592095  2019-03-14 23:45:00             0.55\n",
       "592185  2019-03-14 23:50:00             0.67\n",
       "592217  2019-03-14 23:55:00             0.64\n",
       "592261  2019-03-15 00:00:00             1.37"
      ]
     },
     "execution_count": 33,
     "metadata": {},
     "output_type": "execute_result"
    }
   ],
   "source": [
    "real_pattern_prediction.head()"
   ]
  },
  {
   "cell_type": "code",
   "execution_count": 34,
   "metadata": {
    "collapsed": false
   },
   "outputs": [
    {
     "data": {
      "text/html": [
       "<div>\n",
       "<table border=\"1\" class=\"dataframe\">\n",
       "  <thead>\n",
       "    <tr style=\"text-align: right;\">\n",
       "      <th></th>\n",
       "      <th>Timestamp</th>\n",
       "      <th>Utilization(kb)</th>\n",
       "    </tr>\n",
       "  </thead>\n",
       "  <tbody>\n",
       "    <tr>\n",
       "      <th>0</th>\n",
       "      <td>2019-01-18 08:55:00</td>\n",
       "      <td>0.10</td>\n",
       "    </tr>\n",
       "    <tr>\n",
       "      <th>9</th>\n",
       "      <td>2019-01-18 09:00:00</td>\n",
       "      <td>0.21</td>\n",
       "    </tr>\n",
       "    <tr>\n",
       "      <th>20</th>\n",
       "      <td>2019-01-18 09:05:00</td>\n",
       "      <td>0.11</td>\n",
       "    </tr>\n",
       "    <tr>\n",
       "      <th>21</th>\n",
       "      <td>2019-01-18 09:10:00</td>\n",
       "      <td>0.34</td>\n",
       "    </tr>\n",
       "    <tr>\n",
       "      <th>34</th>\n",
       "      <td>2019-01-18 09:15:00</td>\n",
       "      <td>0.14</td>\n",
       "    </tr>\n",
       "  </tbody>\n",
       "</table>\n",
       "</div>"
      ],
      "text/plain": [
       "              Timestamp  Utilization(kb)\n",
       "0   2019-01-18 08:55:00             0.10\n",
       "9   2019-01-18 09:00:00             0.21\n",
       "20  2019-01-18 09:05:00             0.11\n",
       "21  2019-01-18 09:10:00             0.34\n",
       "34  2019-01-18 09:15:00             0.14"
      ]
     },
     "execution_count": 34,
     "metadata": {},
     "output_type": "execute_result"
    }
   ],
   "source": [
    "training_set.head()"
   ]
  },
  {
   "cell_type": "code",
   "execution_count": 36,
   "metadata": {
    "collapsed": false
   },
   "outputs": [],
   "source": [
    "\n",
    "# Getting the Random predictiond data\n",
    "dataset_total = pd.concat((training_set['Utilization(kb)'], real_pattern_prediction['Utilization(kb)']), axis = 0)\n",
    "inputs = dataset_total[len(dataset_total) - len(real_pattern_prediction) - 12:].values\n",
    "inputs = inputs.reshape(-1,1)\n",
    "inputs = sc.transform(inputs)\n",
    "X_test = []\n",
    "for i in range(12, len(real_pattern_prediction)+12):\n",
    "    X_test.append(inputs[i-12:i, 0])\n",
    "X_test = np.array(X_test)\n",
    "X_test = np.reshape(X_test, (X_test.shape[0], X_test.shape[1], 1))\n",
    "predicted_pattern = model.predict(X_test)\n",
    "predicted_pattern = sc.inverse_transform(predicted_pattern)"
   ]
  },
  {
   "cell_type": "code",
   "execution_count": 37,
   "metadata": {
    "collapsed": false
   },
   "outputs": [
    {
     "data": {
      "image/png": "[encoded data removed]",
      "text/plain": [
       "<Figure size 600x400 with 1 Axes>"
      ]
     },
     "metadata": {},
     "output_type": "display_data"
    }
   ],
   "source": [
    "import matplotlib.pyplot as plt\n",
    "%matplotlib inline\n",
    "real_pattern_prediction=real_pattern_prediction.iloc[:, 1:2].values\n",
    "# Visualising the results\n",
    "plt.plot(real_pattern_prediction, color = 'red', label = 'Real Utilization Number')\n",
    "plt.plot(predicted_pattern, color = 'blue', label = 'Predicted Utilization Number')\n",
    "plt.title('12 timeskips, 100*50 neurons, 1000 epochs-DNS Utilization Prediction')\n",
    "plt.xlabel('record no.')\n",
    "plt.ylabel('Utilization')\n",
    "plt.legend()\n",
    "plt.show()"
   ]
  },
  {
   "cell_type": "code",
   "execution_count": null,
   "metadata": {
    "collapsed": true
   },
   "outputs": [],
   "source": []
  },
  {
   "cell_type": "code",
   "execution_count": 40,
   "metadata": {
    "collapsed": false
   },
   "outputs": [
    {
     "name": "stdout",
     "output_type": "stream",
     "text": [
      "(15978, 2)\n"
     ]
    },
    {
     "name": "stderr",
     "output_type": "stream",
     "text": [
      "C:\\Anaconda3\\lib\\site-packages\\keras\\callbacks.py:1065: UserWarning: `epsilon` argument is deprecated and will be removed, use `min_delta` instead.\n",
      "  warnings.warn('`epsilon` argument is deprecated and '\n"
     ]
    },
    {
     "name": "stdout",
     "output_type": "stream",
     "text": [
      "_________________________________________________________________\n",
      "Layer (type)                 Output Shape              Param #   \n",
      "=================================================================\n",
      "gru_2 (GRU)                  (None, 12, 256)           198144    \n",
      "_________________________________________________________________\n",
      "dropout_4 (Dropout)          (None, 12, 256)           0         \n",
      "_________________________________________________________________\n",
      "lstm_4 (LSTM)                (None, 256)               525312    \n",
      "_________________________________________________________________\n",
      "dropout_5 (Dropout)          (None, 256)               0         \n",
      "_________________________________________________________________\n",
      "dense_4 (Dense)              (None, 64)                16448     \n",
      "_________________________________________________________________\n",
      "dense_5 (Dense)              (None, 1)                 65        \n",
      "=================================================================\n",
      "Total params: 739,969\n",
      "Trainable params: 739,969\n",
      "Non-trainable params: 0\n",
      "_________________________________________________________________\n",
      "None\n",
      "Epoch 1/1\n",
      "15966/15966 [==============================] - 20s 1ms/step - loss: 6.6205e-04 - acc: 6.2633e-05\n",
      "model built successfully\n"
     ]
    },
    {
     "name": "stderr",
     "output_type": "stream",
     "text": [
      "C:\\Anaconda3\\lib\\site-packages\\keras\\callbacks.py:434: RuntimeWarning: Can save best model only with val_loss available, skipping.\n",
      "  'skipping.' % (self.monitor), RuntimeWarning)\n",
      "C:\\Anaconda3\\lib\\site-packages\\keras\\callbacks.py:1109: RuntimeWarning: Reduce LR on plateau conditioned on metric `val_loss` which is not available. Available metrics are: loss,lr,acc\n",
      "  (self.monitor, ','.join(list(logs.keys()))), RuntimeWarning\n"
     ]
    },
    {
     "name": "stdout",
     "output_type": "stream",
     "text": [
      "model built successfully\n"
     ]
    }
   ],
   "source": [
    "\n",
    "# coding: utf-8\n",
    "\n",
    "# In[25]:\n",
    "\n",
    "import pandas as pd\n",
    "import numpy as np\n",
    "\n",
    "\n",
    "# In[26]:\n",
    "\n",
    "preprocessed_df=pd.read_csv('C:/Users/ar393556/Documents/Utilization-prediction-RNN-LSTM/Data/preprocessed_data.csv')\n",
    "preprocessed_df.drop(['Unnamed: 0'],1,inplace=True)\n",
    "\n",
    "\n",
    "# In[27]:\n",
    "\n",
    "preprocessed_df.head()\n",
    "\n",
    "\n",
    "# In[28]:\n",
    "\n",
    "application_name=['dns','https']\n",
    "\n",
    "\n",
    "# In[29]:\n",
    "\n",
    "# for i in application_name:\n",
    "    \n",
    "df=preprocessed_df.loc[preprocessed_df['Application'] == 'dns']\n",
    "df=df[['Timestamp','Utilization(kb)']]\n",
    "\n",
    "\n",
    "\n",
    "# In[30]:\n",
    "\n",
    "df=df[df['Utilization(kb)']!= 0]\n",
    "\n",
    "\n",
    "# In[31]:\n",
    "\n",
    "df.shape\n",
    "\n",
    "\n",
    "# In[32]:\n",
    "\n",
    "training_set=df[0:len(df)-150]\n",
    "print(training_set.shape)\n",
    "training_set_sliced = training_set.iloc[:, 1:2].values\n",
    "\n",
    "\n",
    "# In[33]:\n",
    "\n",
    "# Feature Scaling\n",
    "from sklearn.preprocessing import MinMaxScaler\n",
    "sc = MinMaxScaler(feature_range = (0, 1))\n",
    "training_set_scaled = sc.fit_transform(training_set_sliced)\n",
    "\n",
    "\n",
    "# In[34]:\n",
    "\n",
    "# Creating a data structure with 100 timesteps and 1 output\n",
    "X_train = []\n",
    "y_train = []\n",
    "for i in range(12, len(training_set)):\n",
    "    X_train.append(training_set_scaled[i-12:i, 0])\n",
    "    y_train.append(training_set_scaled[i, 0])\n",
    "X_train, y_train = np.array(X_train), np.array(y_train)\n",
    "\n",
    "# Reshaping\n",
    "X_train = np.reshape(X_train, (X_train.shape[0], X_train.shape[1], 1))\n",
    "\n",
    "\n",
    "# In[35]:\n",
    "\n",
    "\n",
    "# Importing the Keras libraries and packages\n",
    "\n",
    "# Importing the Keras libraries and packages\n",
    "from keras.models import Sequential\n",
    "from keras.layers import Dense , BatchNormalization , Dropout , Activation\n",
    "from keras.layers import LSTM , GRU\n",
    "from sklearn.preprocessing import MinMaxScaler\n",
    "from sklearn.metrics import mean_squared_error\n",
    "from keras.optimizers import Adam , SGD , RMSprop\n",
    "\n",
    "filepath=\"stock_weights.hdf5\"\n",
    "from keras.callbacks import ReduceLROnPlateau , ModelCheckpoint\n",
    "lr_reduce = ReduceLROnPlateau(monitor='val_loss', factor=0.1, epsilon=0.0001, patience=1, verbose=1)\n",
    "checkpoint = ModelCheckpoint(filepath, monitor='val_loss', verbose=1, save_best_only=True, mode='max')\n",
    "\n",
    "# Initialising the RNN\n",
    "regressor = Sequential()\n",
    "\n",
    "\n",
    "# In[36]:\n",
    "\n",
    "model = Sequential()\n",
    "model.add(GRU(256 , input_shape = (X_train.shape[1], 1), return_sequences=True))\n",
    "model.add(Dropout(0.3))\n",
    "model.add(LSTM(256))\n",
    "model.add(Dropout(0.3))\n",
    "model.add(Dense(64 ,  activation = 'relu'))\n",
    "model.add(Dense(1))\n",
    "print(model.summary())\n",
    "\n",
    "model.compile(loss='mean_squared_error', optimizer=Adam(lr = 0.0005) , metrics = ['accuracy'])\n",
    "\n",
    "\n",
    "history = model.fit(X_train, y_train, epochs=1 , batch_size = 128 , \n",
    "          callbacks = [checkpoint , lr_reduce], shuffle=False,verbose=1 )\n",
    "\n",
    "\n",
    "\n",
    "\n",
    "# In[98]:\n",
    "\n",
    "print('model built successfully')\n",
    "model.save('C:/Users/ar393556/Documents/Utilization-prediction-RNN-LSTM/model/new-dns-fine-tuning-task-scheduler.h5') \n",
    "\n",
    "\n",
    "\n",
    "print('model built successfully')\n"
   ]
  },
  {
   "cell_type": "code",
   "execution_count": null,
   "metadata": {
    "collapsed": true
   },
   "outputs": [],
   "source": []
  }
 ],
 "metadata": {
  "anaconda-cloud": {},
  "kernelspec": {
   "display_name": "Python [Anaconda3]",
   "language": "python",
   "name": "Python [Anaconda3]"
  },
  "language_info": {
   "codemirror_mode": {
    "name": "ipython",
    "version": 3
   },
   "file_extension": ".py",
   "mimetype": "text/x-python",
   "name": "python",
   "nbconvert_exporter": "python",
   "pygments_lexer": "ipython3",
   "version": "3.5.2"
  }
 },
 "nbformat": 4,
 "nbformat_minor": 0
}

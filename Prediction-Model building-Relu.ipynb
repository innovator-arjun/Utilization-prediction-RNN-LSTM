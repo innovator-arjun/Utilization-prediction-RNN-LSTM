{
 "cells": [
  {
   "cell_type": "code",
   "execution_count": 178,
   "metadata": {
    "collapsed": true
   },
   "outputs": [],
   "source": [
    "import pandas as pd\n",
    "import numpy as np"
   ]
  },
  {
   "cell_type": "code",
   "execution_count": 179,
   "metadata": {
    "collapsed": false
   },
   "outputs": [],
   "source": [
    "#preprocessed_df=pd.read_csv('/home/rootuser/arj/ticket/Data/preprocessed_data.csv')\n",
    "preprocessed_df=pd.read_csv('Data/preprocessed_data.csv')\n",
    "preprocessed_df.drop(['Unnamed: 0'],1,inplace=True)"
   ]
  },
  {
   "cell_type": "code",
   "execution_count": 180,
   "metadata": {
    "collapsed": false
   },
   "outputs": [
    {
     "data": {
      "text/html": [
       "<div>\n",
       "<table border=\"1\" class=\"dataframe\">\n",
       "  <thead>\n",
       "    <tr style=\"text-align: right;\">\n",
       "      <th></th>\n",
       "      <th>Hostname</th>\n",
       "      <th>Application</th>\n",
       "      <th>Utilization(bps)</th>\n",
       "      <th>Timestamp</th>\n",
       "    </tr>\n",
       "  </thead>\n",
       "  <tbody>\n",
       "    <tr>\n",
       "      <th>0</th>\n",
       "      <td>vdevice-host-name</td>\n",
       "      <td>dns</td>\n",
       "      <td>105.000</td>\n",
       "      <td>2019-01-18 08:55:00</td>\n",
       "    </tr>\n",
       "    <tr>\n",
       "      <th>1</th>\n",
       "      <td>vdevice-host-name</td>\n",
       "      <td>tcp</td>\n",
       "      <td>0.000</td>\n",
       "      <td>2019-01-18 08:55:00</td>\n",
       "    </tr>\n",
       "    <tr>\n",
       "      <th>2</th>\n",
       "      <td>vdevice-host-name</td>\n",
       "      <td>https</td>\n",
       "      <td>2777.375</td>\n",
       "      <td>2019-01-18 08:55:00</td>\n",
       "    </tr>\n",
       "    <tr>\n",
       "      <th>3</th>\n",
       "      <td>vdevice-host-name</td>\n",
       "      <td>google_gen</td>\n",
       "      <td>0.000</td>\n",
       "      <td>2019-01-18 08:55:00</td>\n",
       "    </tr>\n",
       "    <tr>\n",
       "      <th>4</th>\n",
       "      <td>vdevice-host-name</td>\n",
       "      <td>firefox_update</td>\n",
       "      <td>0.000</td>\n",
       "      <td>2019-01-18 08:55:00</td>\n",
       "    </tr>\n",
       "  </tbody>\n",
       "</table>\n",
       "</div>"
      ],
      "text/plain": [
       "            Hostname     Application  Utilization(bps)            Timestamp\n",
       "0  vdevice-host-name             dns           105.000  2019-01-18 08:55:00\n",
       "1  vdevice-host-name             tcp             0.000  2019-01-18 08:55:00\n",
       "2  vdevice-host-name           https          2777.375  2019-01-18 08:55:00\n",
       "3  vdevice-host-name      google_gen             0.000  2019-01-18 08:55:00\n",
       "4  vdevice-host-name  firefox_update             0.000  2019-01-18 08:55:00"
      ]
     },
     "execution_count": 180,
     "metadata": {},
     "output_type": "execute_result"
    }
   ],
   "source": [
    "preprocessed_df.head()"
   ]
  },
  {
   "cell_type": "code",
   "execution_count": 181,
   "metadata": {
    "collapsed": true
   },
   "outputs": [],
   "source": [
    "application_name=['dns','https']"
   ]
  },
  {
   "cell_type": "code",
   "execution_count": 182,
   "metadata": {
    "collapsed": false
   },
   "outputs": [
    {
     "name": "stdout",
     "output_type": "stream",
     "text": [
      "(15982, 2)\n"
     ]
    }
   ],
   "source": [
    "# for i in application_name:\n",
    "    \n",
    "df=preprocessed_df.loc[preprocessed_df['Application'] == 'dns']\n",
    "df=df[['Timestamp','Utilization(bps)']]\n",
    "training_set=df[0:len(df)-150]\n",
    "print(training_set.shape)\n",
    "training_set_sliced = training_set.iloc[:, 1:2].values\n"
   ]
  },
  {
   "cell_type": "code",
   "execution_count": null,
   "metadata": {
    "collapsed": false
   },
   "outputs": [],
   "source": []
  },
  {
   "cell_type": "code",
   "execution_count": 183,
   "metadata": {
    "collapsed": false
   },
   "outputs": [],
   "source": [
    "# Feature Scaling\n",
    "from sklearn.preprocessing import MinMaxScaler\n",
    "sc = MinMaxScaler()\n",
    "training_set_scaled = sc.fit_transform(training_set_sliced)\n"
   ]
  },
  {
   "cell_type": "code",
   "execution_count": 184,
   "metadata": {
    "collapsed": false
   },
   "outputs": [],
   "source": [
    "# Creating a data structure with 100 timesteps and 1 output\n",
    "X_train = []\n",
    "y_train = []\n",
    "for i in range(15, len(training_set)):\n",
    "    X_train.append(training_set_scaled[i-15:i, 0])\n",
    "    y_train.append(training_set_scaled[i, 0])\n",
    "X_train, y_train = np.array(X_train), np.array(y_train)\n",
    "\n",
    "# Reshaping\n",
    "X_train = np.reshape(X_train, (X_train.shape[0], X_train.shape[1], 1))"
   ]
  },
  {
   "cell_type": "code",
   "execution_count": 185,
   "metadata": {
    "collapsed": false
   },
   "outputs": [
    {
     "data": {
      "text/plain": [
       "(15967, 15, 1)"
      ]
     },
     "execution_count": 185,
     "metadata": {},
     "output_type": "execute_result"
    }
   ],
   "source": [
    "X_train.shape"
   ]
  },
  {
   "cell_type": "code",
   "execution_count": 186,
   "metadata": {
    "collapsed": false
   },
   "outputs": [
    {
     "data": {
      "text/plain": [
       "(15967,)"
      ]
     },
     "execution_count": 186,
     "metadata": {},
     "output_type": "execute_result"
    }
   ],
   "source": [
    "y_train.shape"
   ]
  },
  {
   "cell_type": "code",
   "execution_count": 187,
   "metadata": {
    "collapsed": false
   },
   "outputs": [],
   "source": [
    "\n",
    "# Importing the Keras libraries and packages\n",
    "from keras.models import Sequential\n",
    "from keras.layers import Dense\n",
    "from keras.layers import LSTM\n",
    "from keras.layers import Dropout\n",
    "\n",
    "# Initialising the RNN\n",
    "regressor = Sequential()"
   ]
  },
  {
   "cell_type": "code",
   "execution_count": 188,
   "metadata": {
    "collapsed": false
   },
   "outputs": [],
   "source": [
    "\n",
    "# Adding the first LSTM layer and some Dropout regularisation\n",
    "regressor.add(LSTM(units = 100, activation = 'relu' ,input_shape = (X_train.shape[1], 1)))\n",
    "\n",
    "\n",
    "# Adding the output layer\n",
    "regressor.add(Dense(units = 1))\n",
    "\n",
    "# Compiling the RNN\n",
    "regressor.compile(optimizer = 'adam', loss = 'mean_squared_error', metrics=['accuracy'])\n",
    "\n",
    "\n",
    "\n"
   ]
  },
  {
   "cell_type": "code",
   "execution_count": 189,
   "metadata": {
    "collapsed": false
   },
   "outputs": [
    {
     "name": "stdout",
     "output_type": "stream",
     "text": [
      "_________________________________________________________________\n",
      "Layer (type)                 Output Shape              Param #   \n",
      "=================================================================\n",
      "lstm_16 (LSTM)               (None, 100)               40800     \n",
      "_________________________________________________________________\n",
      "dense_15 (Dense)             (None, 1)                 101       \n",
      "=================================================================\n",
      "Total params: 40,901\n",
      "Trainable params: 40,901\n",
      "Non-trainable params: 0\n",
      "_________________________________________________________________\n"
     ]
    }
   ],
   "source": [
    "regressor.summary()"
   ]
  },
  {
   "cell_type": "code",
   "execution_count": null,
   "metadata": {
    "collapsed": false
   },
   "outputs": [],
   "source": []
  },
  {
   "cell_type": "code",
   "execution_count": null,
   "metadata": {
    "collapsed": false
   },
   "outputs": [
    {
     "name": "stdout",
     "output_type": "stream",
     "text": [
      "Epoch 1/1000\n",
      "15967/15967 [==============================] - 18s 1ms/step - loss: 5.6449e-04 - acc: 2.5052e-04\n",
      "Epoch 2/1000\n",
      "15967/15967 [==============================] - 16s 988us/step - loss: 5.4070e-04 - acc: 2.5052e-04\n",
      "Epoch 3/1000\n",
      "15967/15967 [==============================] - 17s 1ms/step - loss: 5.3880e-04 - acc: 2.5052e-04\n",
      "Epoch 4/1000\n",
      " 5310/15967 [========>.....................] - ETA: 11s - loss: 5.4598e-04 - acc: 1.8832e-04"
     ]
    }
   ],
   "source": [
    "# Fitting the RNN to the Training set\n",
    "regressor.fit(X_train, y_train, epochs = 1000, batch_size = 10)"
   ]
  },
  {
   "cell_type": "code",
   "execution_count": 98,
   "metadata": {
    "collapsed": false
   },
   "outputs": [
    {
     "name": "stdout",
     "output_type": "stream",
     "text": [
      "model built successfully\n"
     ]
    }
   ],
   "source": [
    "print('model built successfully')\n",
    "#regressor.save('/home/rootuser/arj/ticket/model/dns-relu(1000 epo- 100 neuron-288 time).h5') \n",
    "regressor.save('model/dns-relu(1000 epo- 100 neuron-288 time).h5') "
   ]
  },
  {
   "cell_type": "code",
   "execution_count": 173,
   "metadata": {
    "collapsed": true
   },
   "outputs": [],
   "source": [
    "\n",
    "real_pattern_prediction=df[len(df)-150:]"
   ]
  },
  {
   "cell_type": "code",
   "execution_count": 174,
   "metadata": {
    "collapsed": false
   },
   "outputs": [
    {
     "data": {
      "text/html": [
       "<div>\n",
       "<table border=\"1\" class=\"dataframe\">\n",
       "  <thead>\n",
       "    <tr style=\"text-align: right;\">\n",
       "      <th></th>\n",
       "      <th>Timestamp</th>\n",
       "      <th>Utilization(bps)</th>\n",
       "    </tr>\n",
       "  </thead>\n",
       "  <tbody>\n",
       "    <tr>\n",
       "      <th>583933</th>\n",
       "      <td>2019-03-14 11:00:00</td>\n",
       "      <td>1563.750</td>\n",
       "    </tr>\n",
       "    <tr>\n",
       "      <th>583984</th>\n",
       "      <td>2019-03-14 11:05:00</td>\n",
       "      <td>672.625</td>\n",
       "    </tr>\n",
       "    <tr>\n",
       "      <th>584047</th>\n",
       "      <td>2019-03-14 11:10:00</td>\n",
       "      <td>422.125</td>\n",
       "    </tr>\n",
       "    <tr>\n",
       "      <th>584131</th>\n",
       "      <td>2019-03-14 11:15:00</td>\n",
       "      <td>735.375</td>\n",
       "    </tr>\n",
       "    <tr>\n",
       "      <th>584189</th>\n",
       "      <td>2019-03-14 11:20:00</td>\n",
       "      <td>527.250</td>\n",
       "    </tr>\n",
       "  </tbody>\n",
       "</table>\n",
       "</div>"
      ],
      "text/plain": [
       "                  Timestamp  Utilization(bps)\n",
       "583933  2019-03-14 11:00:00          1563.750\n",
       "583984  2019-03-14 11:05:00           672.625\n",
       "584047  2019-03-14 11:10:00           422.125\n",
       "584131  2019-03-14 11:15:00           735.375\n",
       "584189  2019-03-14 11:20:00           527.250"
      ]
     },
     "execution_count": 174,
     "metadata": {},
     "output_type": "execute_result"
    }
   ],
   "source": [
    "real_pattern_prediction.head()"
   ]
  },
  {
   "cell_type": "code",
   "execution_count": 175,
   "metadata": {
    "collapsed": false
   },
   "outputs": [
    {
     "data": {
      "text/html": [
       "<div>\n",
       "<table border=\"1\" class=\"dataframe\">\n",
       "  <thead>\n",
       "    <tr style=\"text-align: right;\">\n",
       "      <th></th>\n",
       "      <th>Timestamp</th>\n",
       "      <th>Utilization(bps)</th>\n",
       "    </tr>\n",
       "  </thead>\n",
       "  <tbody>\n",
       "    <tr>\n",
       "      <th>0</th>\n",
       "      <td>2019-01-18 08:55:00</td>\n",
       "      <td>105.0</td>\n",
       "    </tr>\n",
       "    <tr>\n",
       "      <th>9</th>\n",
       "      <td>2019-01-18 09:00:00</td>\n",
       "      <td>212.5</td>\n",
       "    </tr>\n",
       "    <tr>\n",
       "      <th>20</th>\n",
       "      <td>2019-01-18 09:05:00</td>\n",
       "      <td>105.0</td>\n",
       "    </tr>\n",
       "    <tr>\n",
       "      <th>21</th>\n",
       "      <td>2019-01-18 09:10:00</td>\n",
       "      <td>340.0</td>\n",
       "    </tr>\n",
       "    <tr>\n",
       "      <th>34</th>\n",
       "      <td>2019-01-18 09:15:00</td>\n",
       "      <td>142.5</td>\n",
       "    </tr>\n",
       "  </tbody>\n",
       "</table>\n",
       "</div>"
      ],
      "text/plain": [
       "              Timestamp  Utilization(bps)\n",
       "0   2019-01-18 08:55:00             105.0\n",
       "9   2019-01-18 09:00:00             212.5\n",
       "20  2019-01-18 09:05:00             105.0\n",
       "21  2019-01-18 09:10:00             340.0\n",
       "34  2019-01-18 09:15:00             142.5"
      ]
     },
     "execution_count": 175,
     "metadata": {},
     "output_type": "execute_result"
    }
   ],
   "source": [
    "training_set.head()"
   ]
  },
  {
   "cell_type": "code",
   "execution_count": 176,
   "metadata": {
    "collapsed": false
   },
   "outputs": [],
   "source": [
    "\n",
    "# Getting the Random predictiond data\n",
    "dataset_total = pd.concat((training_set['Utilization(bps)'], real_pattern_prediction['Utilization(bps)']), axis = 0)\n",
    "inputs = dataset_total[len(dataset_total) - len(real_pattern_prediction) - 288:].values\n",
    "inputs = inputs.reshape(-1,1)\n",
    "inputs = sc.transform(inputs)\n",
    "X_test = []\n",
    "for i in range(15, len(real_pattern_prediction)+15):\n",
    "    X_test.append(inputs[i-15:i, 0])\n",
    "X_test = np.array(X_test)\n",
    "X_test = np.reshape(X_test, (X_test.shape[0], X_test.shape[1], 1))\n",
    "predicted_pattern = regressor.predict(X_test)\n",
    "predicted_pattern = sc.inverse_transform(predicted_pattern)"
   ]
  },
  {
   "cell_type": "code",
   "execution_count": 177,
   "metadata": {
    "collapsed": false
   },
   "outputs": [
    {
     "data": {
      "image/png": "[encoded data removed]",
      "text/plain": [
       "<Figure size 600x400 with 1 Axes>"
      ]
     },
     "metadata": {},
     "output_type": "display_data"
    }
   ],
   "source": [
    "import matplotlib.pyplot as plt\n",
    "%matplotlib inline\n",
    "real_pattern_prediction=real_pattern_prediction.iloc[:, 1:2].values\n",
    "# Visualising the results\n",
    "plt.plot(real_pattern_prediction, color = 'red', label = 'Real Utilization Number')\n",
    "plt.plot(predicted_pattern, color = 'blue', label = 'Predicted Utilization Number')\n",
    "plt.title('12 timeskips, 100 neurons, 1000 epochs-DNS Utilization Prediction')\n",
    "plt.xlabel('record no.')\n",
    "plt.ylabel('Utilization')\n",
    "plt.legend()\n",
    "plt.show()"
   ]
  },
  {
   "cell_type": "code",
   "execution_count": null,
   "metadata": {
    "collapsed": true
   },
   "outputs": [],
   "source": []
  }
 ],
 "metadata": {
  "kernelspec": {
   "display_name": "Python [Anaconda3]",
   "language": "python",
   "name": "Python [Anaconda3]"
  },
  "language_info": {
   "codemirror_mode": {
    "name": "ipython",
    "version": 3
   },
   "file_extension": ".py",
   "mimetype": "text/x-python",
   "name": "python",
   "nbconvert_exporter": "python",
   "pygments_lexer": "ipython3",
   "version": "3.5.2"
  }
 },
 "nbformat": 4,
 "nbformat_minor": 0
}

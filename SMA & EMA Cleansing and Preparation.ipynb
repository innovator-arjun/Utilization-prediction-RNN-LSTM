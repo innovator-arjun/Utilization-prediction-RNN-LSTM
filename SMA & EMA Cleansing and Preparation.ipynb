{
 "cells": [
  {
   "cell_type": "code",
   "execution_count": 15,
   "metadata": {
    "collapsed": true
   },
   "outputs": [],
   "source": [
    "import pandas as pd\n",
    "import numpy as np\n",
    "import matplotlib.pyplot as plt"
   ]
  },
  {
   "cell_type": "code",
   "execution_count": 16,
   "metadata": {
    "collapsed": true
   },
   "outputs": [],
   "source": [
    "preprocessed_df=pd.read_csv('Data/preprocessed_data.csv')\n",
    "preprocessed_df.drop(['Unnamed: 0'],1,inplace=True)"
   ]
  },
  {
   "cell_type": "code",
   "execution_count": 17,
   "metadata": {
    "collapsed": false
   },
   "outputs": [
    {
     "data": {
      "text/html": [
       "<div>\n",
       "<table border=\"1\" class=\"dataframe\">\n",
       "  <thead>\n",
       "    <tr style=\"text-align: right;\">\n",
       "      <th></th>\n",
       "      <th>Hostname</th>\n",
       "      <th>Application</th>\n",
       "      <th>Utilization(bps)</th>\n",
       "      <th>Timestamp</th>\n",
       "    </tr>\n",
       "  </thead>\n",
       "  <tbody>\n",
       "    <tr>\n",
       "      <th>0</th>\n",
       "      <td>vdevice-host-name</td>\n",
       "      <td>dns</td>\n",
       "      <td>105.000</td>\n",
       "      <td>2019-01-18 08:55:00</td>\n",
       "    </tr>\n",
       "    <tr>\n",
       "      <th>1</th>\n",
       "      <td>vdevice-host-name</td>\n",
       "      <td>tcp</td>\n",
       "      <td>0.000</td>\n",
       "      <td>2019-01-18 08:55:00</td>\n",
       "    </tr>\n",
       "    <tr>\n",
       "      <th>2</th>\n",
       "      <td>vdevice-host-name</td>\n",
       "      <td>https</td>\n",
       "      <td>2777.375</td>\n",
       "      <td>2019-01-18 08:55:00</td>\n",
       "    </tr>\n",
       "    <tr>\n",
       "      <th>3</th>\n",
       "      <td>vdevice-host-name</td>\n",
       "      <td>google_gen</td>\n",
       "      <td>0.000</td>\n",
       "      <td>2019-01-18 08:55:00</td>\n",
       "    </tr>\n",
       "    <tr>\n",
       "      <th>4</th>\n",
       "      <td>vdevice-host-name</td>\n",
       "      <td>firefox_update</td>\n",
       "      <td>0.000</td>\n",
       "      <td>2019-01-18 08:55:00</td>\n",
       "    </tr>\n",
       "  </tbody>\n",
       "</table>\n",
       "</div>"
      ],
      "text/plain": [
       "            Hostname     Application  Utilization(bps)            Timestamp\n",
       "0  vdevice-host-name             dns           105.000  2019-01-18 08:55:00\n",
       "1  vdevice-host-name             tcp             0.000  2019-01-18 08:55:00\n",
       "2  vdevice-host-name           https          2777.375  2019-01-18 08:55:00\n",
       "3  vdevice-host-name      google_gen             0.000  2019-01-18 08:55:00\n",
       "4  vdevice-host-name  firefox_update             0.000  2019-01-18 08:55:00"
      ]
     },
     "execution_count": 17,
     "metadata": {},
     "output_type": "execute_result"
    }
   ],
   "source": [
    "preprocessed_df.head()"
   ]
  },
  {
   "cell_type": "code",
   "execution_count": 18,
   "metadata": {
    "collapsed": false
   },
   "outputs": [],
   "source": [
    "df_app=preprocessed_df.loc[preprocessed_df['Application']=='dns']\n",
    "\n",
    "df_app=df_app[['Timestamp','Utilization(bps)']]"
   ]
  },
  {
   "cell_type": "code",
   "execution_count": 19,
   "metadata": {
    "collapsed": false
   },
   "outputs": [
    {
     "data": {
      "text/html": [
       "<div>\n",
       "<table border=\"1\" class=\"dataframe\">\n",
       "  <thead>\n",
       "    <tr style=\"text-align: right;\">\n",
       "      <th></th>\n",
       "      <th>Timestamp</th>\n",
       "      <th>Utilization(bps)</th>\n",
       "    </tr>\n",
       "  </thead>\n",
       "  <tbody>\n",
       "    <tr>\n",
       "      <th>0</th>\n",
       "      <td>2019-01-18 08:55:00</td>\n",
       "      <td>105.0</td>\n",
       "    </tr>\n",
       "    <tr>\n",
       "      <th>9</th>\n",
       "      <td>2019-01-18 09:00:00</td>\n",
       "      <td>212.5</td>\n",
       "    </tr>\n",
       "    <tr>\n",
       "      <th>20</th>\n",
       "      <td>2019-01-18 09:05:00</td>\n",
       "      <td>105.0</td>\n",
       "    </tr>\n",
       "    <tr>\n",
       "      <th>21</th>\n",
       "      <td>2019-01-18 09:10:00</td>\n",
       "      <td>340.0</td>\n",
       "    </tr>\n",
       "    <tr>\n",
       "      <th>34</th>\n",
       "      <td>2019-01-18 09:15:00</td>\n",
       "      <td>142.5</td>\n",
       "    </tr>\n",
       "  </tbody>\n",
       "</table>\n",
       "</div>"
      ],
      "text/plain": [
       "              Timestamp  Utilization(bps)\n",
       "0   2019-01-18 08:55:00             105.0\n",
       "9   2019-01-18 09:00:00             212.5\n",
       "20  2019-01-18 09:05:00             105.0\n",
       "21  2019-01-18 09:10:00             340.0\n",
       "34  2019-01-18 09:15:00             142.5"
      ]
     },
     "execution_count": 19,
     "metadata": {},
     "output_type": "execute_result"
    }
   ],
   "source": [
    "df_app.head()"
   ]
  },
  {
   "cell_type": "code",
   "execution_count": 7,
   "metadata": {
    "collapsed": true
   },
   "outputs": [],
   "source": [
    "#val=[105.0,212.5,105.0, 340.0,142.5,150,250,70]"
   ]
  },
  {
   "cell_type": "code",
   "execution_count": 8,
   "metadata": {
    "collapsed": false
   },
   "outputs": [],
   "source": [
    "# sma4=val[0:3]\n",
    "# sma=0\n",
    "# counter=0\n",
    "# for i in range(3,len(val)):\n",
    "\n",
    "    \n",
    "\n",
    "#     sma=sum(val[counter:i+1])/4\n",
    "#     counter+=1\n",
    "#     print(i,\" \",sma,\" \",counter)\n",
    "#     sma4.append(sma)"
   ]
  },
  {
   "cell_type": "code",
   "execution_count": 9,
   "metadata": {
    "collapsed": true
   },
   "outputs": [],
   "source": [
    "#sma4=[]"
   ]
  },
  {
   "cell_type": "raw",
   "metadata": {},
   "source": [
    "def simple_moving_average_4(val):\n",
    "    val=val.tolist()\n",
    "    SMA4=val[0:3]\n",
    "    sma=0\n",
    "    counter=0\n",
    "    \n",
    "    for i in range(3,len(val)):\n",
    "        sma=sum(val[counter:i+1])/4\n",
    "        counter+=1\n",
    "#         print(i,\" \",sma,\" \",counter)\n",
    "        SMA4.append(sma)\n",
    "    \n",
    "    df_app['SMA4']=SMA4"
   ]
  },
  {
   "cell_type": "raw",
   "metadata": {},
   "source": [
    "def simple_moving_average_9(val):\n",
    "    val=val.tolist()\n",
    "    SMA9=val[0:8]\n",
    "    sma=0\n",
    "    counter=0\n",
    "    \n",
    "    for i in range(8,len(val)):\n",
    "        sma=sum(val[counter:i+1])/9\n",
    "        counter+=1\n",
    "#         print(i,\" \",sma,\" \",counter)\n",
    "        SMA9.append(sma)\n",
    "    \n",
    "    df_app['SMA9']=SMA9"
   ]
  },
  {
   "cell_type": "raw",
   "metadata": {},
   "source": [
    "simple_moving_average_4(df_app['Utilization(bps)'])"
   ]
  },
  {
   "cell_type": "code",
   "execution_count": 20,
   "metadata": {
    "collapsed": false
   },
   "outputs": [
    {
     "name": "stderr",
     "output_type": "stream",
     "text": [
      "C:\\Anaconda3\\lib\\site-packages\\ipykernel\\__main__.py:2: SettingWithCopyWarning: \n",
      "A value is trying to be set on a copy of a slice from a DataFrame\n",
      "\n",
      "See the caveats in the documentation: http://pandas.pydata.org/pandas-docs/stable/indexing.html#indexing-view-versus-copy\n",
      "  from ipykernel import kernelapp as app\n"
     ]
    }
   ],
   "source": [
    "df_app['SMA3']=df_app.iloc[:,1].rolling(window=3).mean()\n",
    "df_app['SMA3'][0:3]=df_app['Utilization(bps)'][0:3]"
   ]
  },
  {
   "cell_type": "code",
   "execution_count": 247,
   "metadata": {
    "collapsed": false
   },
   "outputs": [
    {
     "name": "stderr",
     "output_type": "stream",
     "text": [
      "C:\\Anaconda3\\lib\\site-packages\\ipykernel\\__main__.py:2: SettingWithCopyWarning: \n",
      "A value is trying to be set on a copy of a slice from a DataFrame\n",
      "\n",
      "See the caveats in the documentation: http://pandas.pydata.org/pandas-docs/stable/indexing.html#indexing-view-versus-copy\n",
      "  from ipykernel import kernelapp as app\n"
     ]
    }
   ],
   "source": []
  },
  {
   "cell_type": "code",
   "execution_count": null,
   "metadata": {
    "collapsed": true
   },
   "outputs": [],
   "source": []
  },
  {
   "cell_type": "code",
   "execution_count": 21,
   "metadata": {
    "collapsed": false
   },
   "outputs": [
    {
     "name": "stderr",
     "output_type": "stream",
     "text": [
      "C:\\Anaconda3\\lib\\site-packages\\ipykernel\\__main__.py:1: FutureWarning: pd.ewm_mean is deprecated for Series and will be removed in a future version, replace with \n",
      "\tSeries.ewm(min_periods=3,span=3,adjust=True,ignore_na=False).mean()\n",
      "  if __name__ == '__main__':\n",
      "C:\\Anaconda3\\lib\\site-packages\\ipykernel\\__main__.py:2: SettingWithCopyWarning: \n",
      "A value is trying to be set on a copy of a slice from a DataFrame\n",
      "\n",
      "See the caveats in the documentation: http://pandas.pydata.org/pandas-docs/stable/indexing.html#indexing-view-versus-copy\n",
      "  from ipykernel import kernelapp as app\n"
     ]
    }
   ],
   "source": [
    "df_app['EMA3'] = pd.ewma(df_app[\"Utilization(bps)\"], span=3,min_periods=3)\n",
    "df_app['EMA3'][0:2]=df_app['Utilization(bps)'][0:2]"
   ]
  },
  {
   "cell_type": "code",
   "execution_count": 22,
   "metadata": {
    "collapsed": false
   },
   "outputs": [
    {
     "name": "stderr",
     "output_type": "stream",
     "text": [
      "C:\\Anaconda3\\lib\\site-packages\\ipykernel\\__main__.py:2: SettingWithCopyWarning: \n",
      "A value is trying to be set on a copy of a slice from a DataFrame\n",
      "\n",
      "See the caveats in the documentation: http://pandas.pydata.org/pandas-docs/stable/indexing.html#indexing-view-versus-copy\n",
      "  from ipykernel import kernelapp as app\n"
     ]
    }
   ],
   "source": [
    "df_app['SMA7']=df_app.iloc[:,1].rolling(window=7).mean()\n",
    "df_app['SMA7'][0:6]=df_app['Utilization(bps)'][0:6]"
   ]
  },
  {
   "cell_type": "code",
   "execution_count": 249,
   "metadata": {
    "collapsed": false
   },
   "outputs": [],
   "source": [
    "#simple_moving_average_9(df_app['Utilization(bps)'])"
   ]
  },
  {
   "cell_type": "code",
   "execution_count": 23,
   "metadata": {
    "collapsed": false
   },
   "outputs": [
    {
     "name": "stderr",
     "output_type": "stream",
     "text": [
      "C:\\Anaconda3\\lib\\site-packages\\ipykernel\\__main__.py:1: FutureWarning: pd.ewm_mean is deprecated for Series and will be removed in a future version, replace with \n",
      "\tSeries.ewm(min_periods=7,span=7,adjust=True,ignore_na=False).mean()\n",
      "  if __name__ == '__main__':\n",
      "C:\\Anaconda3\\lib\\site-packages\\ipykernel\\__main__.py:2: SettingWithCopyWarning: \n",
      "A value is trying to be set on a copy of a slice from a DataFrame\n",
      "\n",
      "See the caveats in the documentation: http://pandas.pydata.org/pandas-docs/stable/indexing.html#indexing-view-versus-copy\n",
      "  from ipykernel import kernelapp as app\n"
     ]
    }
   ],
   "source": [
    "df_app['EMA7'] = pd.ewma(df_app[\"Utilization(bps)\"], span=7,min_periods=7)\n",
    "df_app['EMA7'][0:6]=df_app['Utilization(bps)'][0:6]"
   ]
  },
  {
   "cell_type": "code",
   "execution_count": null,
   "metadata": {
    "collapsed": false
   },
   "outputs": [],
   "source": []
  },
  {
   "cell_type": "code",
   "execution_count": 251,
   "metadata": {
    "collapsed": true
   },
   "outputs": [],
   "source": [
    "cum_sum=df_app['Utilization(bps)'].tolist()"
   ]
  },
  {
   "cell_type": "code",
   "execution_count": 252,
   "metadata": {
    "collapsed": false
   },
   "outputs": [],
   "source": [
    "cum_sum=np.cumsum(cum_sum)"
   ]
  },
  {
   "cell_type": "code",
   "execution_count": 253,
   "metadata": {
    "collapsed": false
   },
   "outputs": [],
   "source": [
    "df_app['cum_sum']=cum_sum"
   ]
  },
  {
   "cell_type": "code",
   "execution_count": 24,
   "metadata": {
    "collapsed": false
   },
   "outputs": [
    {
     "data": {
      "text/html": [
       "<div>\n",
       "<table border=\"1\" class=\"dataframe\">\n",
       "  <thead>\n",
       "    <tr style=\"text-align: right;\">\n",
       "      <th></th>\n",
       "      <th>Timestamp</th>\n",
       "      <th>Utilization(bps)</th>\n",
       "      <th>SMA3</th>\n",
       "      <th>EMA3</th>\n",
       "      <th>SMA7</th>\n",
       "      <th>EMA7</th>\n",
       "    </tr>\n",
       "  </thead>\n",
       "  <tbody>\n",
       "    <tr>\n",
       "      <th>0</th>\n",
       "      <td>2019-01-18 08:55:00</td>\n",
       "      <td>105.000</td>\n",
       "      <td>105.000000</td>\n",
       "      <td>105.000000</td>\n",
       "      <td>105.000000</td>\n",
       "      <td>105.000000</td>\n",
       "    </tr>\n",
       "    <tr>\n",
       "      <th>9</th>\n",
       "      <td>2019-01-18 09:00:00</td>\n",
       "      <td>212.500</td>\n",
       "      <td>212.500000</td>\n",
       "      <td>212.500000</td>\n",
       "      <td>212.500000</td>\n",
       "      <td>212.500000</td>\n",
       "    </tr>\n",
       "    <tr>\n",
       "      <th>20</th>\n",
       "      <td>2019-01-18 09:05:00</td>\n",
       "      <td>105.000</td>\n",
       "      <td>105.000000</td>\n",
       "      <td>135.714286</td>\n",
       "      <td>105.000000</td>\n",
       "      <td>105.000000</td>\n",
       "    </tr>\n",
       "    <tr>\n",
       "      <th>21</th>\n",
       "      <td>2019-01-18 09:10:00</td>\n",
       "      <td>340.000</td>\n",
       "      <td>219.166667</td>\n",
       "      <td>244.666667</td>\n",
       "      <td>340.000000</td>\n",
       "      <td>340.000000</td>\n",
       "    </tr>\n",
       "    <tr>\n",
       "      <th>34</th>\n",
       "      <td>2019-01-18 09:15:00</td>\n",
       "      <td>142.500</td>\n",
       "      <td>195.833333</td>\n",
       "      <td>191.935484</td>\n",
       "      <td>142.500000</td>\n",
       "      <td>142.500000</td>\n",
       "    </tr>\n",
       "    <tr>\n",
       "      <th>36</th>\n",
       "      <td>2019-01-18 09:20:00</td>\n",
       "      <td>157.500</td>\n",
       "      <td>213.333333</td>\n",
       "      <td>174.444444</td>\n",
       "      <td>157.500000</td>\n",
       "      <td>157.500000</td>\n",
       "    </tr>\n",
       "    <tr>\n",
       "      <th>43</th>\n",
       "      <td>2019-01-18 09:25:00</td>\n",
       "      <td>521.625</td>\n",
       "      <td>273.875000</td>\n",
       "      <td>349.401575</td>\n",
       "      <td>226.303571</td>\n",
       "      <td>278.610340</td>\n",
       "    </tr>\n",
       "    <tr>\n",
       "      <th>53</th>\n",
       "      <td>2019-01-18 09:30:00</td>\n",
       "      <td>163.250</td>\n",
       "      <td>280.791667</td>\n",
       "      <td>255.960784</td>\n",
       "      <td>234.625000</td>\n",
       "      <td>246.561780</td>\n",
       "    </tr>\n",
       "    <tr>\n",
       "      <th>57</th>\n",
       "      <td>2019-01-18 09:35:00</td>\n",
       "      <td>154.250</td>\n",
       "      <td>279.708333</td>\n",
       "      <td>205.005871</td>\n",
       "      <td>226.303571</td>\n",
       "      <td>221.610366</td>\n",
       "    </tr>\n",
       "    <tr>\n",
       "      <th>63</th>\n",
       "      <td>2019-01-18 09:40:00</td>\n",
       "      <td>398.500</td>\n",
       "      <td>238.666667</td>\n",
       "      <td>301.847507</td>\n",
       "      <td>268.232143</td>\n",
       "      <td>268.471701</td>\n",
       "    </tr>\n",
       "  </tbody>\n",
       "</table>\n",
       "</div>"
      ],
      "text/plain": [
       "              Timestamp  Utilization(bps)        SMA3        EMA3        SMA7  \\\n",
       "0   2019-01-18 08:55:00           105.000  105.000000  105.000000  105.000000   \n",
       "9   2019-01-18 09:00:00           212.500  212.500000  212.500000  212.500000   \n",
       "20  2019-01-18 09:05:00           105.000  105.000000  135.714286  105.000000   \n",
       "21  2019-01-18 09:10:00           340.000  219.166667  244.666667  340.000000   \n",
       "34  2019-01-18 09:15:00           142.500  195.833333  191.935484  142.500000   \n",
       "36  2019-01-18 09:20:00           157.500  213.333333  174.444444  157.500000   \n",
       "43  2019-01-18 09:25:00           521.625  273.875000  349.401575  226.303571   \n",
       "53  2019-01-18 09:30:00           163.250  280.791667  255.960784  234.625000   \n",
       "57  2019-01-18 09:35:00           154.250  279.708333  205.005871  226.303571   \n",
       "63  2019-01-18 09:40:00           398.500  238.666667  301.847507  268.232143   \n",
       "\n",
       "          EMA7  \n",
       "0   105.000000  \n",
       "9   212.500000  \n",
       "20  105.000000  \n",
       "21  340.000000  \n",
       "34  142.500000  \n",
       "36  157.500000  \n",
       "43  278.610340  \n",
       "53  246.561780  \n",
       "57  221.610366  \n",
       "63  268.471701  "
      ]
     },
     "execution_count": 24,
     "metadata": {},
     "output_type": "execute_result"
    }
   ],
   "source": [
    "df_app.head(10)"
   ]
  },
  {
   "cell_type": "code",
   "execution_count": 25,
   "metadata": {
    "collapsed": false
   },
   "outputs": [
    {
     "data": {
      "image/png": "[encoded data removed]",
      "text/plain": [
       "<Figure size 600x400 with 1 Axes>"
      ]
     },
     "metadata": {},
     "output_type": "display_data"
    }
   ],
   "source": [
    "import matplotlib.pyplot as plt\n",
    "%matplotlib inline\n",
    "utilization=df_app.iloc[:, 1:2].values\n",
    "\n",
    "plt.plot(utilization, color = 'red', label = 'Real Pattern Number')\n",
    "\n",
    "\n",
    "plt.title('Utilization Trend')\n",
    "plt.xlabel('record')\n",
    "plt.ylabel('Utilization')\n",
    "plt.legend()\n",
    "plt.show()"
   ]
  },
  {
   "cell_type": "code",
   "execution_count": 27,
   "metadata": {
    "collapsed": false
   },
   "outputs": [
    {
     "data": {
      "text/plain": [
       "<matplotlib.axes._subplots.AxesSubplot at 0x1cc067a7240>"
      ]
     },
     "execution_count": 27,
     "metadata": {},
     "output_type": "execute_result"
    },
    {
     "data": {
      "image/png": "[encoded data removed]",
      "text/plain": [
       "<Figure size 600x400 with 1 Axes>"
      ]
     },
     "metadata": {},
     "output_type": "display_data"
    }
   ],
   "source": [
    "temp=df_app[['Utilization(bps)','SMA3','EMA3']][0:100]\n",
    "temp.plot()\n"
   ]
  },
  {
   "cell_type": "code",
   "execution_count": 28,
   "metadata": {
    "collapsed": false
   },
   "outputs": [],
   "source": [
    "df_app.to_csv('Data/dns_sma3_ema7.csv',index=False)"
   ]
  },
  {
   "cell_type": "code",
   "execution_count": null,
   "metadata": {
    "collapsed": false
   },
   "outputs": [],
   "source": []
  },
  {
   "cell_type": "code",
   "execution_count": null,
   "metadata": {
    "collapsed": true
   },
   "outputs": [],
   "source": []
  }
 ],
 "metadata": {
  "kernelspec": {
   "display_name": "Python [Anaconda3]",
   "language": "python",
   "name": "Python [Anaconda3]"
  },
  "language_info": {
   "codemirror_mode": {
    "name": "ipython",
    "version": 3
   },
   "file_extension": ".py",
   "mimetype": "text/x-python",
   "name": "python",
   "nbconvert_exporter": "python",
   "pygments_lexer": "ipython3",
   "version": "3.5.2"
  }
 },
 "nbformat": 4,
 "nbformat_minor": 0
}

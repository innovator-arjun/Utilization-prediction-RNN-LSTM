{
 "cells": [
  {
   "cell_type": "code",
   "execution_count": 229,
   "metadata": {
    "collapsed": true
   },
   "outputs": [],
   "source": [
    "import pandas as pd\n",
    "import numpy as np"
   ]
  },
  {
   "cell_type": "code",
   "execution_count": 230,
   "metadata": {
    "collapsed": false
   },
   "outputs": [],
   "source": [
    "preprocessed_df=pd.read_csv('Data/dns_sma_ema.csv')\n",
    "#preprocessed_df.drop(['cum_sum'],1,inplace=True)"
   ]
  },
  {
   "cell_type": "code",
   "execution_count": 231,
   "metadata": {
    "collapsed": false
   },
   "outputs": [
    {
     "data": {
      "text/html": [
       "<div>\n",
       "<table border=\"1\" class=\"dataframe\">\n",
       "  <thead>\n",
       "    <tr style=\"text-align: right;\">\n",
       "      <th></th>\n",
       "      <th>Timestamp</th>\n",
       "      <th>Utilization(bps)</th>\n",
       "      <th>SMA4</th>\n",
       "      <th>SMA9</th>\n",
       "      <th>EMA4</th>\n",
       "      <th>EMA9</th>\n",
       "      <th>cum_sum</th>\n",
       "    </tr>\n",
       "  </thead>\n",
       "  <tbody>\n",
       "    <tr>\n",
       "      <th>0</th>\n",
       "      <td>2019-01-18 08:55:00</td>\n",
       "      <td>105.0</td>\n",
       "      <td>105.000</td>\n",
       "      <td>105.0</td>\n",
       "      <td>105.000000</td>\n",
       "      <td>105.0</td>\n",
       "      <td>105.0</td>\n",
       "    </tr>\n",
       "    <tr>\n",
       "      <th>1</th>\n",
       "      <td>2019-01-18 09:00:00</td>\n",
       "      <td>212.5</td>\n",
       "      <td>212.500</td>\n",
       "      <td>212.5</td>\n",
       "      <td>212.500000</td>\n",
       "      <td>212.5</td>\n",
       "      <td>317.5</td>\n",
       "    </tr>\n",
       "    <tr>\n",
       "      <th>2</th>\n",
       "      <td>2019-01-18 09:05:00</td>\n",
       "      <td>105.0</td>\n",
       "      <td>105.000</td>\n",
       "      <td>105.0</td>\n",
       "      <td>105.000000</td>\n",
       "      <td>105.0</td>\n",
       "      <td>422.5</td>\n",
       "    </tr>\n",
       "    <tr>\n",
       "      <th>3</th>\n",
       "      <td>2019-01-18 09:10:00</td>\n",
       "      <td>340.0</td>\n",
       "      <td>190.625</td>\n",
       "      <td>340.0</td>\n",
       "      <td>230.781250</td>\n",
       "      <td>340.0</td>\n",
       "      <td>762.5</td>\n",
       "    </tr>\n",
       "    <tr>\n",
       "      <th>4</th>\n",
       "      <td>2019-01-18 09:15:00</td>\n",
       "      <td>142.5</td>\n",
       "      <td>200.000</td>\n",
       "      <td>142.5</td>\n",
       "      <td>192.491325</td>\n",
       "      <td>142.5</td>\n",
       "      <td>905.0</td>\n",
       "    </tr>\n",
       "  </tbody>\n",
       "</table>\n",
       "</div>"
      ],
      "text/plain": [
       "             Timestamp  Utilization(bps)     SMA4   SMA9        EMA4   EMA9  \\\n",
       "0  2019-01-18 08:55:00             105.0  105.000  105.0  105.000000  105.0   \n",
       "1  2019-01-18 09:00:00             212.5  212.500  212.5  212.500000  212.5   \n",
       "2  2019-01-18 09:05:00             105.0  105.000  105.0  105.000000  105.0   \n",
       "3  2019-01-18 09:10:00             340.0  190.625  340.0  230.781250  340.0   \n",
       "4  2019-01-18 09:15:00             142.5  200.000  142.5  192.491325  142.5   \n",
       "\n",
       "   cum_sum  \n",
       "0    105.0  \n",
       "1    317.5  \n",
       "2    422.5  \n",
       "3    762.5  \n",
       "4    905.0  "
      ]
     },
     "execution_count": 231,
     "metadata": {},
     "output_type": "execute_result"
    }
   ],
   "source": [
    "preprocessed_df.head()"
   ]
  },
  {
   "cell_type": "code",
   "execution_count": 232,
   "metadata": {
    "collapsed": true
   },
   "outputs": [],
   "source": [
    "# application_name=['dns','https']\n",
    "\n",
    "# df=preprocessed_df.loc[preprocessed_df['Application'] == 'dns']\n",
    "# for i in application_name:\n",
    "    \n",
    "# df=df[['Timestamp','Utilization(bps)']]"
   ]
  },
  {
   "cell_type": "code",
   "execution_count": 233,
   "metadata": {
    "collapsed": false
   },
   "outputs": [
    {
     "name": "stdout",
     "output_type": "stream",
     "text": [
      "(13132, 7)\n"
     ]
    }
   ],
   "source": [
    "\n",
    "training_set=preprocessed_df[0:len(preprocessed_df)-3000]\n",
    "print(training_set.shape)\n",
    "training_set_sliced = training_set.iloc[:, 1:7].values\n"
   ]
  },
  {
   "cell_type": "code",
   "execution_count": 234,
   "metadata": {
    "collapsed": false
   },
   "outputs": [
    {
     "data": {
      "text/plain": [
       "array([142.5       , 200.        , 142.5       , 192.49132547,\n",
       "       142.5       , 905.        ])"
      ]
     },
     "execution_count": 234,
     "metadata": {},
     "output_type": "execute_result"
    }
   ],
   "source": [
    "training_set_sliced[4]"
   ]
  },
  {
   "cell_type": "code",
   "execution_count": 235,
   "metadata": {
    "collapsed": false
   },
   "outputs": [],
   "source": [
    "# Feature Scaling\n",
    "from sklearn.preprocessing import MinMaxScaler\n",
    "sc = MinMaxScaler(feature_range = (0, 1))\n",
    "training_set_scaled = sc.fit_transform(training_set_sliced)\n"
   ]
  },
  {
   "cell_type": "code",
   "execution_count": 236,
   "metadata": {
    "collapsed": true
   },
   "outputs": [],
   "source": [
    "time_steps=50"
   ]
  },
  {
   "cell_type": "code",
   "execution_count": 237,
   "metadata": {
    "collapsed": false
   },
   "outputs": [],
   "source": [
    "# Creating a data structure with 100 timesteps and 1 output\n",
    "X_train = []\n",
    "y_train = []\n",
    "for i in range(time_steps, len(training_set)):\n",
    "    X_train.append(training_set_scaled[i-time_steps:i])\n",
    "    y_train.append(training_set_scaled[i])\n",
    "X_train, y_train = np.array(X_train), np.array(y_train)\n",
    "\n",
    "# Reshaping\n",
    "X_train = np.reshape(X_train, (X_train.shape[0], X_train.shape[1], 6))"
   ]
  },
  {
   "cell_type": "code",
   "execution_count": 238,
   "metadata": {
    "collapsed": false
   },
   "outputs": [
    {
     "data": {
      "text/plain": [
       "(13082, 50, 6)"
      ]
     },
     "execution_count": 238,
     "metadata": {},
     "output_type": "execute_result"
    }
   ],
   "source": [
    "X_train.shape"
   ]
  },
  {
   "cell_type": "code",
   "execution_count": 239,
   "metadata": {
    "collapsed": false
   },
   "outputs": [
    {
     "data": {
      "text/plain": [
       "(13082, 6)"
      ]
     },
     "execution_count": 239,
     "metadata": {},
     "output_type": "execute_result"
    }
   ],
   "source": [
    "y_train.shape"
   ]
  },
  {
   "cell_type": "code",
   "execution_count": 240,
   "metadata": {
    "collapsed": false
   },
   "outputs": [],
   "source": [
    "\n",
    "# Importing the Keras libraries and packages\n",
    "from keras.models import Sequential\n",
    "from keras.layers import Dense\n",
    "from keras.layers import LSTM\n",
    "from keras.layers import Dropout\n",
    "\n",
    "# Initialising the RNN\n",
    "regressor = Sequential()"
   ]
  },
  {
   "cell_type": "code",
   "execution_count": 241,
   "metadata": {
    "collapsed": false
   },
   "outputs": [],
   "source": [
    "\n",
    "# Adding the first LSTM layer and some Dropout regularisation\n",
    "regressor.add(LSTM(units = 75, return_sequences = True, input_shape = (X_train.shape[1], 6)))\n",
    "\n",
    "regressor.add(LSTM(units = 75, return_sequences = True))\n",
    "regressor.add(Dropout(0.2))\n",
    "\n",
    "# Adding a second LSTM layer and some Dropout regularisation\n",
    "regressor.add(LSTM(units = 75))\n",
    "regressor.add(Dropout(0.2))\n",
    "\n",
    "# Adding the output layer\n",
    "regressor.add(Dense(units = 6))\n",
    "\n",
    "# Compiling the RNN\n",
    "regressor.compile(optimizer = 'adam', loss = 'mean_squared_error')\n",
    "\n",
    "\n",
    "\n"
   ]
  },
  {
   "cell_type": "code",
   "execution_count": 242,
   "metadata": {
    "collapsed": false
   },
   "outputs": [
    {
     "name": "stdout",
     "output_type": "stream",
     "text": [
      "_________________________________________________________________\n",
      "Layer (type)                 Output Shape              Param #   \n",
      "=================================================================\n",
      "lstm_25 (LSTM)               (None, 50, 75)            24600     \n",
      "_________________________________________________________________\n",
      "lstm_26 (LSTM)               (None, 50, 75)            45300     \n",
      "_________________________________________________________________\n",
      "dropout_15 (Dropout)         (None, 50, 75)            0         \n",
      "_________________________________________________________________\n",
      "lstm_27 (LSTM)               (None, 75)                45300     \n",
      "_________________________________________________________________\n",
      "dropout_16 (Dropout)         (None, 75)                0         \n",
      "_________________________________________________________________\n",
      "dense_10 (Dense)             (None, 6)                 456       \n",
      "=================================================================\n",
      "Total params: 115,656\n",
      "Trainable params: 115,656\n",
      "Non-trainable params: 0\n",
      "_________________________________________________________________\n"
     ]
    }
   ],
   "source": [
    "regressor.summary()"
   ]
  },
  {
   "cell_type": "code",
   "execution_count": 243,
   "metadata": {
    "collapsed": false
   },
   "outputs": [
    {
     "name": "stdout",
     "output_type": "stream",
     "text": [
      "Epoch 1/100\n",
      "13082/13082 [==============================] - 57s 4ms/step - loss: 0.0032\n",
      "Epoch 2/100\n",
      "13082/13082 [==============================] - 52s 4ms/step - loss: 0.0013\n",
      "Epoch 3/100\n",
      "13082/13082 [==============================] - 61s 5ms/step - loss: 0.0010\n",
      "Epoch 4/100\n",
      "13082/13082 [==============================] - 57s 4ms/step - loss: 8.5920e-04\n",
      "Epoch 5/100\n",
      "13082/13082 [==============================] - 58s 4ms/step - loss: 7.3642e-04\n",
      "Epoch 6/100\n",
      "13082/13082 [==============================] - 50s 4ms/step - loss: 6.9864e-04\n",
      "Epoch 7/100\n",
      "13082/13082 [==============================] - 53s 4ms/step - loss: 6.5512e-04\n",
      "Epoch 8/100\n",
      "13082/13082 [==============================] - 53s 4ms/step - loss: 6.5932e-04\n",
      "Epoch 9/100\n",
      "13082/13082 [==============================] - 49s 4ms/step - loss: 6.0635e-04\n",
      "Epoch 10/100\n",
      "13082/13082 [==============================] - 50s 4ms/step - loss: 6.0970e-04\n",
      "Epoch 11/100\n",
      "13082/13082 [==============================] - 49s 4ms/step - loss: 5.6789e-04\n",
      "Epoch 12/100\n",
      "13082/13082 [==============================] - 51s 4ms/step - loss: 5.6558e-04\n",
      "Epoch 13/100\n",
      "13082/13082 [==============================] - 50s 4ms/step - loss: 5.4924e-04\n",
      "Epoch 14/100\n",
      "13082/13082 [==============================] - 54s 4ms/step - loss: 5.4055e-04\n",
      "Epoch 15/100\n",
      "13082/13082 [==============================] - 52s 4ms/step - loss: 5.5560e-04\n",
      "Epoch 16/100\n",
      "13082/13082 [==============================] - 49s 4ms/step - loss: 5.3284e-04\n",
      "Epoch 17/100\n",
      "13082/13082 [==============================] - 51s 4ms/step - loss: 5.3496e-04\n",
      "Epoch 18/100\n",
      "13082/13082 [==============================] - 49s 4ms/step - loss: 5.1112e-04\n",
      "Epoch 19/100\n",
      "13082/13082 [==============================] - 49s 4ms/step - loss: 5.0336e-04\n",
      "Epoch 20/100\n",
      "13082/13082 [==============================] - 48s 4ms/step - loss: 5.1980e-04\n",
      "Epoch 21/100\n",
      "13082/13082 [==============================] - 49s 4ms/step - loss: 5.1963e-04\n",
      "Epoch 22/100\n",
      "13082/13082 [==============================] - 52s 4ms/step - loss: 5.0012e-04\n",
      "Epoch 23/100\n",
      "13082/13082 [==============================] - 51s 4ms/step - loss: 4.8652e-04\n",
      "Epoch 24/100\n",
      "13082/13082 [==============================] - 49s 4ms/step - loss: 5.1193e-04\n",
      "Epoch 25/100\n",
      "13082/13082 [==============================] - 61s 5ms/step - loss: 5.0117e-04\n",
      "Epoch 26/100\n",
      "13082/13082 [==============================] - 51s 4ms/step - loss: 4.9286e-04\n",
      "Epoch 27/100\n",
      "13082/13082 [==============================] - 51s 4ms/step - loss: 5.0140e-04\n",
      "Epoch 28/100\n",
      "13082/13082 [==============================] - 55s 4ms/step - loss: 4.9603e-04\n",
      "Epoch 29/100\n",
      "13082/13082 [==============================] - 49s 4ms/step - loss: 5.2516e-04\n",
      "Epoch 30/100\n",
      "13082/13082 [==============================] - 49s 4ms/step - loss: 4.7948e-04\n",
      "Epoch 31/100\n",
      "13082/13082 [==============================] - 58s 4ms/step - loss: 4.8988e-04\n",
      "Epoch 32/100\n",
      "13082/13082 [==============================] - 53s 4ms/step - loss: 4.8638e-04\n",
      "Epoch 33/100\n",
      "13082/13082 [==============================] - 49s 4ms/step - loss: 4.8689e-04\n",
      "Epoch 34/100\n",
      "13082/13082 [==============================] - 49s 4ms/step - loss: 4.8526e-04\n",
      "Epoch 35/100\n",
      "13082/13082 [==============================] - 50s 4ms/step - loss: 4.8351e-04\n",
      "Epoch 36/100\n",
      "13082/13082 [==============================] - 53s 4ms/step - loss: 4.8521e-04\n",
      "Epoch 37/100\n",
      "13082/13082 [==============================] - 58s 4ms/step - loss: 4.9870e-04\n",
      "Epoch 38/100\n",
      "13082/13082 [==============================] - 50s 4ms/step - loss: 4.7854e-04\n",
      "Epoch 39/100\n",
      "13082/13082 [==============================] - 51s 4ms/step - loss: 4.8024e-04\n",
      "Epoch 40/100\n",
      "13082/13082 [==============================] - 58s 4ms/step - loss: 4.9559e-04\n",
      "Epoch 41/100\n",
      "13082/13082 [==============================] - 57s 4ms/step - loss: 4.8294e-04\n",
      "Epoch 42/100\n",
      "13082/13082 [==============================] - 51s 4ms/step - loss: 5.0532e-04\n",
      "Epoch 43/100\n",
      "13082/13082 [==============================] - 56s 4ms/step - loss: 4.8724e-04\n",
      "Epoch 44/100\n",
      "13082/13082 [==============================] - 53s 4ms/step - loss: 4.8003e-04\n",
      "Epoch 45/100\n",
      "13082/13082 [==============================] - 53s 4ms/step - loss: 4.8667e-04\n",
      "Epoch 46/100\n",
      "13082/13082 [==============================] - 52s 4ms/step - loss: 4.8630e-04\n",
      "Epoch 47/100\n",
      "13082/13082 [==============================] - 57s 4ms/step - loss: 4.7326e-04\n",
      "Epoch 48/100\n",
      "13082/13082 [==============================] - 51s 4ms/step - loss: 4.7076e-04\n",
      "Epoch 49/100\n",
      "13082/13082 [==============================] - 50s 4ms/step - loss: 4.8178e-04\n",
      "Epoch 50/100\n",
      "13082/13082 [==============================] - 53s 4ms/step - loss: 4.7089e-04\n",
      "Epoch 51/100\n",
      "13082/13082 [==============================] - 52s 4ms/step - loss: 4.6601e-04\n",
      "Epoch 52/100\n",
      "13082/13082 [==============================] - 52s 4ms/step - loss: 4.6862e-04\n",
      "Epoch 53/100\n",
      "13082/13082 [==============================] - 52s 4ms/step - loss: 4.5707e-04\n",
      "Epoch 54/100\n",
      "13082/13082 [==============================] - 58s 4ms/step - loss: 4.5993e-04\n",
      "Epoch 55/100\n",
      "13082/13082 [==============================] - 52s 4ms/step - loss: 4.5263e-04\n",
      "Epoch 56/100\n",
      "13082/13082 [==============================] - 52s 4ms/step - loss: 4.7120e-04\n",
      "Epoch 57/100\n",
      "13082/13082 [==============================] - 52s 4ms/step - loss: 4.6964e-04\n",
      "Epoch 58/100\n",
      "13082/13082 [==============================] - 61s 5ms/step - loss: 4.5927e-04\n",
      "Epoch 59/100\n",
      "13082/13082 [==============================] - 69s 5ms/step - loss: 4.8267e-04\n",
      "Epoch 60/100\n",
      "13082/13082 [==============================] - 56s 4ms/step - loss: 4.6096e-04\n",
      "Epoch 61/100\n",
      "13082/13082 [==============================] - 52s 4ms/step - loss: 4.5651e-04\n",
      "Epoch 62/100\n",
      "13082/13082 [==============================] - 55s 4ms/step - loss: 4.6608e-04\n",
      "Epoch 63/100\n",
      "13082/13082 [==============================] - 59s 5ms/step - loss: 4.6449e-04\n",
      "Epoch 64/100\n",
      "13082/13082 [==============================] - 59s 4ms/step - loss: 4.5625e-04\n",
      "Epoch 65/100\n",
      "13082/13082 [==============================] - 62s 5ms/step - loss: 4.6936e-04\n",
      "Epoch 66/100\n",
      "13082/13082 [==============================] - 52s 4ms/step - loss: 4.6762e-04\n",
      "Epoch 67/100\n",
      "13082/13082 [==============================] - 52s 4ms/step - loss: 4.4664e-04\n",
      "Epoch 68/100\n",
      "13082/13082 [==============================] - 50s 4ms/step - loss: 4.5713e-04\n",
      "Epoch 69/100\n",
      "13082/13082 [==============================] - 53s 4ms/step - loss: 4.5385e-04\n",
      "Epoch 70/100\n",
      "13082/13082 [==============================] - 52s 4ms/step - loss: 4.5060e-04\n",
      "Epoch 71/100\n",
      "13082/13082 [==============================] - 53s 4ms/step - loss: 4.5986e-04\n",
      "Epoch 72/100\n",
      "13082/13082 [==============================] - 51s 4ms/step - loss: 4.4803e-04\n",
      "Epoch 73/100\n",
      "13082/13082 [==============================] - 52s 4ms/step - loss: 4.6239e-04\n",
      "Epoch 74/100\n",
      "13082/13082 [==============================] - 53s 4ms/step - loss: 4.4511e-04\n",
      "Epoch 75/100\n",
      "13082/13082 [==============================] - 52s 4ms/step - loss: 4.6430e-04\n",
      "Epoch 76/100\n",
      "13082/13082 [==============================] - 55s 4ms/step - loss: 4.5521e-04\n",
      "Epoch 77/100\n",
      "13082/13082 [==============================] - 54s 4ms/step - loss: 4.5528e-04\n",
      "Epoch 78/100\n",
      "13082/13082 [==============================] - 52s 4ms/step - loss: 4.4611e-04\n",
      "Epoch 79/100\n",
      "13082/13082 [==============================] - 52s 4ms/step - loss: 4.4184e-04\n",
      "Epoch 80/100\n",
      "13082/13082 [==============================] - 53s 4ms/step - loss: 4.4782e-04\n",
      "Epoch 81/100\n",
      "13082/13082 [==============================] - 53s 4ms/step - loss: 4.4934e-04\n",
      "Epoch 82/100\n",
      "13082/13082 [==============================] - 55s 4ms/step - loss: 4.4260e-04\n",
      "Epoch 83/100\n",
      "13082/13082 [==============================] - 58s 4ms/step - loss: 4.5274e-04\n",
      "Epoch 84/100\n",
      "13082/13082 [==============================] - 59s 5ms/step - loss: 4.6745e-04\n",
      "Epoch 85/100\n",
      "13082/13082 [==============================] - 60s 5ms/step - loss: 4.4279e-04\n",
      "Epoch 86/100\n",
      "13082/13082 [==============================] - 63s 5ms/step - loss: 4.3541e-04\n",
      "Epoch 87/100\n",
      "13082/13082 [==============================] - 19667s 2s/step - loss: 4.3661e-04\n",
      "Epoch 88/100\n",
      "13082/13082 [==============================] - 52s 4ms/step - loss: 4.3691e-04\n",
      "Epoch 89/100\n",
      "13082/13082 [==============================] - 31s 2ms/step - loss: 4.5406e-04\n",
      "Epoch 90/100\n",
      "13082/13082 [==============================] - 36s 3ms/step - loss: 4.3578e-04\n",
      "Epoch 91/100\n",
      "13082/13082 [==============================] - 33s 2ms/step - loss: 4.4249e-04\n",
      "Epoch 92/100\n",
      "13082/13082 [==============================] - 30s 2ms/step - loss: 4.4201e-04\n",
      "Epoch 93/100\n",
      "13082/13082 [==============================] - 35s 3ms/step - loss: 4.3812e-04\n",
      "Epoch 94/100\n",
      "13082/13082 [==============================] - 55s 4ms/step - loss: 4.5256e-04\n",
      "Epoch 95/100\n",
      "13082/13082 [==============================] - 32s 2ms/step - loss: 4.4642e-04\n",
      "Epoch 96/100\n",
      "13082/13082 [==============================] - 37s 3ms/step - loss: 4.3713e-04\n",
      "Epoch 97/100\n",
      "13082/13082 [==============================] - 44s 3ms/step - loss: 4.2972e-04\n",
      "Epoch 98/100\n",
      "13082/13082 [==============================] - 33s 2ms/step - loss: 4.3038e-04\n",
      "Epoch 99/100\n",
      "13082/13082 [==============================] - 33s 3ms/step - loss: 4.2969e-04\n",
      "Epoch 100/100\n",
      "13082/13082 [==============================] - 33s 3ms/step - loss: 4.3791e-04\n"
     ]
    },
    {
     "data": {
      "text/plain": [
       "<keras.callbacks.History at 0x27140406748>"
      ]
     },
     "execution_count": 243,
     "metadata": {},
     "output_type": "execute_result"
    }
   ],
   "source": [
    "# Fitting the RNN to the Training set\n",
    "regressor.fit(X_train, y_train, epochs = 100, batch_size = 60)"
   ]
  },
  {
   "cell_type": "code",
   "execution_count": null,
   "metadata": {
    "collapsed": false
   },
   "outputs": [],
   "source": [
    "# print('model built successfully')\n",
    "# regressor.save('dns(100 epo- 50 neuron-200 time).h5') "
   ]
  },
  {
   "cell_type": "code",
   "execution_count": 244,
   "metadata": {
    "collapsed": true
   },
   "outputs": [],
   "source": [
    "\n",
    "real_pattern_prediction=preprocessed_df[len(preprocessed_df)-3000:]"
   ]
  },
  {
   "cell_type": "code",
   "execution_count": 245,
   "metadata": {
    "collapsed": false
   },
   "outputs": [
    {
     "data": {
      "text/plain": [
       "(3000, 7)"
      ]
     },
     "execution_count": 245,
     "metadata": {},
     "output_type": "execute_result"
    }
   ],
   "source": [
    "real_pattern_prediction.shape"
   ]
  },
  {
   "cell_type": "code",
   "execution_count": 246,
   "metadata": {
    "collapsed": false
   },
   "outputs": [
    {
     "data": {
      "text/plain": [
       "(13132, 7)"
      ]
     },
     "execution_count": 246,
     "metadata": {},
     "output_type": "execute_result"
    }
   ],
   "source": [
    "training_set.shape"
   ]
  },
  {
   "cell_type": "code",
   "execution_count": 247,
   "metadata": {
    "collapsed": true
   },
   "outputs": [],
   "source": [
    "train_cols = ['Utilization(bps)','SMA4','SMA9','EMA4','EMA9','cum_sum']"
   ]
  },
  {
   "cell_type": "code",
   "execution_count": 248,
   "metadata": {
    "collapsed": false
   },
   "outputs": [],
   "source": [
    "\n",
    "# Getting the Random predictiond data\n",
    "dataset_total = pd.concat((training_set[train_cols], real_pattern_prediction[train_cols]), axis = 0)\n",
    "inputs = dataset_total[len(dataset_total) - len(real_pattern_prediction) - time_steps:].values\n"
   ]
  },
  {
   "cell_type": "code",
   "execution_count": 249,
   "metadata": {
    "collapsed": false
   },
   "outputs": [
    {
     "data": {
      "text/html": [
       "<div>\n",
       "<table border=\"1\" class=\"dataframe\">\n",
       "  <thead>\n",
       "    <tr style=\"text-align: right;\">\n",
       "      <th></th>\n",
       "      <th>Utilization(bps)</th>\n",
       "      <th>SMA4</th>\n",
       "      <th>SMA9</th>\n",
       "      <th>EMA4</th>\n",
       "      <th>EMA9</th>\n",
       "      <th>cum_sum</th>\n",
       "    </tr>\n",
       "  </thead>\n",
       "  <tbody>\n",
       "    <tr>\n",
       "      <th>0</th>\n",
       "      <td>105.0</td>\n",
       "      <td>105.000</td>\n",
       "      <td>105.0</td>\n",
       "      <td>105.000000</td>\n",
       "      <td>105.0</td>\n",
       "      <td>105.0</td>\n",
       "    </tr>\n",
       "    <tr>\n",
       "      <th>1</th>\n",
       "      <td>212.5</td>\n",
       "      <td>212.500</td>\n",
       "      <td>212.5</td>\n",
       "      <td>212.500000</td>\n",
       "      <td>212.5</td>\n",
       "      <td>317.5</td>\n",
       "    </tr>\n",
       "    <tr>\n",
       "      <th>2</th>\n",
       "      <td>105.0</td>\n",
       "      <td>105.000</td>\n",
       "      <td>105.0</td>\n",
       "      <td>105.000000</td>\n",
       "      <td>105.0</td>\n",
       "      <td>422.5</td>\n",
       "    </tr>\n",
       "    <tr>\n",
       "      <th>3</th>\n",
       "      <td>340.0</td>\n",
       "      <td>190.625</td>\n",
       "      <td>340.0</td>\n",
       "      <td>230.781250</td>\n",
       "      <td>340.0</td>\n",
       "      <td>762.5</td>\n",
       "    </tr>\n",
       "    <tr>\n",
       "      <th>4</th>\n",
       "      <td>142.5</td>\n",
       "      <td>200.000</td>\n",
       "      <td>142.5</td>\n",
       "      <td>192.491325</td>\n",
       "      <td>142.5</td>\n",
       "      <td>905.0</td>\n",
       "    </tr>\n",
       "  </tbody>\n",
       "</table>\n",
       "</div>"
      ],
      "text/plain": [
       "   Utilization(bps)     SMA4   SMA9        EMA4   EMA9  cum_sum\n",
       "0             105.0  105.000  105.0  105.000000  105.0    105.0\n",
       "1             212.5  212.500  212.5  212.500000  212.5    317.5\n",
       "2             105.0  105.000  105.0  105.000000  105.0    422.5\n",
       "3             340.0  190.625  340.0  230.781250  340.0    762.5\n",
       "4             142.5  200.000  142.5  192.491325  142.5    905.0"
      ]
     },
     "execution_count": 249,
     "metadata": {},
     "output_type": "execute_result"
    }
   ],
   "source": [
    "dataset_total.head()"
   ]
  },
  {
   "cell_type": "code",
   "execution_count": 250,
   "metadata": {
    "collapsed": false
   },
   "outputs": [],
   "source": [
    "\n",
    "inputs = inputs.reshape(-1,6)\n",
    "\n",
    "inputs = sc.transform(inputs)"
   ]
  },
  {
   "cell_type": "code",
   "execution_count": 251,
   "metadata": {
    "collapsed": false
   },
   "outputs": [],
   "source": [
    "\n",
    "X_test = []\n",
    "for i in range(time_steps, len(real_pattern_prediction)+time_steps):\n",
    "    X_test.append(inputs[i-time_steps:i])\n",
    "X_test = np.array(X_test)\n"
   ]
  },
  {
   "cell_type": "code",
   "execution_count": 252,
   "metadata": {
    "collapsed": false
   },
   "outputs": [],
   "source": [
    "X_test = np.reshape(X_test, (X_test.shape[0], X_test.shape[1], 6))"
   ]
  },
  {
   "cell_type": "code",
   "execution_count": 253,
   "metadata": {
    "collapsed": false
   },
   "outputs": [
    {
     "data": {
      "text/plain": [
       "(3000, 50, 6)"
      ]
     },
     "execution_count": 253,
     "metadata": {},
     "output_type": "execute_result"
    }
   ],
   "source": [
    "X_test.shape"
   ]
  },
  {
   "cell_type": "code",
   "execution_count": 254,
   "metadata": {
    "collapsed": false
   },
   "outputs": [],
   "source": [
    "\n",
    "predicted_pattern = regressor.predict(X_test)\n",
    "predicted_pattern = sc.inverse_transform(predicted_pattern)"
   ]
  },
  {
   "cell_type": "code",
   "execution_count": 255,
   "metadata": {
    "collapsed": false
   },
   "outputs": [
    {
     "data": {
      "text/plain": [
       "667.1661"
      ]
     },
     "execution_count": 255,
     "metadata": {},
     "output_type": "execute_result"
    }
   ],
   "source": [
    "predicted_pattern[0][0]"
   ]
  },
  {
   "cell_type": "code",
   "execution_count": 256,
   "metadata": {
    "collapsed": true
   },
   "outputs": [],
   "source": [
    "utilization_prediction=predicted_pattern[:,0]"
   ]
  },
  {
   "cell_type": "code",
   "execution_count": 257,
   "metadata": {
    "collapsed": false
   },
   "outputs": [
    {
     "data": {
      "text/plain": [
       "667.1661"
      ]
     },
     "execution_count": 257,
     "metadata": {},
     "output_type": "execute_result"
    }
   ],
   "source": [
    "utilization_prediction[0]"
   ]
  },
  {
   "cell_type": "code",
   "execution_count": 258,
   "metadata": {
    "collapsed": false
   },
   "outputs": [
    {
     "data": {
      "image/png": "[encoded data removed]",
      "text/plain": [
       "<Figure size 600x400 with 1 Axes>"
      ]
     },
     "metadata": {},
     "output_type": "display_data"
    }
   ],
   "source": [
    "import matplotlib.pyplot as plt\n",
    "%matplotlib inline\n",
    "real_pattern_prediction=real_pattern_prediction.iloc[:, 1:2].values\n",
    "# Visualising the results\n",
    "plt.plot(real_pattern_prediction, color = 'red', label = 'Real Pattern Number')\n",
    "plt.plot(utilization_prediction, color = 'blue', label = 'Predicted Pattern Number')\n",
    "plt.title('50 time-75 neurons (2)-150 epoch DNS- Prediction')\n",
    "plt.xlabel('record')\n",
    "plt.ylabel('Pattern Number')\n",
    "plt.legend()\n",
    "plt.show()"
   ]
  },
  {
   "cell_type": "code",
   "execution_count": null,
   "metadata": {
    "collapsed": true
   },
   "outputs": [],
   "source": []
  }
 ],
 "metadata": {
  "kernelspec": {
   "display_name": "Python [Anaconda3]",
   "language": "python",
   "name": "Python [Anaconda3]"
  },
  "language_info": {
   "codemirror_mode": {
    "name": "ipython",
    "version": 3
   },
   "file_extension": ".py",
   "mimetype": "text/x-python",
   "name": "python",
   "nbconvert_exporter": "python",
   "pygments_lexer": "ipython3",
   "version": "3.5.2"
  }
 },
 "nbformat": 4,
 "nbformat_minor": 0
}

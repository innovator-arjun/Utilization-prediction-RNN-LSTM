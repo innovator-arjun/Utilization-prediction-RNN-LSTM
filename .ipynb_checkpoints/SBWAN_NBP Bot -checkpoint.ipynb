{
 "cells": [
  {
   "cell_type": "markdown",
   "metadata": {},
   "source": [
    "# Satyaki NBPB "
   ]
  },
  {
   "cell_type": "markdown",
   "metadata": {},
   "source": [
    "## Approach 1: Using NBPB Code"
   ]
  },
  {
   "cell_type": "markdown",
   "metadata": {},
   "source": [
    "#### PYTHON 2"
   ]
  },
  {
   "cell_type": "code",
   "execution_count": 1,
   "metadata": {
    "collapsed": true
   },
   "outputs": [],
   "source": [
    "import pandas as pd\n",
    "import numpy as np\n",
    "import datetime\n",
    "import sqlite3"
   ]
  },
  {
   "cell_type": "code",
   "execution_count": 2,
   "metadata": {
    "collapsed": true
   },
   "outputs": [],
   "source": [
    "# Parameters\n",
    "\n",
    "# 5 mins interval\n",
    "Polling = 5"
   ]
  },
  {
   "cell_type": "code",
   "execution_count": 3,
   "metadata": {
    "collapsed": true
   },
   "outputs": [],
   "source": [
    "conn = sqlite3.connect('Data/ticket_db.sqlite')\n",
    "cur = conn.cursor()"
   ]
  },
  {
   "cell_type": "code",
   "execution_count": null,
   "metadata": {
    "collapsed": true
   },
   "outputs": [],
   "source": [
    "# d1 = pd.read_sql(\"SELECT 'vdevice_host_name' as HOSTNAME FROM ticket_data\", con=conn)"
   ]
  },
  {
   "cell_type": "code",
   "execution_count": 4,
   "metadata": {
    "collapsed": true
   },
   "outputs": [],
   "source": [
    "data = pd.read_sql(\"SELECT 'vdevice-host-name' as Hostname, application as Application, octets, strftime('%Y-%m-%d %H:%M:%S', datetime(scheduler_datetime,'unixepoch')) as Timestamp FROM ticket_data\", con=conn)"
   ]
  },
  {
   "cell_type": "code",
   "execution_count": 5,
   "metadata": {
    "collapsed": false
   },
   "outputs": [
    {
     "data": {
      "text/plain": [
       "(891778, 4)"
      ]
     },
     "execution_count": 5,
     "metadata": {},
     "output_type": "execute_result"
    }
   ],
   "source": [
    "data.shape"
   ]
  },
  {
   "cell_type": "markdown",
   "metadata": {},
   "source": [
    "## Raw Data"
   ]
  },
  {
   "cell_type": "code",
   "execution_count": 6,
   "metadata": {
    "collapsed": false
   },
   "outputs": [
    {
     "data": {
      "text/html": [
       "<div>\n",
       "<style scoped>\n",
       "    .dataframe tbody tr th:only-of-type {\n",
       "        vertical-align: middle;\n",
       "    }\n",
       "\n",
       "    .dataframe tbody tr th {\n",
       "        vertical-align: top;\n",
       "    }\n",
       "\n",
       "    .dataframe thead th {\n",
       "        text-align: right;\n",
       "    }\n",
       "</style>\n",
       "<table border=\"1\" class=\"dataframe\">\n",
       "  <thead>\n",
       "    <tr style=\"text-align: right;\">\n",
       "      <th></th>\n",
       "      <th>Hostname</th>\n",
       "      <th>Application</th>\n",
       "      <th>octets</th>\n",
       "      <th>Timestamp</th>\n",
       "      <th>octets(bps)</th>\n",
       "    </tr>\n",
       "  </thead>\n",
       "  <tbody>\n",
       "    <tr>\n",
       "      <th>0</th>\n",
       "      <td>vdevice-host-name</td>\n",
       "      <td>dns</td>\n",
       "      <td>999321</td>\n",
       "      <td>2019-01-18 08:50:00</td>\n",
       "      <td>124915.125</td>\n",
       "    </tr>\n",
       "    <tr>\n",
       "      <th>1</th>\n",
       "      <td>vdevice-host-name</td>\n",
       "      <td>unknown</td>\n",
       "      <td>6263</td>\n",
       "      <td>2019-01-18 08:50:00</td>\n",
       "      <td>782.875</td>\n",
       "    </tr>\n",
       "    <tr>\n",
       "      <th>2</th>\n",
       "      <td>vdevice-host-name</td>\n",
       "      <td>tcp</td>\n",
       "      <td>256</td>\n",
       "      <td>2019-01-18 08:50:00</td>\n",
       "      <td>32.000</td>\n",
       "    </tr>\n",
       "    <tr>\n",
       "      <th>3</th>\n",
       "      <td>vdevice-host-name</td>\n",
       "      <td>https</td>\n",
       "      <td>14039837</td>\n",
       "      <td>2019-01-18 08:50:00</td>\n",
       "      <td>1754979.625</td>\n",
       "    </tr>\n",
       "    <tr>\n",
       "      <th>4</th>\n",
       "      <td>vdevice-host-name</td>\n",
       "      <td>google_gen</td>\n",
       "      <td>999692</td>\n",
       "      <td>2019-01-18 08:50:00</td>\n",
       "      <td>124961.500</td>\n",
       "    </tr>\n",
       "  </tbody>\n",
       "</table>\n",
       "</div>"
      ],
      "text/plain": [
       "            Hostname Application    octets           Timestamp  octets(bps)\n",
       "0  vdevice-host-name         dns    999321 2019-01-18 08:50:00   124915.125\n",
       "1  vdevice-host-name     unknown      6263 2019-01-18 08:50:00      782.875\n",
       "2  vdevice-host-name         tcp       256 2019-01-18 08:50:00       32.000\n",
       "3  vdevice-host-name       https  14039837 2019-01-18 08:50:00  1754979.625\n",
       "4  vdevice-host-name  google_gen    999692 2019-01-18 08:50:00   124961.500"
      ]
     },
     "execution_count": 6,
     "metadata": {},
     "output_type": "execute_result"
    }
   ],
   "source": [
    "df = data.copy()\n",
    "# Continous data starts here\n",
    "df = df[34:]\n",
    "# convert octects into bps\n",
    "df['octets(bps)'] = df['octets'].astype(float)/8.0\n",
    "# convert to datetime and round-off min\n",
    "df.Timestamp = pd.to_datetime(pd.to_datetime(df.Timestamp).dt.strftime('%Y-%m-%d %H:%M:00'))\n",
    "df = df.sort_values(by='Timestamp').reset_index(drop=True)\n",
    "df.head()"
   ]
  },
  {
   "cell_type": "markdown",
   "metadata": {},
   "source": [
    "## Final Data"
   ]
  },
  {
   "cell_type": "code",
   "execution_count": 7,
   "metadata": {
    "collapsed": true
   },
   "outputs": [],
   "source": [
    "final = pd.DataFrame()\n",
    "\n",
    "for app in df.Application.unique():\n",
    "    \n",
    "    f = df[df.Application == app].sort_values(by='Timestamp').reset_index(drop=True)\n",
    "    f = f.drop_duplicates(subset='Timestamp')\n",
    "    f['time_gap(seconds)'] = (f.Timestamp - f.Timestamp.shift(1)).fillna(0).apply(lambda x: int(x.total_seconds()))\n",
    "    f['Utilization(bps)'] = (f['octets(bps)'] - f['octets(bps)'].shift(1)).fillna(0)\n",
    "    f = f.reset_index(drop=True)\n",
    "    f = f[f['time_gap(seconds)'] == Polling*60]\n",
    "    final = final.append(f)"
   ]
  },
  {
   "cell_type": "code",
   "execution_count": 8,
   "metadata": {
    "collapsed": false
   },
   "outputs": [
    {
     "data": {
      "text/html": [
       "<div>\n",
       "<style scoped>\n",
       "    .dataframe tbody tr th:only-of-type {\n",
       "        vertical-align: middle;\n",
       "    }\n",
       "\n",
       "    .dataframe tbody tr th {\n",
       "        vertical-align: top;\n",
       "    }\n",
       "\n",
       "    .dataframe thead th {\n",
       "        text-align: right;\n",
       "    }\n",
       "</style>\n",
       "<table border=\"1\" class=\"dataframe\">\n",
       "  <thead>\n",
       "    <tr style=\"text-align: right;\">\n",
       "      <th></th>\n",
       "      <th>Hostname</th>\n",
       "      <th>Application</th>\n",
       "      <th>octets</th>\n",
       "      <th>Timestamp</th>\n",
       "      <th>octets(bps)</th>\n",
       "      <th>time_gap(seconds)</th>\n",
       "      <th>Utilization(bps)</th>\n",
       "    </tr>\n",
       "  </thead>\n",
       "  <tbody>\n",
       "    <tr>\n",
       "      <th>0</th>\n",
       "      <td>vdevice-host-name</td>\n",
       "      <td>dns</td>\n",
       "      <td>1000161</td>\n",
       "      <td>2019-01-18 08:55:00</td>\n",
       "      <td>125020.125</td>\n",
       "      <td>300</td>\n",
       "      <td>105.0</td>\n",
       "    </tr>\n",
       "    <tr>\n",
       "      <th>1</th>\n",
       "      <td>vdevice-host-name</td>\n",
       "      <td>google_gen</td>\n",
       "      <td>999692</td>\n",
       "      <td>2019-01-18 08:55:00</td>\n",
       "      <td>124961.500</td>\n",
       "      <td>300</td>\n",
       "      <td>0.0</td>\n",
       "    </tr>\n",
       "    <tr>\n",
       "      <th>2</th>\n",
       "      <td>vdevice-host-name</td>\n",
       "      <td>firefox_update</td>\n",
       "      <td>135582</td>\n",
       "      <td>2019-01-18 08:55:00</td>\n",
       "      <td>16947.750</td>\n",
       "      <td>300</td>\n",
       "      <td>0.0</td>\n",
       "    </tr>\n",
       "    <tr>\n",
       "      <th>3</th>\n",
       "      <td>vdevice-host-name</td>\n",
       "      <td>mozilla</td>\n",
       "      <td>961326</td>\n",
       "      <td>2019-01-18 08:55:00</td>\n",
       "      <td>120165.750</td>\n",
       "      <td>300</td>\n",
       "      <td>0.0</td>\n",
       "    </tr>\n",
       "    <tr>\n",
       "      <th>4</th>\n",
       "      <td>vdevice-host-name</td>\n",
       "      <td>tcp</td>\n",
       "      <td>256</td>\n",
       "      <td>2019-01-18 08:55:00</td>\n",
       "      <td>32.000</td>\n",
       "      <td>300</td>\n",
       "      <td>0.0</td>\n",
       "    </tr>\n",
       "  </tbody>\n",
       "</table>\n",
       "</div>"
      ],
      "text/plain": [
       "            Hostname     Application   octets           Timestamp  \\\n",
       "0  vdevice-host-name             dns  1000161 2019-01-18 08:55:00   \n",
       "1  vdevice-host-name      google_gen   999692 2019-01-18 08:55:00   \n",
       "2  vdevice-host-name  firefox_update   135582 2019-01-18 08:55:00   \n",
       "3  vdevice-host-name         mozilla   961326 2019-01-18 08:55:00   \n",
       "4  vdevice-host-name             tcp      256 2019-01-18 08:55:00   \n",
       "\n",
       "   octets(bps)  time_gap(seconds)  Utilization(bps)  \n",
       "0   125020.125                300             105.0  \n",
       "1   124961.500                300               0.0  \n",
       "2    16947.750                300               0.0  \n",
       "3   120165.750                300               0.0  \n",
       "4       32.000                300               0.0  "
      ]
     },
     "execution_count": 8,
     "metadata": {},
     "output_type": "execute_result"
    }
   ],
   "source": [
    "final = final.sort_values(by='Timestamp').reset_index(drop=True)\n",
    "final.head()"
   ]
  },
  {
   "cell_type": "markdown",
   "metadata": {},
   "source": [
    "## Final Output"
   ]
  },
  {
   "cell_type": "code",
   "execution_count": 9,
   "metadata": {
    "collapsed": true
   },
   "outputs": [],
   "source": [
    "final = final[['Hostname', 'Application', 'Utilization(bps)', 'Timestamp']]"
   ]
  },
  {
   "cell_type": "code",
   "execution_count": 10,
   "metadata": {
    "collapsed": true
   },
   "outputs": [],
   "source": [
    "final.to_excel('Data/Input_data_1.xlsx')"
   ]
  },
  {
   "cell_type": "code",
   "execution_count": 12,
   "metadata": {
    "collapsed": true
   },
   "outputs": [],
   "source": [
    "application = final['Application']"
   ]
  },
  {
   "cell_type": "code",
   "execution_count": 13,
   "metadata": {
    "collapsed": true
   },
   "outputs": [],
   "source": [
    "applist = np.unique(application).tolist()"
   ]
  },
  {
   "cell_type": "code",
   "execution_count": 14,
   "metadata": {
    "collapsed": false
   },
   "outputs": [
    {
     "data": {
      "text/plain": [
       "60"
      ]
     },
     "execution_count": 14,
     "metadata": {},
     "output_type": "execute_result"
    }
   ],
   "source": [
    "len(applist)"
   ]
  },
  {
   "cell_type": "code",
   "execution_count": 21,
   "metadata": {
    "collapsed": false
   },
   "outputs": [
    {
     "data": {
      "text/plain": [
       "98.87640449438202"
      ]
     },
     "execution_count": 21,
     "metadata": {},
     "output_type": "execute_result"
    }
   ],
   "source": [
    "(176/178)*100."
   ]
  },
  {
   "cell_type": "code",
   "execution_count": 24,
   "metadata": {
    "collapsed": true
   },
   "outputs": [],
   "source": [
    "space = '             '"
   ]
  },
  {
   "cell_type": "code",
   "execution_count": 29,
   "metadata": {
    "collapsed": false
   },
   "outputs": [
    {
     "name": "stdout",
     "output_type": "stream",
     "text": [
      "6\n",
      "28\n",
      "7\n",
      "18\n",
      "36\n",
      "0\n",
      "1\n",
      "2\n",
      "20\n",
      "7\n",
      "20\n",
      "1\n",
      "1\n",
      "21251\n",
      "24\n",
      "533\n",
      "112\n",
      "5\n",
      "3692\n",
      "18\n",
      "4375\n",
      "27\n",
      "834\n",
      "0\n",
      "30\n",
      "21229\n",
      "0\n",
      "0\n",
      "26\n",
      "1\n",
      "10\n",
      "15\n",
      "31\n",
      "1\n",
      "2605\n",
      "14257\n",
      "3\n",
      "10\n",
      "181\n",
      "26\n",
      "30\n",
      "36\n",
      "0\n",
      "0\n",
      "0\n",
      "14277\n",
      "23\n",
      "0\n",
      "30\n",
      "3\n",
      "599\n",
      "27\n",
      "0\n",
      "2\n",
      "10646\n",
      "23\n",
      "21\n",
      "22\n",
      "2967\n",
      "1\n"
     ]
    }
   ],
   "source": [
    "for i in range(len(applist)):\n",
    "    df = final[final['Application'] == applist[i]]\n",
    "    df = pd.DataFrame(df['Utilization(bps)'])\n",
    "    nz = df.shape[0] - np.count_nonzero(df)\n",
    "    zPercent = (nz/df.shape[0])*100.\n",
    "#     table = [applist[i], df.shape[0], np.count_nonzero(df), zPercent]\n",
    "    print(np.count_nonzero(df))\n",
    "    del df"
   ]
  },
  {
   "cell_type": "code",
   "execution_count": 27,
   "metadata": {
    "collapsed": true
   },
   "outputs": [],
   "source": [
    "table = pd.DataFrame(table)"
   ]
  },
  {
   "cell_type": "code",
   "execution_count": 28,
   "metadata": {
    "collapsed": false
   },
   "outputs": [
    {
     "data": {
      "text/html": [
       "<div>\n",
       "<style scoped>\n",
       "    .dataframe tbody tr th:only-of-type {\n",
       "        vertical-align: middle;\n",
       "    }\n",
       "\n",
       "    .dataframe tbody tr th {\n",
       "        vertical-align: top;\n",
       "    }\n",
       "\n",
       "    .dataframe thead th {\n",
       "        text-align: right;\n",
       "    }\n",
       "</style>\n",
       "<table border=\"1\" class=\"dataframe\">\n",
       "  <thead>\n",
       "    <tr style=\"text-align: right;\">\n",
       "      <th></th>\n",
       "      <th>0</th>\n",
       "    </tr>\n",
       "  </thead>\n",
       "  <tbody>\n",
       "    <tr>\n",
       "      <th>0</th>\n",
       "      <td>zedo</td>\n",
       "    </tr>\n",
       "    <tr>\n",
       "      <th>1</th>\n",
       "      <td>1483</td>\n",
       "    </tr>\n",
       "    <tr>\n",
       "      <th>2</th>\n",
       "      <td>1</td>\n",
       "    </tr>\n",
       "    <tr>\n",
       "      <th>3</th>\n",
       "      <td>99.9326</td>\n",
       "    </tr>\n",
       "  </tbody>\n",
       "</table>\n",
       "</div>"
      ],
      "text/plain": [
       "         0\n",
       "0     zedo\n",
       "1     1483\n",
       "2        1\n",
       "3  99.9326"
      ]
     },
     "execution_count": 28,
     "metadata": {},
     "output_type": "execute_result"
    }
   ],
   "source": [
    "table"
   ]
  },
  {
   "cell_type": "code",
   "execution_count": null,
   "metadata": {
    "collapsed": true
   },
   "outputs": [],
   "source": [
    "df = final[final['Application'] == 'dns']\n",
    "df = pd.DataFrame(df['Utilization(bps)'])\n",
    "nz = df.shape[0] - np.count_nonzero(df)\n",
    "(nz/df.shape[0])*100."
   ]
  },
  {
   "cell_type": "code",
   "execution_count": 30,
   "metadata": {
    "collapsed": true
   },
   "outputs": [],
   "source": [
    "from matplotlib.pyplot import plot "
   ]
  },
  {
   "cell_type": "code",
   "execution_count": 31,
   "metadata": {
    "collapsed": false
   },
   "outputs": [
    {
     "data": {
      "text/plain": [
       "[<matplotlib.lines.Line2D at 0x27a27429748>]"
      ]
     },
     "execution_count": 31,
     "metadata": {},
     "output_type": "execute_result"
    },
    {
     "data": {
      "image/png": "[encoded data removed]",
      "text/plain": [
       "<Figure size 432x288 with 1 Axes>"
      ]
     },
     "metadata": {
      "needs_background": "light"
     },
     "output_type": "display_data"
    }
   ],
   "source": [
    "df = final[final['Application'] == 'amazon_aws']\n",
    "time = df['Timestamp']\n",
    "util = df['Utilization(bps)']\n",
    "plot(time, util)"
   ]
  },
  {
   "cell_type": "code",
   "execution_count": null,
   "metadata": {
    "collapsed": true
   },
   "outputs": [],
   "source": []
  },
  {
   "cell_type": "code",
   "execution_count": null,
   "metadata": {
    "collapsed": true
   },
   "outputs": [],
   "source": [
    "df = final[final['Application'] == 'https']\n",
    "time = df['Timestamp']\n",
    "util = df['Utilization(bps)']\n",
    "plot(time, util)"
   ]
  },
  {
   "cell_type": "code",
   "execution_count": null,
   "metadata": {
    "collapsed": true
   },
   "outputs": [],
   "source": [
    "df = final[final['Application'] == 'new_relic']\n",
    "time = df['Timestamp']\n",
    "util = df['Utilization(bps)']\n",
    "plot(time, util)"
   ]
  },
  {
   "cell_type": "code",
   "execution_count": null,
   "metadata": {
    "collapsed": true
   },
   "outputs": [],
   "source": [
    "df = final[final['Application'] == 'salesforce']\n",
    "time = df['Timestamp']\n",
    "util = df['Utilization(bps)']\n",
    "plot(time, util)"
   ]
  },
  {
   "cell_type": "code",
   "execution_count": null,
   "metadata": {
    "collapsed": true
   },
   "outputs": [],
   "source": [
    "df = final[final['Application'] == 'unknown']\n",
    "time = df['Timestamp']\n",
    "util = df['Utilization(bps)']\n",
    "plot(time, util)"
   ]
  },
  {
   "cell_type": "code",
   "execution_count": null,
   "metadata": {
    "collapsed": true
   },
   "outputs": [],
   "source": [
    "df = final[final['Application'] == 'adobe']\n",
    "time = df['Timestamp']\n",
    "util = df['Utilization(bps)']\n",
    "plot(time, util)"
   ]
  },
  {
   "cell_type": "code",
   "execution_count": null,
   "metadata": {
    "collapsed": true
   },
   "outputs": [],
   "source": [
    "df = final[final['Application'] == 'appnexus']\n",
    "time = df['Timestamp']\n",
    "util = df['Utilization(bps)']\n",
    "plot(time, util)"
   ]
  },
  {
   "cell_type": "code",
   "execution_count": 32,
   "metadata": {
    "collapsed": true
   },
   "outputs": [],
   "source": [
    "n=1\n",
    "for i in range(n):\n",
    "    n=1\n"
   ]
  },
  {
   "cell_type": "code",
   "execution_count": null,
   "metadata": {
    "collapsed": true
   },
   "outputs": [],
   "source": [
    "while True:\n",
    "    a=1"
   ]
  },
  {
   "cell_type": "code",
   "execution_count": null,
   "metadata": {
    "collapsed": true
   },
   "outputs": [],
   "source": []
  }
 ],
 "metadata": {
  "kernelspec": {
   "display_name": "Python [Anaconda3]",
   "language": "python",
   "name": "Python [Anaconda3]"
  },
  "language_info": {
   "codemirror_mode": {
    "name": "ipython",
    "version": 3
   },
   "file_extension": ".py",
   "mimetype": "text/x-python",
   "name": "python",
   "nbconvert_exporter": "python",
   "pygments_lexer": "ipython3",
   "version": "3.5.2"
  }
 },
 "nbformat": 4,
 "nbformat_minor": 2
}

{
 "cells": [
  {
   "cell_type": "code",
   "execution_count": 65,
   "metadata": {
    "collapsed": true,
    "scrolled": true
   },
   "outputs": [],
   "source": [
    "import pandas as pd\n",
    "import numpy as np"
   ]
  },
  {
   "cell_type": "code",
   "execution_count": 66,
   "metadata": {
    "collapsed": false,
    "scrolled": true
   },
   "outputs": [],
   "source": [
    "preprocessed_df=pd.read_csv('Data/preprocessed_data.csv')\n",
    "preprocessed_df.drop(['Unnamed: 0'],1,inplace=True)"
   ]
  },
  {
   "cell_type": "code",
   "execution_count": 67,
   "metadata": {
    "collapsed": false,
    "scrolled": true
   },
   "outputs": [
    {
     "data": {
      "text/html": [
       "<div>\n",
       "<table border=\"1\" class=\"dataframe\">\n",
       "  <thead>\n",
       "    <tr style=\"text-align: right;\">\n",
       "      <th></th>\n",
       "      <th>Hostname</th>\n",
       "      <th>Application</th>\n",
       "      <th>Utilization(bps)</th>\n",
       "      <th>Timestamp</th>\n",
       "    </tr>\n",
       "  </thead>\n",
       "  <tbody>\n",
       "    <tr>\n",
       "      <th>0</th>\n",
       "      <td>vdevice-host-name</td>\n",
       "      <td>dns</td>\n",
       "      <td>105.000</td>\n",
       "      <td>2019-01-18 08:55:00</td>\n",
       "    </tr>\n",
       "    <tr>\n",
       "      <th>1</th>\n",
       "      <td>vdevice-host-name</td>\n",
       "      <td>tcp</td>\n",
       "      <td>0.000</td>\n",
       "      <td>2019-01-18 08:55:00</td>\n",
       "    </tr>\n",
       "    <tr>\n",
       "      <th>2</th>\n",
       "      <td>vdevice-host-name</td>\n",
       "      <td>https</td>\n",
       "      <td>2777.375</td>\n",
       "      <td>2019-01-18 08:55:00</td>\n",
       "    </tr>\n",
       "    <tr>\n",
       "      <th>3</th>\n",
       "      <td>vdevice-host-name</td>\n",
       "      <td>google_gen</td>\n",
       "      <td>0.000</td>\n",
       "      <td>2019-01-18 08:55:00</td>\n",
       "    </tr>\n",
       "    <tr>\n",
       "      <th>4</th>\n",
       "      <td>vdevice-host-name</td>\n",
       "      <td>firefox_update</td>\n",
       "      <td>0.000</td>\n",
       "      <td>2019-01-18 08:55:00</td>\n",
       "    </tr>\n",
       "  </tbody>\n",
       "</table>\n",
       "</div>"
      ],
      "text/plain": [
       "            Hostname     Application  Utilization(bps)            Timestamp\n",
       "0  vdevice-host-name             dns           105.000  2019-01-18 08:55:00\n",
       "1  vdevice-host-name             tcp             0.000  2019-01-18 08:55:00\n",
       "2  vdevice-host-name           https          2777.375  2019-01-18 08:55:00\n",
       "3  vdevice-host-name      google_gen             0.000  2019-01-18 08:55:00\n",
       "4  vdevice-host-name  firefox_update             0.000  2019-01-18 08:55:00"
      ]
     },
     "execution_count": 67,
     "metadata": {},
     "output_type": "execute_result"
    }
   ],
   "source": [
    "preprocessed_df.head()"
   ]
  },
  {
   "cell_type": "code",
   "execution_count": 68,
   "metadata": {
    "collapsed": true,
    "scrolled": true
   },
   "outputs": [],
   "source": [
    "application_name=['dns','https']"
   ]
  },
  {
   "cell_type": "code",
   "execution_count": 69,
   "metadata": {
    "collapsed": false,
    "scrolled": true
   },
   "outputs": [
    {
     "name": "stdout",
     "output_type": "stream",
     "text": [
      "(13132, 2)\n"
     ]
    }
   ],
   "source": [
    "# for i in application_name:\n",
    "    \n",
    "df=preprocessed_df.loc[preprocessed_df['Application'] == 'dns']\n",
    "df=df[['Timestamp','Utilization(bps)']]\n",
    "training_set=df[0:len(df)-3000]\n",
    "print(training_set.shape)\n",
    "training_set_sliced = training_set.iloc[:, 1:2].values\n"
   ]
  },
  {
   "cell_type": "code",
   "execution_count": null,
   "metadata": {
    "collapsed": false,
    "scrolled": true
   },
   "outputs": [],
   "source": []
  },
  {
   "cell_type": "code",
   "execution_count": 70,
   "metadata": {
    "collapsed": false,
    "scrolled": true
   },
   "outputs": [],
   "source": [
    "# Feature Scaling\n",
    "from sklearn.preprocessing import MinMaxScaler\n",
    "sc = MinMaxScaler(feature_range = (0, 10))\n",
    "training_set_scaled = sc.fit_transform(training_set_sliced)\n"
   ]
  },
  {
   "cell_type": "code",
   "execution_count": 71,
   "metadata": {
    "collapsed": false,
    "scrolled": true
   },
   "outputs": [],
   "source": [
    "# Creating a data structure with 100 timesteps and 1 output\n",
    "X_train = []\n",
    "y_train = []\n",
    "for i in range(40, len(training_set)):\n",
    "    X_train.append(training_set_scaled[i-40:i, 0])\n",
    "    y_train.append(training_set_scaled[i, 0])\n",
    "X_train, y_train = np.array(X_train), np.array(y_train)\n",
    "\n",
    "# Reshaping\n",
    "X_train = np.reshape(X_train, (X_train.shape[0], X_train.shape[1], 1))"
   ]
  },
  {
   "cell_type": "code",
   "execution_count": 72,
   "metadata": {
    "collapsed": false,
    "scrolled": true
   },
   "outputs": [],
   "source": [
    "#"
   ]
  },
  {
   "cell_type": "code",
   "execution_count": 73,
   "metadata": {
    "collapsed": false,
    "scrolled": true
   },
   "outputs": [],
   "source": [
    "\n",
    "# Importing the Keras libraries and packages\n",
    "from keras.models import Sequential\n",
    "from keras.layers import Dense\n",
    "from keras.layers import LSTM\n",
    "from keras.layers import Dropout\n",
    "\n",
    "# Initialising the RNN\n",
    "regressor = Sequential()"
   ]
  },
  {
   "cell_type": "code",
   "execution_count": 74,
   "metadata": {
    "collapsed": false,
    "scrolled": true
   },
   "outputs": [],
   "source": [
    "\n",
    "# Adding the first LSTM layer and some Dropout regularisation\n",
    "regressor.add(LSTM(units = 35, return_sequences = True, input_shape = (X_train.shape[1], 1)))\n",
    "regressor.add(Dropout(0.2))\n",
    "\n",
    "regressor.add(LSTM(units = 35, return_sequences = True))\n",
    "\n",
    "# Adding a second LSTM layer and some Dropout regularisation\n",
    "regressor.add(LSTM(units = 35))\n",
    "regressor.add(Dropout(0.2))\n",
    "\n",
    "# Adding the output layer\n",
    "regressor.add(Dense(units = 1))\n",
    "\n",
    "# Compiling the RNN\n",
    "regressor.compile(optimizer = 'adam', loss = 'mean_squared_error')\n",
    "\n",
    "\n",
    "\n"
   ]
  },
  {
   "cell_type": "code",
   "execution_count": 75,
   "metadata": {
    "collapsed": false,
    "scrolled": true
   },
   "outputs": [
    {
     "name": "stdout",
     "output_type": "stream",
     "text": [
      "_________________________________________________________________\n",
      "Layer (type)                 Output Shape              Param #   \n",
      "=================================================================\n",
      "lstm_9 (LSTM)                (None, 40, 35)            5180      \n",
      "_________________________________________________________________\n",
      "dropout_4 (Dropout)          (None, 40, 35)            0         \n",
      "_________________________________________________________________\n",
      "lstm_10 (LSTM)               (None, 40, 35)            9940      \n",
      "_________________________________________________________________\n",
      "lstm_11 (LSTM)               (None, 35)                9940      \n",
      "_________________________________________________________________\n",
      "dropout_5 (Dropout)          (None, 35)                0         \n",
      "_________________________________________________________________\n",
      "dense_4 (Dense)              (None, 1)                 36        \n",
      "=================================================================\n",
      "Total params: 25,096\n",
      "Trainable params: 25,096\n",
      "Non-trainable params: 0\n",
      "_________________________________________________________________\n"
     ]
    }
   ],
   "source": [
    "regressor.summary()"
   ]
  },
  {
   "cell_type": "code",
   "execution_count": 76,
   "metadata": {
    "collapsed": false,
    "scrolled": true
   },
   "outputs": [
    {
     "name": "stdout",
     "output_type": "stream",
     "text": [
      "5\n"
     ]
    }
   ],
   "source": [
    "print(5)"
   ]
  },
  {
   "cell_type": "code",
   "execution_count": 77,
   "metadata": {
    "collapsed": false,
    "scrolled": true
   },
   "outputs": [
    {
     "name": "stdout",
     "output_type": "stream",
     "text": [
      "Epoch 1/150\n",
      "13092/13092 [==============================] - 42s 3ms/step - loss: 0.0574\n",
      "Epoch 2/150\n",
      "13092/13092 [==============================] - 34s 3ms/step - loss: 0.0546\n",
      "Epoch 3/150\n",
      "13092/13092 [==============================] - 37s 3ms/step - loss: 0.0540\n",
      "Epoch 4/150\n",
      "13092/13092 [==============================] - 34s 3ms/step - loss: 0.0532\n",
      "Epoch 5/150\n",
      "13092/13092 [==============================] - 37s 3ms/step - loss: 0.0534\n",
      "Epoch 6/150\n",
      "13092/13092 [==============================] - 35s 3ms/step - loss: 0.0530\n",
      "Epoch 7/150\n",
      "13092/13092 [==============================] - 37s 3ms/step - loss: 0.0523\n",
      "Epoch 8/150\n",
      "13092/13092 [==============================] - 35s 3ms/step - loss: 0.0527\n",
      "Epoch 9/150\n",
      "13092/13092 [==============================] - 36s 3ms/step - loss: 0.0527\n",
      "Epoch 10/150\n",
      "13092/13092 [==============================] - 37s 3ms/step - loss: 0.0524\n",
      "Epoch 11/150\n",
      "13092/13092 [==============================] - 36s 3ms/step - loss: 0.0519\n",
      "Epoch 12/150\n",
      "13092/13092 [==============================] - 36s 3ms/step - loss: 0.0509\n",
      "Epoch 13/150\n",
      "13092/13092 [==============================] - 35s 3ms/step - loss: 0.0509\n",
      "Epoch 14/150\n",
      "13092/13092 [==============================] - 38s 3ms/step - loss: 0.0496\n",
      "Epoch 15/150\n",
      "13092/13092 [==============================] - 34s 3ms/step - loss: 0.0483\n",
      "Epoch 16/150\n",
      "13092/13092 [==============================] - 38s 3ms/step - loss: 0.0480\n",
      "Epoch 17/150\n",
      "13092/13092 [==============================] - 45s 3ms/step - loss: 0.0473\n",
      "Epoch 18/150\n",
      "13092/13092 [==============================] - 36s 3ms/step - loss: 0.0467\n",
      "Epoch 19/150\n",
      "13092/13092 [==============================] - 35s 3ms/step - loss: 0.0461\n",
      "Epoch 20/150\n",
      "13092/13092 [==============================] - 33s 2ms/step - loss: 0.0458\n",
      "Epoch 21/150\n",
      "13092/13092 [==============================] - 34s 3ms/step - loss: 0.0460\n",
      "Epoch 22/150\n",
      "13092/13092 [==============================] - 33s 2ms/step - loss: 0.0453\n",
      "Epoch 23/150\n",
      "13092/13092 [==============================] - 35s 3ms/step - loss: 0.0458\n",
      "Epoch 24/150\n",
      "13092/13092 [==============================] - 33s 2ms/step - loss: 0.0455\n",
      "Epoch 25/150\n",
      "13092/13092 [==============================] - 36s 3ms/step - loss: 0.0447\n",
      "Epoch 26/150\n",
      "13092/13092 [==============================] - 34s 3ms/step - loss: 0.0453\n",
      "Epoch 27/150\n",
      "13092/13092 [==============================] - 43s 3ms/step - loss: 0.0448\n",
      "Epoch 28/150\n",
      "13092/13092 [==============================] - 43s 3ms/step - loss: 0.0445\n",
      "Epoch 29/150\n",
      "13092/13092 [==============================] - 32s 2ms/step - loss: 0.0436\n",
      "Epoch 30/150\n",
      "13092/13092 [==============================] - 34s 3ms/step - loss: 0.0437\n",
      "Epoch 31/150\n",
      "13092/13092 [==============================] - 32s 2ms/step - loss: 0.0436\n",
      "Epoch 32/150\n",
      "13092/13092 [==============================] - 34s 3ms/step - loss: 0.0440\n",
      "Epoch 33/150\n",
      "13092/13092 [==============================] - 33s 3ms/step - loss: 0.0443\n",
      "Epoch 34/150\n",
      "13092/13092 [==============================] - 125s 10ms/step - loss: 0.0464\n",
      "Epoch 35/150\n",
      "13092/13092 [==============================] - 36s 3ms/step - loss: 0.0435\n",
      "Epoch 36/150\n",
      "13092/13092 [==============================] - 1415s 108ms/step - loss: 0.0439\n",
      "Epoch 37/150\n",
      "13092/13092 [==============================] - 43s 3ms/step - loss: 0.0432\n",
      "Epoch 38/150\n",
      "13092/13092 [==============================] - 37s 3ms/step - loss: 0.0427\n",
      "Epoch 39/150\n",
      "13092/13092 [==============================] - 38s 3ms/step - loss: 0.0431\n",
      "Epoch 40/150\n",
      "13092/13092 [==============================] - 39s 3ms/step - loss: 0.0444\n",
      "Epoch 41/150\n",
      "13092/13092 [==============================] - 41s 3ms/step - loss: 0.0429\n",
      "Epoch 42/150\n",
      "13092/13092 [==============================] - 48s 4ms/step - loss: 0.0420\n",
      "Epoch 43/150\n",
      "13092/13092 [==============================] - 38s 3ms/step - loss: 0.0427\n",
      "Epoch 44/150\n",
      "13092/13092 [==============================] - 36s 3ms/step - loss: 0.0422\n",
      "Epoch 45/150\n",
      "13092/13092 [==============================] - 35s 3ms/step - loss: 0.0437\n",
      "Epoch 46/150\n",
      "13092/13092 [==============================] - 38s 3ms/step - loss: 0.0421\n",
      "Epoch 47/150\n",
      "13092/13092 [==============================] - 34s 3ms/step - loss: 0.0424\n",
      "Epoch 48/150\n",
      "13092/13092 [==============================] - 35s 3ms/step - loss: 0.0413\n",
      "Epoch 49/150\n",
      "13092/13092 [==============================] - 34s 3ms/step - loss: 0.0435\n",
      "Epoch 50/150\n",
      "13092/13092 [==============================] - 37s 3ms/step - loss: 0.0421\n",
      "Epoch 51/150\n",
      "13092/13092 [==============================] - 39s 3ms/step - loss: 0.0425\n",
      "Epoch 52/150\n",
      "13092/13092 [==============================] - 39s 3ms/step - loss: 0.0420\n",
      "Epoch 53/150\n",
      "13092/13092 [==============================] - 39s 3ms/step - loss: 0.0413\n",
      "Epoch 54/150\n",
      "13092/13092 [==============================] - 37s 3ms/step - loss: 0.0419\n",
      "Epoch 55/150\n",
      "13092/13092 [==============================] - 40s 3ms/step - loss: 0.0411\n",
      "Epoch 56/150\n",
      "13092/13092 [==============================] - 38s 3ms/step - loss: 0.0418\n",
      "Epoch 57/150\n",
      "13092/13092 [==============================] - 41s 3ms/step - loss: 0.0437\n",
      "Epoch 58/150\n",
      "13092/13092 [==============================] - 43s 3ms/step - loss: 0.0414\n",
      "Epoch 59/150\n",
      "13092/13092 [==============================] - 38s 3ms/step - loss: 0.0444\n",
      "Epoch 60/150\n",
      "13092/13092 [==============================] - 38s 3ms/step - loss: 0.0409\n",
      "Epoch 61/150\n",
      "13092/13092 [==============================] - 39s 3ms/step - loss: 0.0397\n",
      "Epoch 62/150\n",
      "13092/13092 [==============================] - 38s 3ms/step - loss: 0.0407\n",
      "Epoch 63/150\n",
      "13092/13092 [==============================] - 41s 3ms/step - loss: 0.0398\n",
      "Epoch 64/150\n",
      "13092/13092 [==============================] - 37s 3ms/step - loss: 0.0398\n",
      "Epoch 65/150\n",
      "13092/13092 [==============================] - 41s 3ms/step - loss: 0.0384\n",
      "Epoch 66/150\n",
      "13092/13092 [==============================] - 43s 3ms/step - loss: 0.0422\n",
      "Epoch 67/150\n",
      "13092/13092 [==============================] - 38s 3ms/step - loss: 0.0405\n",
      "Epoch 68/150\n",
      "13092/13092 [==============================] - 41s 3ms/step - loss: 0.0407\n",
      "Epoch 69/150\n",
      "13092/13092 [==============================] - 40s 3ms/step - loss: 0.0413\n",
      "Epoch 70/150\n",
      "13092/13092 [==============================] - 40s 3ms/step - loss: 0.0390\n",
      "Epoch 71/150\n",
      "13092/13092 [==============================] - 40s 3ms/step - loss: 0.0378\n",
      "Epoch 72/150\n",
      "13092/13092 [==============================] - 40s 3ms/step - loss: 0.0375\n",
      "Epoch 73/150\n",
      "13092/13092 [==============================] - 40s 3ms/step - loss: 0.0373\n",
      "Epoch 74/150\n",
      "13092/13092 [==============================] - 39s 3ms/step - loss: 0.0374\n",
      "Epoch 75/150\n",
      "13092/13092 [==============================] - 38s 3ms/step - loss: 0.0429\n",
      "Epoch 76/150\n",
      "13092/13092 [==============================] - 39s 3ms/step - loss: 0.0431\n",
      "Epoch 77/150\n",
      "13092/13092 [==============================] - 39s 3ms/step - loss: 0.0416\n",
      "Epoch 78/150\n",
      "13092/13092 [==============================] - 39s 3ms/step - loss: 0.0369\n",
      "Epoch 79/150\n",
      "13092/13092 [==============================] - 39s 3ms/step - loss: 0.0390\n",
      "Epoch 80/150\n",
      "13092/13092 [==============================] - 39s 3ms/step - loss: 0.0379\n",
      "Epoch 81/150\n",
      "13092/13092 [==============================] - 39s 3ms/step - loss: 0.0405\n",
      "Epoch 82/150\n",
      "13092/13092 [==============================] - 40s 3ms/step - loss: 0.0379\n",
      "Epoch 83/150\n",
      "13092/13092 [==============================] - 43s 3ms/step - loss: 0.0380\n",
      "Epoch 84/150\n",
      "13092/13092 [==============================] - 41s 3ms/step - loss: 0.0449\n",
      "Epoch 85/150\n",
      "13092/13092 [==============================] - 40s 3ms/step - loss: 0.0433\n",
      "Epoch 86/150\n",
      "13092/13092 [==============================] - 42s 3ms/step - loss: 0.0430\n",
      "Epoch 87/150\n",
      "13092/13092 [==============================] - 41s 3ms/step - loss: 0.0427\n",
      "Epoch 88/150\n",
      "13092/13092 [==============================] - 42s 3ms/step - loss: 0.0408\n",
      "Epoch 89/150\n",
      "13092/13092 [==============================] - 46s 4ms/step - loss: 0.0449\n",
      "Epoch 90/150\n",
      "13092/13092 [==============================] - 42s 3ms/step - loss: 0.0427\n",
      "Epoch 91/150\n",
      "13092/13092 [==============================] - 43s 3ms/step - loss: 0.0367\n",
      "Epoch 92/150\n",
      "13092/13092 [==============================] - 41s 3ms/step - loss: 0.0366\n",
      "Epoch 93/150\n",
      "13092/13092 [==============================] - 45s 3ms/step - loss: 0.0401\n",
      "Epoch 94/150\n",
      "13092/13092 [==============================] - 42s 3ms/step - loss: 0.0413\n",
      "Epoch 95/150\n",
      "13092/13092 [==============================] - 41s 3ms/step - loss: 0.0401\n",
      "Epoch 96/150\n",
      "13092/13092 [==============================] - 43s 3ms/step - loss: 0.0369\n",
      "Epoch 97/150\n",
      "13092/13092 [==============================] - 43s 3ms/step - loss: 0.0350\n",
      "Epoch 98/150\n",
      "13092/13092 [==============================] - 43s 3ms/step - loss: 0.0346\n",
      "Epoch 99/150\n",
      "13092/13092 [==============================] - 41s 3ms/step - loss: 0.0357\n",
      "Epoch 100/150\n",
      "13092/13092 [==============================] - 42s 3ms/step - loss: 0.0368\n",
      "Epoch 101/150\n",
      "13092/13092 [==============================] - 44s 3ms/step - loss: 0.0386\n",
      "Epoch 102/150\n",
      "13092/13092 [==============================] - 40s 3ms/step - loss: 0.0386\n",
      "Epoch 103/150\n",
      "13092/13092 [==============================] - 37s 3ms/step - loss: 0.0428\n",
      "Epoch 104/150\n",
      "13092/13092 [==============================] - 37s 3ms/step - loss: 0.0409\n",
      "Epoch 105/150\n",
      "13092/13092 [==============================] - 38s 3ms/step - loss: 0.0365\n",
      "Epoch 106/150\n",
      "13092/13092 [==============================] - 35s 3ms/step - loss: 0.0398\n",
      "Epoch 107/150\n",
      "13092/13092 [==============================] - 40s 3ms/step - loss: 0.0398\n",
      "Epoch 108/150\n",
      "13092/13092 [==============================] - 39s 3ms/step - loss: 0.0371\n",
      "Epoch 109/150\n",
      "13092/13092 [==============================] - 43s 3ms/step - loss: 0.0345\n",
      "Epoch 110/150\n",
      "13092/13092 [==============================] - 45s 3ms/step - loss: 0.0334\n",
      "Epoch 111/150\n",
      "13092/13092 [==============================] - 45s 3ms/step - loss: 0.0332\n",
      "Epoch 112/150\n",
      "13092/13092 [==============================] - 39s 3ms/step - loss: 0.0376\n",
      "Epoch 113/150\n",
      "13092/13092 [==============================] - 35s 3ms/step - loss: 0.0396\n",
      "Epoch 114/150\n",
      "13092/13092 [==============================] - 33s 3ms/step - loss: 0.0390\n",
      "Epoch 115/150\n",
      "13092/13092 [==============================] - 35s 3ms/step - loss: 0.0333\n",
      "Epoch 116/150\n",
      "13092/13092 [==============================] - 34s 3ms/step - loss: 0.0317\n",
      "Epoch 117/150\n",
      "13092/13092 [==============================] - 35s 3ms/step - loss: 0.0319\n",
      "Epoch 118/150\n",
      "13092/13092 [==============================] - 43s 3ms/step - loss: 0.0362\n",
      "Epoch 119/150\n",
      "13092/13092 [==============================] - 35s 3ms/step - loss: 0.0338\n",
      "Epoch 120/150\n",
      "13092/13092 [==============================] - 35s 3ms/step - loss: 0.0311\n",
      "Epoch 121/150\n",
      "13092/13092 [==============================] - 33s 3ms/step - loss: 0.0308\n",
      "Epoch 122/150\n",
      "13092/13092 [==============================] - 35s 3ms/step - loss: 0.0382\n",
      "Epoch 123/150\n",
      "13092/13092 [==============================] - 34s 3ms/step - loss: 0.0365\n",
      "Epoch 124/150\n",
      "13092/13092 [==============================] - 34s 3ms/step - loss: 0.0310\n",
      "Epoch 125/150\n",
      "13092/13092 [==============================] - 33s 3ms/step - loss: 0.0347\n",
      "Epoch 126/150\n",
      "13092/13092 [==============================] - 36s 3ms/step - loss: 0.0367\n",
      "Epoch 127/150\n",
      "13092/13092 [==============================] - 38s 3ms/step - loss: 0.0320\n",
      "Epoch 128/150\n",
      "13092/13092 [==============================] - 37s 3ms/step - loss: 0.0310\n",
      "Epoch 129/150\n",
      "13092/13092 [==============================] - 42s 3ms/step - loss: 0.0315\n",
      "Epoch 130/150\n",
      "13092/13092 [==============================] - 42s 3ms/step - loss: 0.0310\n",
      "Epoch 131/150\n",
      "13092/13092 [==============================] - 41s 3ms/step - loss: 0.0313\n",
      "Epoch 132/150\n",
      "13092/13092 [==============================] - 41s 3ms/step - loss: 0.0320\n",
      "Epoch 133/150\n",
      "13092/13092 [==============================] - 45s 3ms/step - loss: 0.0293\n",
      "Epoch 134/150\n",
      "13092/13092 [==============================] - 41s 3ms/step - loss: 0.0301\n",
      "Epoch 135/150\n",
      "13092/13092 [==============================] - 41s 3ms/step - loss: 0.0312\n",
      "Epoch 136/150\n",
      "13092/13092 [==============================] - 43s 3ms/step - loss: 0.0285\n",
      "Epoch 137/150\n",
      "13092/13092 [==============================] - 42s 3ms/step - loss: 0.0275\n",
      "Epoch 138/150\n",
      "13092/13092 [==============================] - 39s 3ms/step - loss: 0.0331\n",
      "Epoch 139/150\n",
      "13092/13092 [==============================] - 41s 3ms/step - loss: 0.0299\n",
      "Epoch 140/150\n",
      "13092/13092 [==============================] - 35s 3ms/step - loss: 0.0352\n",
      "Epoch 141/150\n",
      "13092/13092 [==============================] - 34s 3ms/step - loss: 0.0339\n",
      "Epoch 142/150\n",
      "13092/13092 [==============================] - 33s 2ms/step - loss: 0.0349\n",
      "Epoch 143/150\n",
      "13092/13092 [==============================] - 36s 3ms/step - loss: 0.0355\n",
      "Epoch 144/150\n",
      "13092/13092 [==============================] - 33s 3ms/step - loss: 0.0271\n",
      "Epoch 145/150\n",
      "13092/13092 [==============================] - 36s 3ms/step - loss: 0.0275\n",
      "Epoch 146/150\n",
      "13092/13092 [==============================] - 35s 3ms/step - loss: 0.0294\n",
      "Epoch 147/150\n",
      "13092/13092 [==============================] - 33s 2ms/step - loss: 0.0248\n",
      "Epoch 148/150\n",
      "13092/13092 [==============================] - 34s 3ms/step - loss: 0.0249\n",
      "Epoch 149/150\n",
      "13092/13092 [==============================] - 35s 3ms/step - loss: 0.0262\n",
      "Epoch 150/150\n",
      "13092/13092 [==============================] - 35s 3ms/step - loss: 0.0250\n"
     ]
    },
    {
     "data": {
      "text/plain": [
       "<keras.callbacks.History at 0x2011c849ac8>"
      ]
     },
     "execution_count": 77,
     "metadata": {},
     "output_type": "execute_result"
    }
   ],
   "source": [
    "# Fitting the RNN to the Training set\n",
    "regressor.fit(X_train, y_train, epochs = 150, batch_size = 32)"
   ]
  },
  {
   "cell_type": "code",
   "execution_count": 78,
   "metadata": {
    "collapsed": false
   },
   "outputs": [
    {
     "name": "stdout",
     "output_type": "stream",
     "text": [
      "5\n"
     ]
    }
   ],
   "source": [
    "print(5)"
   ]
  },
  {
   "cell_type": "code",
   "execution_count": 16,
   "metadata": {
    "collapsed": false,
    "scrolled": true
   },
   "outputs": [
    {
     "name": "stdout",
     "output_type": "stream",
     "text": [
      "model built successfully\n"
     ]
    }
   ],
   "source": [
    "print('model built successfully')\n",
    "regressor.save('model/dns-adam(500 epo- 50 neuron-6 time).h5') "
   ]
  },
  {
   "cell_type": "code",
   "execution_count": 79,
   "metadata": {
    "collapsed": true,
    "scrolled": true
   },
   "outputs": [],
   "source": [
    "\n",
    "real_pattern_prediction=df[len(df)-3000:]"
   ]
  },
  {
   "cell_type": "code",
   "execution_count": 80,
   "metadata": {
    "collapsed": false,
    "scrolled": true
   },
   "outputs": [
    {
     "data": {
      "text/html": [
       "<div>\n",
       "<table border=\"1\" class=\"dataframe\">\n",
       "  <thead>\n",
       "    <tr style=\"text-align: right;\">\n",
       "      <th></th>\n",
       "      <th>Timestamp</th>\n",
       "      <th>Utilization(bps)</th>\n",
       "    </tr>\n",
       "  </thead>\n",
       "  <tbody>\n",
       "    <tr>\n",
       "      <th>440582</th>\n",
       "      <td>2019-03-05 00:30:00</td>\n",
       "      <td>499.875</td>\n",
       "    </tr>\n",
       "    <tr>\n",
       "      <th>440627</th>\n",
       "      <td>2019-03-05 00:35:00</td>\n",
       "      <td>825.750</td>\n",
       "    </tr>\n",
       "    <tr>\n",
       "      <th>440649</th>\n",
       "      <td>2019-03-05 00:40:00</td>\n",
       "      <td>479.125</td>\n",
       "    </tr>\n",
       "    <tr>\n",
       "      <th>440704</th>\n",
       "      <td>2019-03-05 00:45:00</td>\n",
       "      <td>552.375</td>\n",
       "    </tr>\n",
       "    <tr>\n",
       "      <th>440761</th>\n",
       "      <td>2019-03-05 00:50:00</td>\n",
       "      <td>642.500</td>\n",
       "    </tr>\n",
       "  </tbody>\n",
       "</table>\n",
       "</div>"
      ],
      "text/plain": [
       "                  Timestamp  Utilization(bps)\n",
       "440582  2019-03-05 00:30:00           499.875\n",
       "440627  2019-03-05 00:35:00           825.750\n",
       "440649  2019-03-05 00:40:00           479.125\n",
       "440704  2019-03-05 00:45:00           552.375\n",
       "440761  2019-03-05 00:50:00           642.500"
      ]
     },
     "execution_count": 80,
     "metadata": {},
     "output_type": "execute_result"
    }
   ],
   "source": [
    "real_pattern_prediction.head()"
   ]
  },
  {
   "cell_type": "code",
   "execution_count": 81,
   "metadata": {
    "collapsed": false,
    "scrolled": true
   },
   "outputs": [
    {
     "data": {
      "text/html": [
       "<div>\n",
       "<table border=\"1\" class=\"dataframe\">\n",
       "  <thead>\n",
       "    <tr style=\"text-align: right;\">\n",
       "      <th></th>\n",
       "      <th>Timestamp</th>\n",
       "      <th>Utilization(bps)</th>\n",
       "    </tr>\n",
       "  </thead>\n",
       "  <tbody>\n",
       "    <tr>\n",
       "      <th>0</th>\n",
       "      <td>2019-01-18 08:55:00</td>\n",
       "      <td>105.0</td>\n",
       "    </tr>\n",
       "    <tr>\n",
       "      <th>9</th>\n",
       "      <td>2019-01-18 09:00:00</td>\n",
       "      <td>212.5</td>\n",
       "    </tr>\n",
       "    <tr>\n",
       "      <th>20</th>\n",
       "      <td>2019-01-18 09:05:00</td>\n",
       "      <td>105.0</td>\n",
       "    </tr>\n",
       "    <tr>\n",
       "      <th>21</th>\n",
       "      <td>2019-01-18 09:10:00</td>\n",
       "      <td>340.0</td>\n",
       "    </tr>\n",
       "    <tr>\n",
       "      <th>34</th>\n",
       "      <td>2019-01-18 09:15:00</td>\n",
       "      <td>142.5</td>\n",
       "    </tr>\n",
       "  </tbody>\n",
       "</table>\n",
       "</div>"
      ],
      "text/plain": [
       "              Timestamp  Utilization(bps)\n",
       "0   2019-01-18 08:55:00             105.0\n",
       "9   2019-01-18 09:00:00             212.5\n",
       "20  2019-01-18 09:05:00             105.0\n",
       "21  2019-01-18 09:10:00             340.0\n",
       "34  2019-01-18 09:15:00             142.5"
      ]
     },
     "execution_count": 81,
     "metadata": {},
     "output_type": "execute_result"
    }
   ],
   "source": [
    "training_set.head()"
   ]
  },
  {
   "cell_type": "code",
   "execution_count": 83,
   "metadata": {
    "collapsed": false,
    "scrolled": true
   },
   "outputs": [],
   "source": [
    "\n",
    "# Getting the Random predictiond data\n",
    "dataset_total = pd.concat((training_set['Utilization(bps)'], real_pattern_prediction['Utilization(bps)']), axis = 0)\n",
    "inputs = dataset_total[len(dataset_total) - len(real_pattern_prediction) - 40:].values\n",
    "inputs = inputs.reshape(-1,1)\n",
    "inputs = sc.transform(inputs)\n",
    "X_test = []\n",
    "for i in range(40, len(real_pattern_prediction)+1):\n",
    "    X_test.append(inputs[i-40:i, 0])\n",
    "X_test = np.array(X_test)\n",
    "X_test = np.reshape(X_test, (X_test.shape[0], X_test.shape[1], 1))\n",
    "predicted_pattern = regressor.predict(X_test)\n",
    "predicted_pattern = sc.inverse_transform(predicted_pattern)"
   ]
  },
  {
   "cell_type": "code",
   "execution_count": 21,
   "metadata": {
    "collapsed": false
   },
   "outputs": [
    {
     "data": {
      "text/plain": [
       "array([[0.21165147],\n",
       "       [0.34307421],\n",
       "       [0.19339968],\n",
       "       ...,\n",
       "       [0.36424431],\n",
       "       [0.23188176],\n",
       "       [0.37151534]])"
      ]
     },
     "execution_count": 21,
     "metadata": {},
     "output_type": "execute_result"
    }
   ],
   "source": [
    "inputs"
   ]
  },
  {
   "cell_type": "code",
   "execution_count": 22,
   "metadata": {
    "collapsed": false
   },
   "outputs": [
    {
     "data": {
      "text/plain": [
       "array([[[0.04154878],\n",
       "        [0.08408682],\n",
       "        [0.04154878],\n",
       "        [0.13453891],\n",
       "        [0.05638763],\n",
       "        [0.06232317]],\n",
       "\n",
       "       [[0.08408682],\n",
       "        [0.04154878],\n",
       "        [0.13453891],\n",
       "        [0.05638763],\n",
       "        [0.06232317],\n",
       "        [0.2064084 ]],\n",
       "\n",
       "       [[0.04154878],\n",
       "        [0.13453891],\n",
       "        [0.05638763],\n",
       "        [0.06232317],\n",
       "        [0.2064084 ],\n",
       "        [0.06459846]],\n",
       "\n",
       "       ...,\n",
       "\n",
       "       [[0.18395228],\n",
       "        [0.27887146],\n",
       "        [0.24944107],\n",
       "        [0.21165147],\n",
       "        [0.34307421],\n",
       "        [0.19339968]],\n",
       "\n",
       "       [[0.27887146],\n",
       "        [0.24944107],\n",
       "        [0.21165147],\n",
       "        [0.34307421],\n",
       "        [0.19339968],\n",
       "        [0.24864966]],\n",
       "\n",
       "       [[0.24944107],\n",
       "        [0.21165147],\n",
       "        [0.34307421],\n",
       "        [0.19339968],\n",
       "        [0.24864966],\n",
       "        [0.26343905]]])"
      ]
     },
     "execution_count": 22,
     "metadata": {},
     "output_type": "execute_result"
    }
   ],
   "source": [
    "X_train"
   ]
  },
  {
   "cell_type": "code",
   "execution_count": 84,
   "metadata": {
    "collapsed": false,
    "scrolled": true
   },
   "outputs": [
    {
     "data": {
      "image/png": "[encoded data removed]",
      "text/plain": [
       "<Figure size 600x400 with 1 Axes>"
      ]
     },
     "metadata": {},
     "output_type": "display_data"
    }
   ],
   "source": [
    "import matplotlib.pyplot as plt\n",
    "%matplotlib inline\n",
    "real_pattern_prediction=real_pattern_prediction.iloc[:, 1:2].values\n",
    "# Visualising the results\n",
    "plt.plot(real_pattern_prediction, color = 'red', label = 'Real Pattern Number')\n",
    "plt.plot(predicted_pattern, color = 'blue', label = 'Predicted Pattern Number')\n",
    "plt.title('40-lookup, 35 neurons DNS-Adam Prediction')\n",
    "plt.xlabel('record')\n",
    "plt.ylabel('Utilization')\n",
    "plt.legend()\n",
    "plt.show()"
   ]
  },
  {
   "cell_type": "code",
   "execution_count": null,
   "metadata": {
    "collapsed": true
   },
   "outputs": [],
   "source": []
  },
  {
   "cell_type": "code",
   "execution_count": null,
   "metadata": {
    "collapsed": true,
    "scrolled": true
   },
   "outputs": [],
   "source": []
  }
 ],
 "metadata": {
  "anaconda-cloud": {},
  "kernelspec": {
   "display_name": "Python [Anaconda3]",
   "language": "python",
   "name": "Python [Anaconda3]"
  },
  "language_info": {
   "codemirror_mode": {
    "name": "ipython",
    "version": 3
   },
   "file_extension": ".py",
   "mimetype": "text/x-python",
   "name": "python",
   "nbconvert_exporter": "python",
   "pygments_lexer": "ipython3",
   "version": "3.5.2"
  }
 },
 "nbformat": 4,
 "nbformat_minor": 0
}

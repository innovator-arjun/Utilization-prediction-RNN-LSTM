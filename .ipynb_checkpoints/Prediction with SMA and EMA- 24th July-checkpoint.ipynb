{
 "cells": [
  {
   "cell_type": "code",
   "execution_count": 1043,
   "metadata": {
    "collapsed": true
   },
   "outputs": [],
   "source": [
    "import pandas as pd\n",
    "import numpy as np"
   ]
  },
  {
   "cell_type": "code",
   "execution_count": 1044,
   "metadata": {
    "collapsed": false
   },
   "outputs": [],
   "source": [
    "df_ge=pd.read_csv('Data/dns_sma_ema.csv')"
   ]
  },
  {
   "cell_type": "code",
   "execution_count": 1045,
   "metadata": {
    "collapsed": false
   },
   "outputs": [
    {
     "data": {
      "text/html": [
       "<div>\n",
       "<table border=\"1\" class=\"dataframe\">\n",
       "  <thead>\n",
       "    <tr style=\"text-align: right;\">\n",
       "      <th></th>\n",
       "      <th>Timestamp</th>\n",
       "      <th>Utilization(bps)</th>\n",
       "      <th>SMA4</th>\n",
       "      <th>SMA9</th>\n",
       "      <th>EMA4</th>\n",
       "      <th>EMA9</th>\n",
       "      <th>cum_sum</th>\n",
       "    </tr>\n",
       "  </thead>\n",
       "  <tbody>\n",
       "    <tr>\n",
       "      <th>0</th>\n",
       "      <td>2019-01-18 08:55:00</td>\n",
       "      <td>105.0</td>\n",
       "      <td>105.000</td>\n",
       "      <td>105.0</td>\n",
       "      <td>105.000000</td>\n",
       "      <td>105.0</td>\n",
       "      <td>105.0</td>\n",
       "    </tr>\n",
       "    <tr>\n",
       "      <th>1</th>\n",
       "      <td>2019-01-18 09:00:00</td>\n",
       "      <td>212.5</td>\n",
       "      <td>212.500</td>\n",
       "      <td>212.5</td>\n",
       "      <td>212.500000</td>\n",
       "      <td>212.5</td>\n",
       "      <td>317.5</td>\n",
       "    </tr>\n",
       "    <tr>\n",
       "      <th>2</th>\n",
       "      <td>2019-01-18 09:05:00</td>\n",
       "      <td>105.0</td>\n",
       "      <td>105.000</td>\n",
       "      <td>105.0</td>\n",
       "      <td>105.000000</td>\n",
       "      <td>105.0</td>\n",
       "      <td>422.5</td>\n",
       "    </tr>\n",
       "    <tr>\n",
       "      <th>3</th>\n",
       "      <td>2019-01-18 09:10:00</td>\n",
       "      <td>340.0</td>\n",
       "      <td>190.625</td>\n",
       "      <td>340.0</td>\n",
       "      <td>230.781250</td>\n",
       "      <td>340.0</td>\n",
       "      <td>762.5</td>\n",
       "    </tr>\n",
       "    <tr>\n",
       "      <th>4</th>\n",
       "      <td>2019-01-18 09:15:00</td>\n",
       "      <td>142.5</td>\n",
       "      <td>200.000</td>\n",
       "      <td>142.5</td>\n",
       "      <td>192.491325</td>\n",
       "      <td>142.5</td>\n",
       "      <td>905.0</td>\n",
       "    </tr>\n",
       "  </tbody>\n",
       "</table>\n",
       "</div>"
      ],
      "text/plain": [
       "             Timestamp  Utilization(bps)     SMA4   SMA9        EMA4   EMA9  \\\n",
       "0  2019-01-18 08:55:00             105.0  105.000  105.0  105.000000  105.0   \n",
       "1  2019-01-18 09:00:00             212.5  212.500  212.5  212.500000  212.5   \n",
       "2  2019-01-18 09:05:00             105.0  105.000  105.0  105.000000  105.0   \n",
       "3  2019-01-18 09:10:00             340.0  190.625  340.0  230.781250  340.0   \n",
       "4  2019-01-18 09:15:00             142.5  200.000  142.5  192.491325  142.5   \n",
       "\n",
       "   cum_sum  \n",
       "0    105.0  \n",
       "1    317.5  \n",
       "2    422.5  \n",
       "3    762.5  \n",
       "4    905.0  "
      ]
     },
     "execution_count": 1045,
     "metadata": {},
     "output_type": "execute_result"
    }
   ],
   "source": [
    "df_ge.head()"
   ]
  },
  {
   "cell_type": "code",
   "execution_count": 1046,
   "metadata": {
    "collapsed": false
   },
   "outputs": [],
   "source": [
    "#Defining time_steps and batch_size\n",
    "TIME_STEPS=12\n",
    "batch_size=55"
   ]
  },
  {
   "cell_type": "code",
   "execution_count": 1047,
   "metadata": {
    "collapsed": false
   },
   "outputs": [
    {
     "name": "stdout",
     "output_type": "stream",
     "text": [
      "Train and Test size 12906 3226\n"
     ]
    }
   ],
   "source": [
    "\n",
    "from sklearn.preprocessing import MinMaxScaler\n",
    "\n",
    "from sklearn.cross_validation import train_test_split\n",
    "\n",
    "\n",
    "\n",
    "train_cols = ['Utilization(bps)','SMA4','SMA9','EMA4','EMA9','cum_sum']\n",
    "test_size=int(len(df_ge)*0.20)\n",
    "\n",
    "df_train=df_ge[0:len(df_ge)-test_size]\n",
    "df_test=df_ge[len(df_ge)-test_size: ]\n",
    "\n",
    "print(\"Train and Test size\",len(df_train), len(df_test))"
   ]
  },
  {
   "cell_type": "code",
   "execution_count": null,
   "metadata": {
    "collapsed": false
   },
   "outputs": [],
   "source": []
  },
  {
   "cell_type": "code",
   "execution_count": 1048,
   "metadata": {
    "collapsed": false
   },
   "outputs": [],
   "source": [
    "\n",
    "x = df_train.loc[:,train_cols].values\n",
    "sc=MinMaxScaler(feature_range=(1,10))\n",
    "\n",
    "x_train = sc.fit_transform(x)\n",
    "\n",
    "#x_test=sc.transform(df_test.loc[:,train_cols])\n",
    "\n",
    "# x_train=x\n",
    "# x_test=df_test.loc[:,train_cols]"
   ]
  },
  {
   "cell_type": "code",
   "execution_count": 1049,
   "metadata": {
    "collapsed": false
   },
   "outputs": [],
   "source": [
    "# sample_test=sc.inverse_transform(x_train)\n",
    "\n",
    "# sample_test[16]"
   ]
  },
  {
   "cell_type": "code",
   "execution_count": null,
   "metadata": {
    "collapsed": false
   },
   "outputs": [],
   "source": []
  },
  {
   "cell_type": "code",
   "execution_count": 1050,
   "metadata": {
    "collapsed": false
   },
   "outputs": [
    {
     "data": {
      "text/plain": [
       "MinMaxScaler(copy=True, feature_range=(1, 10))"
      ]
     },
     "execution_count": 1050,
     "metadata": {},
     "output_type": "execute_result"
    }
   ],
   "source": [
    "sc"
   ]
  },
  {
   "cell_type": "code",
   "execution_count": 1051,
   "metadata": {
    "collapsed": false
   },
   "outputs": [],
   "source": [
    "dim_0 = x_train.shape[0] - TIME_STEPS   #12903\n",
    "\n",
    "dim_1 = x_train.shape[1]  # 6 features\n",
    "\n",
    "\n",
    "x = np.zeros((dim_0, TIME_STEPS, dim_1))\n",
    "\n",
    "y = np.zeros((dim_0, dim_1))\n"
   ]
  },
  {
   "cell_type": "code",
   "execution_count": null,
   "metadata": {
    "collapsed": false
   },
   "outputs": [],
   "source": []
  },
  {
   "cell_type": "code",
   "execution_count": 1052,
   "metadata": {
    "collapsed": false
   },
   "outputs": [],
   "source": [
    "\n",
    "    \n",
    "for i in range(dim_0):#len of training set\n",
    "        x[i]=x_train[i:TIME_STEPS+i]\n",
    "        y[i]=x_train[TIME_STEPS+i]\n"
   ]
  },
  {
   "cell_type": "code",
   "execution_count": 1053,
   "metadata": {
    "collapsed": false
   },
   "outputs": [
    {
     "data": {
      "text/plain": [
       "array([1.0758562 , 1.140235  , 1.24603086, 1.13399806, 1.20370966,\n",
       "       1.00350773])"
      ]
     },
     "execution_count": 1053,
     "metadata": {},
     "output_type": "execute_result"
    }
   ],
   "source": [
    "y[1]"
   ]
  },
  {
   "cell_type": "code",
   "execution_count": 1054,
   "metadata": {
    "collapsed": false
   },
   "outputs": [
    {
     "name": "stdout",
     "output_type": "stream",
     "text": [
      "length of time-series i/o (12894, 12, 6) (12894, 6)\n"
     ]
    }
   ],
   "source": [
    "print(\"length of time-series i/o\",x.shape,y.shape)"
   ]
  },
  {
   "cell_type": "code",
   "execution_count": 1055,
   "metadata": {
    "collapsed": false
   },
   "outputs": [
    {
     "data": {
      "text/plain": [
       "array([[1.0373939 , 1.02620618, 1.        , 1.02106277, 1.        ,\n",
       "        1.        ],\n",
       "       [1.07567814, 1.13614428, 1.18086037, 1.1093983 , 1.16229709,\n",
       "        1.0002435 ],\n",
       "       [1.0373939 , 1.02620618, 1.        , 1.02106277, 1.        ,\n",
       "        1.00036382],\n",
       "       [1.12108502, 1.11377316, 1.39536919, 1.12442048, 1.35478899,\n",
       "        1.00075343],\n",
       "       [1.05074887, 1.12336078, 1.06309083, 1.09295666, 1.05661526,\n",
       "        1.00091672],\n",
       "       [1.05609085, 1.10929893, 1.08832716, 1.08089248, 1.07926137,\n",
       "        1.00109719],\n",
       "       [1.18576756, 1.21581745, 1.70093909, 1.19715584, 1.62899559,\n",
       "        1.00169492],\n",
       "       [1.05813861, 1.17062778, 1.09800109, 1.14498862, 1.08794238,\n",
       "        1.00188199],\n",
       "       [1.05493342, 1.1736319 , 1.17882745, 1.11126644, 1.17587116,\n",
       "        1.00205874],\n",
       "       [1.14191876, 1.23524837, 1.2336931 , 1.17202296, 1.2357479 ,\n",
       "        1.00251538],\n",
       "       [1.04985854, 1.1376783 , 1.22014025, 1.12296507, 1.1957289 ,\n",
       "        1.00267581],\n",
       "       [1.05698118, 1.13684738, 1.23042172, 1.10023263, 1.17152713,\n",
       "        1.00285915]])"
      ]
     },
     "execution_count": 1055,
     "metadata": {},
     "output_type": "execute_result"
    }
   ],
   "source": [
    "x[0]"
   ]
  },
  {
   "cell_type": "markdown",
   "metadata": {},
   "source": [
    "no_of_rows_drop = y.shape[0]%batch_size\n",
    "print(no_of_rows_drop)\n",
    "if(no_of_rows_drop > 0):\n",
    "\n",
    "    y=y[:-no_of_rows_drop]"
   ]
  },
  {
   "cell_type": "markdown",
   "metadata": {},
   "source": [
    "no_of_rows_drop = x.shape[0]%batch_size\n",
    "print(no_of_rows_drop)\n",
    "if(no_of_rows_drop > 0):\n",
    "\n",
    "    x=x[:-no_of_rows_drop]\n"
   ]
  },
  {
   "cell_type": "code",
   "execution_count": 1056,
   "metadata": {
    "collapsed": false
   },
   "outputs": [],
   "source": [
    "x = np.reshape(x, (x.shape[0], x.shape[1], 6))"
   ]
  },
  {
   "cell_type": "code",
   "execution_count": 1057,
   "metadata": {
    "collapsed": false
   },
   "outputs": [
    {
     "data": {
      "text/plain": [
       "(12894, 12, 6)"
      ]
     },
     "execution_count": 1057,
     "metadata": {},
     "output_type": "execute_result"
    }
   ],
   "source": [
    "x.shape"
   ]
  },
  {
   "cell_type": "code",
   "execution_count": 1058,
   "metadata": {
    "collapsed": false
   },
   "outputs": [
    {
     "data": {
      "text/plain": [
       "(12894, 6)"
      ]
     },
     "execution_count": 1058,
     "metadata": {},
     "output_type": "execute_result"
    }
   ],
   "source": [
    "y.shape"
   ]
  },
  {
   "cell_type": "code",
   "execution_count": 1059,
   "metadata": {
    "collapsed": true
   },
   "outputs": [],
   "source": [
    "# Importing the Keras libraries and packages\n",
    "from keras.models import Sequential\n",
    "from keras.layers import Dense\n",
    "from keras.layers import LSTM\n",
    "from keras.layers import Dropout\n",
    "\n",
    "# Initialising the RNN\n",
    "regressor = Sequential()"
   ]
  },
  {
   "cell_type": "code",
   "execution_count": 1060,
   "metadata": {
    "collapsed": false
   },
   "outputs": [],
   "source": [
    "\n",
    "# Adding the first LSTM layer and some Dropout regularisation\n",
    "regressor.add(LSTM(units = 50, return_sequences = True, input_shape = (x.shape[1], 6)))\n",
    "regressor.add(Dropout(0.2))\n",
    "\n",
    "\n",
    "# Adding a second LSTM layer and some Dropout regularisation\n",
    "regressor.add(LSTM(units = 50))\n",
    "regressor.add(Dropout(0.2))\n",
    "\n",
    "# Adding the output layer\n",
    "regressor.add(Dense(units = 6))\n",
    "\n",
    "# Compiling the RNN\n",
    "regressor.compile(optimizer = 'adam', loss = 'mean_squared_error')\n"
   ]
  },
  {
   "cell_type": "code",
   "execution_count": 1061,
   "metadata": {
    "collapsed": false
   },
   "outputs": [
    {
     "name": "stdout",
     "output_type": "stream",
     "text": [
      "_________________________________________________________________\n",
      "Layer (type)                 Output Shape              Param #   \n",
      "=================================================================\n",
      "lstm_44 (LSTM)               (None, 12, 50)            11400     \n",
      "_________________________________________________________________\n",
      "dropout_49 (Dropout)         (None, 12, 50)            0         \n",
      "_________________________________________________________________\n",
      "lstm_45 (LSTM)               (None, 50)                20200     \n",
      "_________________________________________________________________\n",
      "dropout_50 (Dropout)         (None, 50)                0         \n",
      "_________________________________________________________________\n",
      "dense_31 (Dense)             (None, 6)                 306       \n",
      "=================================================================\n",
      "Total params: 31,906\n",
      "Trainable params: 31,906\n",
      "Non-trainable params: 0\n",
      "_________________________________________________________________\n"
     ]
    }
   ],
   "source": [
    "regressor.summary()"
   ]
  },
  {
   "cell_type": "code",
   "execution_count": 1062,
   "metadata": {
    "collapsed": false
   },
   "outputs": [],
   "source": [
    "# Fitting the RNN to the Training set\n",
    "#regressor.fit(x, y, epochs = 15, batch_size = 64,verbose=1)"
   ]
  },
  {
   "cell_type": "code",
   "execution_count": 1063,
   "metadata": {
    "collapsed": false
   },
   "outputs": [],
   "source": [
    "\n",
    "# regressor.save('model/dns-sma-ema.h5') \n",
    "# print('model built successfully')"
   ]
  },
  {
   "cell_type": "code",
   "execution_count": 1092,
   "metadata": {
    "collapsed": false
   },
   "outputs": [],
   "source": [
    "dataset_total = pd.concat((df_train[train_cols], df_test[train_cols]), axis = 0)\n",
    "#inputs=df_test[12894:].values\n",
    "inputs = dataset_total[len(dataset_total) - len(df_test) - TIME_STEPS:].values\n",
    "inputs = inputs.reshape(-1,6)\n",
    "inputs = sc.transform(inputs)\n",
    "# inputs=df_ge.loc[:,train_cols]\n",
    "\n",
    "# inputs_validation=inputs[12894:].values"
   ]
  },
  {
   "cell_type": "code",
   "execution_count": 1093,
   "metadata": {
    "collapsed": false
   },
   "outputs": [
    {
     "data": {
      "text/plain": [
       "array([1.21212136, 1.61466268, 1.9559195 , 1.48656855, 1.85596356,\n",
       "       9.991323  ])"
      ]
     },
     "execution_count": 1093,
     "metadata": {},
     "output_type": "execute_result"
    }
   ],
   "source": [
    "inputs[0]"
   ]
  },
  {
   "cell_type": "code",
   "execution_count": 1094,
   "metadata": {
    "collapsed": false
   },
   "outputs": [],
   "source": [
    "dim_0 = inputs.shape[0] - TIME_STEPS   #12903\n",
    "\n",
    "dim_1 = inputs.shape[1]  # 6 features\n",
    "\n",
    "\n",
    "x_test = np.zeros((dim_0, TIME_STEPS, dim_1))"
   ]
  },
  {
   "cell_type": "code",
   "execution_count": 1095,
   "metadata": {
    "collapsed": false
   },
   "outputs": [
    {
     "data": {
      "text/plain": [
       "(3226, 12, 6)"
      ]
     },
     "execution_count": 1095,
     "metadata": {},
     "output_type": "execute_result"
    }
   ],
   "source": [
    "x_test.shape"
   ]
  },
  {
   "cell_type": "code",
   "execution_count": 1096,
   "metadata": {
    "collapsed": false
   },
   "outputs": [
    {
     "data": {
      "text/plain": [
       "array([[0., 0., 0., 0., 0., 0.],\n",
       "       [0., 0., 0., 0., 0., 0.],\n",
       "       [0., 0., 0., 0., 0., 0.],\n",
       "       [0., 0., 0., 0., 0., 0.],\n",
       "       [0., 0., 0., 0., 0., 0.],\n",
       "       [0., 0., 0., 0., 0., 0.],\n",
       "       [0., 0., 0., 0., 0., 0.],\n",
       "       [0., 0., 0., 0., 0., 0.],\n",
       "       [0., 0., 0., 0., 0., 0.],\n",
       "       [0., 0., 0., 0., 0., 0.],\n",
       "       [0., 0., 0., 0., 0., 0.],\n",
       "       [0., 0., 0., 0., 0., 0.]])"
      ]
     },
     "execution_count": 1096,
     "metadata": {},
     "output_type": "execute_result"
    }
   ],
   "source": [
    "x_test[0]"
   ]
  },
  {
   "cell_type": "code",
   "execution_count": 1099,
   "metadata": {
    "collapsed": false
   },
   "outputs": [],
   "source": [
    "\n",
    "# Getting the Random predictiond data\n",
    "\n",
    "\n",
    "counter=0\n",
    "for i in range(TIME_STEPS, len(df_test)):\n",
    "    \n",
    "    x_test[counter]= inputs[i:TIME_STEPS+i]\n",
    "    counter+=1\n",
    "# X_test = np.array(X_test)\n",
    "# X_test = np.reshape(X_test, (X_test.shape[0], X_test.shape[1], 1))\n"
   ]
  },
  {
   "cell_type": "code",
   "execution_count": 1100,
   "metadata": {
    "collapsed": false
   },
   "outputs": [],
   "source": [
    "X_test = np.array(x_test)"
   ]
  },
  {
   "cell_type": "code",
   "execution_count": 1101,
   "metadata": {
    "collapsed": false
   },
   "outputs": [],
   "source": [
    "X_test = np.reshape(X_test, (X_test.shape[0], X_test.shape[1], 6))"
   ]
  },
  {
   "cell_type": "code",
   "execution_count": 1102,
   "metadata": {
    "collapsed": false
   },
   "outputs": [
    {
     "data": {
      "text/plain": [
       "(3226, 12, 6)"
      ]
     },
     "execution_count": 1102,
     "metadata": {},
     "output_type": "execute_result"
    }
   ],
   "source": [
    "X_test.shape"
   ]
  },
  {
   "cell_type": "code",
   "execution_count": 1105,
   "metadata": {
    "collapsed": false
   },
   "outputs": [
    {
     "data": {
      "text/plain": [
       "array([[ 1.41694201,  1.78516262,  2.28780062,  1.68091444,  2.15761116,\n",
       "        12.99444594],\n",
       "       [ 1.29772669,  1.78056056,  2.30079266,  1.65724641,  2.14681297,\n",
       "        12.99540391],\n",
       "       [ 1.2294383 ,  1.75135026,  2.30116653,  1.58001922,  2.08027588,\n",
       "        12.99614215],\n",
       "       [ 1.33961676,  1.8404193 ,  2.20725467,  1.63537149,  2.12046139,\n",
       "        12.99723491],\n",
       "       [ 1.32238886,  1.77253891,  2.21160092,  1.65268245,  2.13800306,\n",
       "        12.99827223],\n",
       "       [ 1.2294383 ,  1.72351418,  2.20141292,  1.57728085,  2.07322795,\n",
       "        12.99901047],\n",
       "       [ 1.52654176,  1.93680689,  2.31815432,  1.8062498 ,  2.27330804,\n",
       "        13.00070468],\n",
       "       [ 1.28348139,  1.89650691,  2.32516441,  1.71930002,  2.22729255,\n",
       "        13.00161681],\n",
       "       [ 1.25107334,  1.84530899,  2.34381126,  1.63721933,  2.16300289,\n",
       "        13.00242467],\n",
       "       [ 1.21590527,  1.83559353,  2.23828601,  1.55551274,  2.08175378,\n",
       "        13.00311936],\n",
       "       [ 1.25721663,  1.64224308,  2.21702206,  1.54461687,  2.05178048,\n",
       "        13.00394699],\n",
       "       [ 1.40394318,  1.72872346,  2.3086206 ,  1.67349977,  2.15220444,\n",
       "        13.00524672]])"
      ]
     },
     "execution_count": 1105,
     "metadata": {},
     "output_type": "execute_result"
    }
   ],
   "source": [
    "X_test[3210]"
   ]
  },
  {
   "cell_type": "code",
   "execution_count": 1106,
   "metadata": {
    "collapsed": false
   },
   "outputs": [],
   "source": [
    "predicted_pattern = regressor.predict(X_test)"
   ]
  },
  {
   "cell_type": "code",
   "execution_count": 1107,
   "metadata": {
    "collapsed": false
   },
   "outputs": [
    {
     "data": {
      "text/plain": [
       "(3226, 6)"
      ]
     },
     "execution_count": 1107,
     "metadata": {},
     "output_type": "execute_result"
    }
   ],
   "source": [
    "predicted_pattern.shape"
   ]
  },
  {
   "cell_type": "code",
   "execution_count": 1108,
   "metadata": {
    "collapsed": false
   },
   "outputs": [],
   "source": [
    "predicted_pattern = sc.inverse_transform(predicted_pattern)"
   ]
  },
  {
   "cell_type": "code",
   "execution_count": 1109,
   "metadata": {
    "collapsed": false
   },
   "outputs": [
    {
     "data": {
      "text/plain": [
       "(3226, 6)"
      ]
     },
     "execution_count": 1109,
     "metadata": {},
     "output_type": "execute_result"
    }
   ],
   "source": [
    "predicted_pattern.shape"
   ]
  },
  {
   "cell_type": "code",
   "execution_count": 1110,
   "metadata": {
    "collapsed": false
   },
   "outputs": [],
   "source": [
    "predicted_result=predicted_pattern[:,0]\n"
   ]
  },
  {
   "cell_type": "code",
   "execution_count": 1111,
   "metadata": {
    "collapsed": false
   },
   "outputs": [
    {
     "data": {
      "text/plain": [
       "array([-3676.3323, -3677.1555, -3678.1372, ..., -2807.9443, -2807.9443,\n",
       "       -2807.9443], dtype=float32)"
      ]
     },
     "execution_count": 1111,
     "metadata": {},
     "output_type": "execute_result"
    }
   ],
   "source": [
    "predicted_result"
   ]
  },
  {
   "cell_type": "code",
   "execution_count": 1112,
   "metadata": {
    "collapsed": false
   },
   "outputs": [],
   "source": [
    "real_pattern_prediction=df_test.iloc[:, 1:2].values"
   ]
  },
  {
   "cell_type": "code",
   "execution_count": 1113,
   "metadata": {
    "collapsed": false
   },
   "outputs": [
    {
     "data": {
      "text/plain": [
       "(3226,)"
      ]
     },
     "execution_count": 1113,
     "metadata": {},
     "output_type": "execute_result"
    }
   ],
   "source": [
    "predicted_result.shape"
   ]
  },
  {
   "cell_type": "code",
   "execution_count": 1114,
   "metadata": {
    "collapsed": false
   },
   "outputs": [
    {
     "data": {
      "text/plain": [
       "array([[472.125],\n",
       "       [556.875],\n",
       "       [721.25 ],\n",
       "       ...,\n",
       "       [920.5  ],\n",
       "       [586.   ],\n",
       "       [938.875]])"
      ]
     },
     "execution_count": 1114,
     "metadata": {},
     "output_type": "execute_result"
    }
   ],
   "source": [
    "real_pattern_prediction#=sc.transform(real_pattern_prediction)"
   ]
  },
  {
   "cell_type": "code",
   "execution_count": 1041,
   "metadata": {
    "collapsed": false
   },
   "outputs": [
    {
     "data": {
      "text/plain": [
       "-2807.9443"
      ]
     },
     "execution_count": 1041,
     "metadata": {},
     "output_type": "execute_result"
    }
   ],
   "source": [
    "predicted_result[0]"
   ]
  },
  {
   "cell_type": "code",
   "execution_count": 1042,
   "metadata": {
    "collapsed": false
   },
   "outputs": [
    {
     "data": {
      "image/png": "[encoded data removed]",
      "text/plain": [
       "<Figure size 600x400 with 1 Axes>"
      ]
     },
     "metadata": {},
     "output_type": "display_data"
    }
   ],
   "source": [
    "\n",
    "\n",
    "import matplotlib.pyplot as plt\n",
    "%matplotlib inline\n",
    "#\n",
    "# Visualising the results\n",
    "plt.plot(real_pattern_prediction, color = 'red', label = 'Real Pattern Number')\n",
    "plt.plot(predicted_result, color = 'blue', label = 'Predicted Pattern Number')\n",
    "plt.title('Predicted Pattern')\n",
    "plt.xlabel('record')\n",
    "plt.ylabel('Utilization')\n",
    "plt.legend()\n",
    "plt.show()"
   ]
  },
  {
   "cell_type": "code",
   "execution_count": 982,
   "metadata": {
    "collapsed": false
   },
   "outputs": [
    {
     "data": {
      "image/png": "[encoded data removed]",
      "text/plain": [
       "<Figure size 600x400 with 1 Axes>"
      ]
     },
     "metadata": {},
     "output_type": "display_data"
    }
   ],
   "source": [
    "\n",
    "\n",
    "import matplotlib.pyplot as plt\n",
    "%matplotlib inline\n",
    "#\n",
    "# Visualising the results\n",
    "plt.plot(real_pattern_prediction, color = 'red', label = 'Real Pattern Number')\n",
    "#plt.plot(predicted_pattern, color = 'blue', label = 'Predicted Pattern Number')\n",
    "plt.title('Real Pattern')\n",
    "plt.xlabel('record')\n",
    "plt.ylabel('Utilization')\n",
    "plt.legend()\n",
    "plt.show()"
   ]
  },
  {
   "cell_type": "code",
   "execution_count": 983,
   "metadata": {
    "collapsed": false
   },
   "outputs": [
    {
     "data": {
      "image/png": "[encoded data removed]",
      "text/plain": [
       "<Figure size 600x400 with 1 Axes>"
      ]
     },
     "metadata": {},
     "output_type": "display_data"
    }
   ],
   "source": [
    "\n",
    "\n",
    "import matplotlib.pyplot as plt\n",
    "%matplotlib inline\n",
    "#\n",
    "# Visualising the results\n",
    "#plt.plot(real_pattern_prediction, color = 'red', label = 'Real Pattern Number')\n",
    "plt.plot(predicted_result, color = 'blue', label = 'Predicted Pattern Number')\n",
    "plt.title('Predicted Pattern')\n",
    "plt.xlabel('record')\n",
    "plt.ylabel('Utilization')\n",
    "plt.legend()\n",
    "plt.show()"
   ]
  },
  {
   "cell_type": "code",
   "execution_count": 984,
   "metadata": {
    "collapsed": false
   },
   "outputs": [
    {
     "data": {
      "text/plain": [
       "(3238, 1)"
      ]
     },
     "execution_count": 984,
     "metadata": {},
     "output_type": "execute_result"
    }
   ],
   "source": [
    "predicted_result=predicted_result.reshape(-1,1)\n",
    "predicted_result.shape"
   ]
  },
  {
   "cell_type": "code",
   "execution_count": 925,
   "metadata": {
    "collapsed": false
   },
   "outputs": [
    {
     "data": {
      "text/plain": [
       "(3226, 1)"
      ]
     },
     "execution_count": 925,
     "metadata": {},
     "output_type": "execute_result"
    }
   ],
   "source": [
    "real_pattern_prediction.shape"
   ]
  },
  {
   "cell_type": "code",
   "execution_count": 933,
   "metadata": {
    "collapsed": false
   },
   "outputs": [],
   "source": [
    "real_utilization = pd.DataFrame({'Real Utilization':real_pattern_prediction[:,0]})\n",
    "real_utilization.to_csv('Data/Real Utilization.csv',index=False)"
   ]
  },
  {
   "cell_type": "code",
   "execution_count": 932,
   "metadata": {
    "collapsed": false
   },
   "outputs": [],
   "source": [
    "predicted_utilization = pd.DataFrame({'Predicted Utilization':predicted_result[:,0]})\n",
    "predicted_utilization.to_csv('Data/Predicted Utilization.csv',index=False)"
   ]
  },
  {
   "cell_type": "code",
   "execution_count": null,
   "metadata": {
    "collapsed": false
   },
   "outputs": [],
   "source": []
  },
  {
   "cell_type": "code",
   "execution_count": null,
   "metadata": {
    "collapsed": false
   },
   "outputs": [],
   "source": []
  },
  {
   "cell_type": "code",
   "execution_count": null,
   "metadata": {
    "collapsed": false
   },
   "outputs": [],
   "source": []
  },
  {
   "cell_type": "code",
   "execution_count": null,
   "metadata": {
    "collapsed": false
   },
   "outputs": [],
   "source": []
  },
  {
   "cell_type": "code",
   "execution_count": null,
   "metadata": {
    "collapsed": false
   },
   "outputs": [],
   "source": []
  },
  {
   "cell_type": "code",
   "execution_count": null,
   "metadata": {
    "collapsed": false
   },
   "outputs": [],
   "source": []
  },
  {
   "cell_type": "code",
   "execution_count": null,
   "metadata": {
    "collapsed": false
   },
   "outputs": [],
   "source": []
  },
  {
   "cell_type": "code",
   "execution_count": null,
   "metadata": {
    "collapsed": false
   },
   "outputs": [],
   "source": []
  },
  {
   "cell_type": "code",
   "execution_count": null,
   "metadata": {
    "collapsed": false
   },
   "outputs": [],
   "source": []
  },
  {
   "cell_type": "code",
   "execution_count": null,
   "metadata": {
    "collapsed": false
   },
   "outputs": [],
   "source": []
  },
  {
   "cell_type": "code",
   "execution_count": 445,
   "metadata": {
    "collapsed": false
   },
   "outputs": [
    {
     "name": "stdout",
     "output_type": "stream",
     "text": [
      "_________________________________________________________________\n",
      "Layer (type)                 Output Shape              Param #   \n",
      "=================================================================\n",
      "lstm_22 (LSTM)               (None, 12, 50)            11400     \n",
      "_________________________________________________________________\n",
      "dropout_27 (Dropout)         (None, 12, 50)            0         \n",
      "_________________________________________________________________\n",
      "lstm_23 (LSTM)               (None, 50)                20200     \n",
      "_________________________________________________________________\n",
      "dropout_28 (Dropout)         (None, 50)                0         \n",
      "_________________________________________________________________\n",
      "dense_20 (Dense)             (None, 1)                 51        \n",
      "=================================================================\n",
      "Total params: 31,651\n",
      "Trainable params: 31,651\n",
      "Non-trainable params: 0\n",
      "_________________________________________________________________\n"
     ]
    }
   ],
   "source": [
    "regressor.summary()"
   ]
  },
  {
   "cell_type": "code",
   "execution_count": null,
   "metadata": {
    "collapsed": false
   },
   "outputs": [],
   "source": []
  },
  {
   "cell_type": "code",
   "execution_count": null,
   "metadata": {
    "collapsed": false
   },
   "outputs": [],
   "source": []
  },
  {
   "cell_type": "code",
   "execution_count": null,
   "metadata": {
    "collapsed": true
   },
   "outputs": [],
   "source": []
  },
  {
   "cell_type": "code",
   "execution_count": null,
   "metadata": {
    "collapsed": false
   },
   "outputs": [],
   "source": []
  },
  {
   "cell_type": "code",
   "execution_count": null,
   "metadata": {
    "collapsed": false
   },
   "outputs": [],
   "source": []
  },
  {
   "cell_type": "code",
   "execution_count": null,
   "metadata": {
    "collapsed": false
   },
   "outputs": [],
   "source": []
  },
  {
   "cell_type": "code",
   "execution_count": null,
   "metadata": {
    "collapsed": false
   },
   "outputs": [],
   "source": []
  },
  {
   "cell_type": "code",
   "execution_count": null,
   "metadata": {
    "collapsed": true
   },
   "outputs": [],
   "source": []
  }
 ],
 "metadata": {
  "anaconda-cloud": {},
  "kernelspec": {
   "display_name": "Python [Anaconda3]",
   "language": "python",
   "name": "Python [Anaconda3]"
  },
  "language_info": {
   "codemirror_mode": {
    "name": "ipython",
    "version": 3
   },
   "file_extension": ".py",
   "mimetype": "text/x-python",
   "name": "python",
   "nbconvert_exporter": "python",
   "pygments_lexer": "ipython3",
   "version": "3.5.2"
  }
 },
 "nbformat": 4,
 "nbformat_minor": 0
}

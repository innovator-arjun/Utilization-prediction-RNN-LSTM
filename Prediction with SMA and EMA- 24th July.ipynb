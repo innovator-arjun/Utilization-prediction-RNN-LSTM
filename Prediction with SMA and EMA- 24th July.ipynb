{
 "cells": [
  {
   "cell_type": "code",
   "execution_count": 1224,
   "metadata": {
    "collapsed": true
   },
   "outputs": [],
   "source": [
    "import pandas as pd\n",
    "import numpy as np"
   ]
  },
  {
   "cell_type": "code",
   "execution_count": 1225,
   "metadata": {
    "collapsed": false
   },
   "outputs": [],
   "source": [
    "df_ge=pd.read_csv('Data/dns_sma_ema.csv')"
   ]
  },
  {
   "cell_type": "code",
   "execution_count": 1226,
   "metadata": {
    "collapsed": false
   },
   "outputs": [
    {
     "data": {
      "text/html": [
       "<div>\n",
       "<table border=\"1\" class=\"dataframe\">\n",
       "  <thead>\n",
       "    <tr style=\"text-align: right;\">\n",
       "      <th></th>\n",
       "      <th>Timestamp</th>\n",
       "      <th>Utilization(bps)</th>\n",
       "      <th>SMA4</th>\n",
       "      <th>SMA9</th>\n",
       "      <th>EMA4</th>\n",
       "      <th>EMA9</th>\n",
       "      <th>cum_sum</th>\n",
       "    </tr>\n",
       "  </thead>\n",
       "  <tbody>\n",
       "    <tr>\n",
       "      <th>0</th>\n",
       "      <td>2019-01-18 08:55:00</td>\n",
       "      <td>105.0</td>\n",
       "      <td>105.000</td>\n",
       "      <td>105.0</td>\n",
       "      <td>105.000000</td>\n",
       "      <td>105.0</td>\n",
       "      <td>105.0</td>\n",
       "    </tr>\n",
       "    <tr>\n",
       "      <th>1</th>\n",
       "      <td>2019-01-18 09:00:00</td>\n",
       "      <td>212.5</td>\n",
       "      <td>212.500</td>\n",
       "      <td>212.5</td>\n",
       "      <td>212.500000</td>\n",
       "      <td>212.5</td>\n",
       "      <td>317.5</td>\n",
       "    </tr>\n",
       "    <tr>\n",
       "      <th>2</th>\n",
       "      <td>2019-01-18 09:05:00</td>\n",
       "      <td>105.0</td>\n",
       "      <td>105.000</td>\n",
       "      <td>105.0</td>\n",
       "      <td>105.000000</td>\n",
       "      <td>105.0</td>\n",
       "      <td>422.5</td>\n",
       "    </tr>\n",
       "    <tr>\n",
       "      <th>3</th>\n",
       "      <td>2019-01-18 09:10:00</td>\n",
       "      <td>340.0</td>\n",
       "      <td>190.625</td>\n",
       "      <td>340.0</td>\n",
       "      <td>230.781250</td>\n",
       "      <td>340.0</td>\n",
       "      <td>762.5</td>\n",
       "    </tr>\n",
       "    <tr>\n",
       "      <th>4</th>\n",
       "      <td>2019-01-18 09:15:00</td>\n",
       "      <td>142.5</td>\n",
       "      <td>200.000</td>\n",
       "      <td>142.5</td>\n",
       "      <td>192.491325</td>\n",
       "      <td>142.5</td>\n",
       "      <td>905.0</td>\n",
       "    </tr>\n",
       "  </tbody>\n",
       "</table>\n",
       "</div>"
      ],
      "text/plain": [
       "             Timestamp  Utilization(bps)     SMA4   SMA9        EMA4   EMA9  \\\n",
       "0  2019-01-18 08:55:00             105.0  105.000  105.0  105.000000  105.0   \n",
       "1  2019-01-18 09:00:00             212.5  212.500  212.5  212.500000  212.5   \n",
       "2  2019-01-18 09:05:00             105.0  105.000  105.0  105.000000  105.0   \n",
       "3  2019-01-18 09:10:00             340.0  190.625  340.0  230.781250  340.0   \n",
       "4  2019-01-18 09:15:00             142.5  200.000  142.5  192.491325  142.5   \n",
       "\n",
       "   cum_sum  \n",
       "0    105.0  \n",
       "1    317.5  \n",
       "2    422.5  \n",
       "3    762.5  \n",
       "4    905.0  "
      ]
     },
     "execution_count": 1226,
     "metadata": {},
     "output_type": "execute_result"
    }
   ],
   "source": [
    "df_ge.head()"
   ]
  },
  {
   "cell_type": "code",
   "execution_count": 1227,
   "metadata": {
    "collapsed": false
   },
   "outputs": [],
   "source": [
    "#Defining time_steps and batch_size\n",
    "TIME_STEPS=3\n",
    "batch_size=55"
   ]
  },
  {
   "cell_type": "code",
   "execution_count": 1228,
   "metadata": {
    "collapsed": false
   },
   "outputs": [
    {
     "name": "stdout",
     "output_type": "stream",
     "text": [
      "Train and Test size 12906 3226\n"
     ]
    }
   ],
   "source": [
    "\n",
    "from sklearn.preprocessing import MinMaxScaler\n",
    "\n",
    "from sklearn.cross_validation import train_test_split\n",
    "\n",
    "\n",
    "\n",
    "train_cols = ['Utilization(bps)','SMA4','SMA9','EMA4','EMA9','cum_sum']\n",
    "test_size=int(len(df_ge)*0.20)\n",
    "\n",
    "df_train=df_ge[0:len(df_ge)-test_size]\n",
    "df_test=df_ge[len(df_ge)-test_size: ]\n",
    "\n",
    "print(\"Train and Test size\",len(df_train), len(df_test))"
   ]
  },
  {
   "cell_type": "code",
   "execution_count": null,
   "metadata": {
    "collapsed": false
   },
   "outputs": [],
   "source": []
  },
  {
   "cell_type": "code",
   "execution_count": 1229,
   "metadata": {
    "collapsed": false
   },
   "outputs": [],
   "source": [
    "\n",
    "x = df_train.loc[:,train_cols].values # To remove the timestamp in the dataframe\n",
    "\n",
    "sc=MinMaxScaler(feature_range=(1,10)) # Applying MinMax Scaler\n",
    "\n",
    "x_train = sc.fit_transform(x) # Transforming train data from 1 to 10\n",
    "\n",
    "\n",
    "#x_test=sc.transform(df_test.loc[:,train_cols])\n",
    "\n",
    "# x_train=x\n",
    "# x_test=df_test.loc[:,train_cols]"
   ]
  },
  {
   "cell_type": "code",
   "execution_count": 1230,
   "metadata": {
    "collapsed": false
   },
   "outputs": [],
   "source": [
    "# sample_test=sc.inverse_transform(x_train)\n",
    "\n",
    "# sample_test[16]"
   ]
  },
  {
   "cell_type": "code",
   "execution_count": 1232,
   "metadata": {
    "collapsed": false
   },
   "outputs": [
    {
     "data": {
      "text/plain": [
       "array([1.0373939 , 1.02620618, 1.        , 1.02106277, 1.        ,\n",
       "       1.        ])"
      ]
     },
     "execution_count": 1232,
     "metadata": {},
     "output_type": "execute_result"
    }
   ],
   "source": [
    "#MinMax scaler is applied to the 6 columns in the dataframe and it is in the array format\n",
    "x_train[0]"
   ]
  },
  {
   "cell_type": "code",
   "execution_count": 1233,
   "metadata": {
    "collapsed": false
   },
   "outputs": [
    {
     "data": {
      "text/plain": [
       "(12906, 6)"
      ]
     },
     "execution_count": 1233,
     "metadata": {},
     "output_type": "execute_result"
    }
   ],
   "source": [
    "x_train.shape"
   ]
  },
  {
   "cell_type": "code",
   "execution_count": 1234,
   "metadata": {
    "collapsed": false
   },
   "outputs": [],
   "source": [
    "# dim_0 = x_train.shape[0] - TIME_STEPS   #lenth of train(12903) -TIME_STEPS\n",
    "\n",
    "# dim_1 = x_train.shape[1]  # 6 features  # coulmns in the train\n",
    "\n",
    "\n",
    "# x = np.zeros((dim_0, TIME_STEPS, dim_1))\n",
    "\n",
    "# y = np.zeros((dim_0, dim_1))\n"
   ]
  },
  {
   "cell_type": "code",
   "execution_count": 1240,
   "metadata": {
    "collapsed": false
   },
   "outputs": [],
   "source": [
    "# x.shape #Shape of [0]-->12906 and Shape[1] --> 6"
   ]
  },
  {
   "cell_type": "code",
   "execution_count": 1242,
   "metadata": {
    "collapsed": false
   },
   "outputs": [],
   "source": [
    "\n",
    "    \n",
    "# for i in range(dim_0):#len of training set\n",
    "#         x[i]=x_train[i:TIME_STEPS+i]\n",
    "#         y[i]=x_train[TIME_STEPS+i]\n",
    "\n",
    "X_train = []\n",
    "y_train = []\n",
    "\n",
    "for i in range(TIME_STEPS,len(x_train)): # 3, 12906\n",
    "    X_train.append(x_train[i-TIME_STEPS:i])\n",
    "    y_train.append(x_train[i])\n",
    "\n",
    "    \n",
    "X_train, y_train = np.array(X_train), np.array(y_train)\n",
    "\n",
    "# Reshaping\n",
    "X_train = np.reshape(X_train, (X_train.shape[0], X_train.shape[1], 6))\n",
    "    \n",
    "#         X_train.append(training_set_scaled[i-200:i, 0])\n",
    "#     y_train.append(training_set_scaled[i, 0])"
   ]
  },
  {
   "cell_type": "code",
   "execution_count": 1239,
   "metadata": {
    "collapsed": false
   },
   "outputs": [
    {
     "data": {
      "text/plain": [
       "array([[0., 0., 0., 0., 0., 0.],\n",
       "       [0., 0., 0., 0., 0., 0.],\n",
       "       [0., 0., 0., 0., 0., 0.]])"
      ]
     },
     "execution_count": 1239,
     "metadata": {},
     "output_type": "execute_result"
    }
   ],
   "source": [
    "x[12901]"
   ]
  },
  {
   "cell_type": "code",
   "execution_count": 1221,
   "metadata": {
    "collapsed": false
   },
   "outputs": [
    {
     "data": {
      "text/plain": [
       "array([1.12571474, 1.18766179, 1.23285189, 1.15014508, 1.21446538,\n",
       "       1.00326365])"
      ]
     },
     "execution_count": 1221,
     "metadata": {},
     "output_type": "execute_result"
    }
   ],
   "source": [
    "y[0]"
   ]
  },
  {
   "cell_type": "code",
   "execution_count": 1164,
   "metadata": {
    "collapsed": false
   },
   "outputs": [
    {
     "name": "stdout",
     "output_type": "stream",
     "text": [
      "length of time-series i/o (12894, 12, 6) (12894, 6)\n"
     ]
    }
   ],
   "source": [
    "print(\"length of time-series i/o\",x.shape,y.shape)"
   ]
  },
  {
   "cell_type": "code",
   "execution_count": 1168,
   "metadata": {
    "collapsed": false
   },
   "outputs": [
    {
     "data": {
      "text/plain": [
       "912.0"
      ]
     },
     "execution_count": 1168,
     "metadata": {},
     "output_type": "execute_result"
    }
   ],
   "source": [
    "x[12893][0][0]"
   ]
  },
  {
   "cell_type": "markdown",
   "metadata": {},
   "source": [
    "no_of_rows_drop = y.shape[0]%batch_size\n",
    "print(no_of_rows_drop)\n",
    "if(no_of_rows_drop > 0):\n",
    "\n",
    "    y=y[:-no_of_rows_drop]"
   ]
  },
  {
   "cell_type": "markdown",
   "metadata": {},
   "source": [
    "no_of_rows_drop = x.shape[0]%batch_size\n",
    "print(no_of_rows_drop)\n",
    "if(no_of_rows_drop > 0):\n",
    "\n",
    "    x=x[:-no_of_rows_drop]\n"
   ]
  },
  {
   "cell_type": "code",
   "execution_count": 1169,
   "metadata": {
    "collapsed": false
   },
   "outputs": [],
   "source": [
    "x = np.reshape(x, (x.shape[0], x.shape[1], 6))"
   ]
  },
  {
   "cell_type": "code",
   "execution_count": 1170,
   "metadata": {
    "collapsed": false
   },
   "outputs": [
    {
     "data": {
      "text/plain": [
       "(12894, 12, 6)"
      ]
     },
     "execution_count": 1170,
     "metadata": {},
     "output_type": "execute_result"
    }
   ],
   "source": [
    "x.shape"
   ]
  },
  {
   "cell_type": "code",
   "execution_count": 1171,
   "metadata": {
    "collapsed": false
   },
   "outputs": [
    {
     "data": {
      "text/plain": [
       "105.0"
      ]
     },
     "execution_count": 1171,
     "metadata": {},
     "output_type": "execute_result"
    }
   ],
   "source": [
    "x[0][0][0]"
   ]
  },
  {
   "cell_type": "code",
   "execution_count": 1172,
   "metadata": {
    "collapsed": false
   },
   "outputs": [
    {
     "data": {
      "text/plain": [
       "(12894, 6)"
      ]
     },
     "execution_count": 1172,
     "metadata": {},
     "output_type": "execute_result"
    }
   ],
   "source": [
    "y.shape"
   ]
  },
  {
   "cell_type": "code",
   "execution_count": 1173,
   "metadata": {
    "collapsed": true
   },
   "outputs": [],
   "source": [
    "# Importing the Keras libraries and packages\n",
    "from keras.models import Sequential\n",
    "from keras.layers import Dense\n",
    "from keras.layers import LSTM\n",
    "from keras.layers import Dropout\n",
    "\n",
    "# Initialising the RNN\n",
    "regressor = Sequential()"
   ]
  },
  {
   "cell_type": "code",
   "execution_count": 1174,
   "metadata": {
    "collapsed": false
   },
   "outputs": [],
   "source": [
    "\n",
    "# Adding the first LSTM layer and some Dropout regularisation\n",
    "regressor.add(LSTM(units = 50, return_sequences = True, input_shape = (x.shape[1], 6)))\n",
    "regressor.add(Dropout(0.2))\n",
    "\n",
    "\n",
    "# Adding a second LSTM layer and some Dropout regularisation\n",
    "regressor.add(LSTM(units = 50))\n",
    "regressor.add(Dropout(0.2))\n",
    "\n",
    "# Adding the output layer\n",
    "regressor.add(Dense(units = 6))\n",
    "\n",
    "# Compiling the RNN\n",
    "regressor.compile(optimizer = 'adam', loss = 'mean_squared_error')\n"
   ]
  },
  {
   "cell_type": "code",
   "execution_count": 1175,
   "metadata": {
    "collapsed": false
   },
   "outputs": [
    {
     "name": "stdout",
     "output_type": "stream",
     "text": [
      "_________________________________________________________________\n",
      "Layer (type)                 Output Shape              Param #   \n",
      "=================================================================\n",
      "lstm_46 (LSTM)               (None, 12, 50)            11400     \n",
      "_________________________________________________________________\n",
      "dropout_51 (Dropout)         (None, 12, 50)            0         \n",
      "_________________________________________________________________\n",
      "lstm_47 (LSTM)               (None, 50)                20200     \n",
      "_________________________________________________________________\n",
      "dropout_52 (Dropout)         (None, 50)                0         \n",
      "_________________________________________________________________\n",
      "dense_32 (Dense)             (None, 6)                 306       \n",
      "=================================================================\n",
      "Total params: 31,906\n",
      "Trainable params: 31,906\n",
      "Non-trainable params: 0\n",
      "_________________________________________________________________\n"
     ]
    }
   ],
   "source": [
    "regressor.summary()"
   ]
  },
  {
   "cell_type": "code",
   "execution_count": 1176,
   "metadata": {
    "collapsed": false
   },
   "outputs": [
    {
     "name": "stdout",
     "output_type": "stream",
     "text": [
      "Epoch 1/30\n",
      "12894/12894 [==============================] - 12s 913us/step - loss: 2639330918743.0806\n",
      "Epoch 2/30\n",
      "12894/12894 [==============================] - 6s 472us/step - loss: 2639317877861.8125\n",
      "Epoch 3/30\n",
      "12894/12894 [==============================] - 6s 489us/step - loss: 2639306732655.3423\n",
      "Epoch 4/30\n",
      "12894/12894 [==============================] - 6s 479us/step - loss: 2639295850040.1475\n",
      "Epoch 5/30\n",
      "12894/12894 [==============================] - 6s 469us/step - loss: 2639284899439.1040\n",
      "Epoch 6/30\n",
      "12894/12894 [==============================] - 6s 475us/step - loss: 2639274153852.8032\n",
      "Epoch 7/30\n",
      "12894/12894 [==============================] - 6s 485us/step - loss: 2639263589819.6221\n",
      "Epoch 8/30\n",
      "12894/12894 [==============================] - 7s 571us/step - loss: 2639252733878.3013\n",
      "Epoch 9/30\n",
      "12894/12894 [==============================] - 7s 544us/step - loss: 2639241825280.4766\n",
      "Epoch 10/30\n",
      "12894/12894 [==============================] - 7s 534us/step - loss: 2639231102362.9023\n",
      "Epoch 11/30\n",
      "12894/12894 [==============================] - 7s 578us/step - loss: 2639220493053.2598\n",
      "Epoch 12/30\n",
      "12894/12894 [==============================] - 7s 536us/step - loss: 2639210004507.9546\n",
      "Epoch 13/30\n",
      "12894/12894 [==============================] - 7s 546us/step - loss: 2639199204943.6548\n",
      "Epoch 14/30\n",
      "12894/12894 [==============================] - 7s 554us/step - loss: 2639188405521.6704\n",
      "Epoch 15/30\n",
      "12894/12894 [==============================] - 7s 550us/step - loss: 2639177823922.7671\n",
      "Epoch 16/30\n",
      "12894/12894 [==============================] - 7s 569us/step - loss: 2639167146281.6538\n",
      "Epoch 17/30\n",
      "12894/12894 [==============================] - 9s 697us/step - loss: 2639156430418.8315\n",
      "Epoch 18/30\n",
      "12894/12894 [==============================] - 7s 534us/step - loss: 2639145869394.5933\n",
      "Epoch 19/30\n",
      "12894/12894 [==============================] - 6s 503us/step - loss: 2639135341143.4380\n",
      "Epoch 20/30\n",
      "12894/12894 [==============================] - 6s 503us/step - loss: 2639124782721.5288\n",
      "Epoch 21/30\n",
      "12894/12894 [==============================] - 6s 502us/step - loss: 2639113994034.1519\n",
      "Epoch 22/30\n",
      "12894/12894 [==============================] - 6s 502us/step - loss: 2639102884121.7705\n",
      "Epoch 23/30\n",
      "12894/12894 [==============================] - 7s 517us/step - loss: 2639092563569.0103\n",
      "Epoch 24/30\n",
      "12894/12894 [==============================] - 6s 495us/step - loss: 2639082153866.1455\n",
      "Epoch 25/30\n",
      "12894/12894 [==============================] - 6s 501us/step - loss: 2639071163254.2910\n",
      "Epoch 26/30\n",
      "12894/12894 [==============================] - 8s 591us/step - loss: 2639060692112.0620\n",
      "Epoch 27/30\n",
      "12894/12894 [==============================] - 8s 585us/step - loss: 2639049826655.9751\n",
      "Epoch 28/30\n",
      "12894/12894 [==============================] - 6s 497us/step - loss: 2639038899272.5869\n",
      "Epoch 29/30\n",
      "12894/12894 [==============================] - 6s 488us/step - loss: 2639028675392.2876\n",
      "Epoch 30/30\n",
      "12894/12894 [==============================] - 6s 484us/step - loss: 2639018153748.6089\n"
     ]
    },
    {
     "data": {
      "text/plain": [
       "<keras.callbacks.History at 0x222cc504be0>"
      ]
     },
     "execution_count": 1176,
     "metadata": {},
     "output_type": "execute_result"
    }
   ],
   "source": [
    "# Fitting the RNN to the Training set\n",
    "regressor.fit(x, y, epochs = 30, batch_size = 64,verbose=1)"
   ]
  },
  {
   "cell_type": "code",
   "execution_count": 1063,
   "metadata": {
    "collapsed": false
   },
   "outputs": [],
   "source": [
    "\n",
    "# regressor.save('model/dns-sma-ema.h5') \n",
    "# print('model built successfully')"
   ]
  },
  {
   "cell_type": "code",
   "execution_count": 1177,
   "metadata": {
    "collapsed": false
   },
   "outputs": [],
   "source": [
    "dataset_total = pd.concat((df_train[train_cols], df_test[train_cols]), axis = 0)\n",
    "#inputs=df_test[12894:].values\n",
    "inputs = dataset_total[len(dataset_total) - len(df_test) - TIME_STEPS:].values\n",
    "inputs = inputs.reshape(-1,6)\n",
    "#inputs = sc.transform(inputs)\n",
    "# inputs=df_ge.loc[:,train_cols]\n",
    "\n",
    "# inputs_validation=inputs[12894:].values"
   ]
  },
  {
   "cell_type": "code",
   "execution_count": 1179,
   "metadata": {
    "collapsed": false
   },
   "outputs": [
    {
     "data": {
      "text/plain": [
       "595.625"
      ]
     },
     "execution_count": 1179,
     "metadata": {},
     "output_type": "execute_result"
    }
   ],
   "source": [
    "inputs[0][0]"
   ]
  },
  {
   "cell_type": "code",
   "execution_count": 1180,
   "metadata": {
    "collapsed": false
   },
   "outputs": [],
   "source": [
    "dim_0 = inputs.shape[0] - TIME_STEPS   #12903\n",
    "\n",
    "dim_1 = inputs.shape[1]  # 6 features\n",
    "\n",
    "\n",
    "x_test = np.zeros((dim_0, TIME_STEPS, dim_1))"
   ]
  },
  {
   "cell_type": "code",
   "execution_count": 1181,
   "metadata": {
    "collapsed": false
   },
   "outputs": [
    {
     "data": {
      "text/plain": [
       "(3226, 12, 6)"
      ]
     },
     "execution_count": 1181,
     "metadata": {},
     "output_type": "execute_result"
    }
   ],
   "source": [
    "x_test.shape"
   ]
  },
  {
   "cell_type": "code",
   "execution_count": 1182,
   "metadata": {
    "collapsed": false
   },
   "outputs": [
    {
     "data": {
      "text/plain": [
       "array([[0., 0., 0., 0., 0., 0.],\n",
       "       [0., 0., 0., 0., 0., 0.],\n",
       "       [0., 0., 0., 0., 0., 0.],\n",
       "       [0., 0., 0., 0., 0., 0.],\n",
       "       [0., 0., 0., 0., 0., 0.],\n",
       "       [0., 0., 0., 0., 0., 0.],\n",
       "       [0., 0., 0., 0., 0., 0.],\n",
       "       [0., 0., 0., 0., 0., 0.],\n",
       "       [0., 0., 0., 0., 0., 0.],\n",
       "       [0., 0., 0., 0., 0., 0.],\n",
       "       [0., 0., 0., 0., 0., 0.],\n",
       "       [0., 0., 0., 0., 0., 0.]])"
      ]
     },
     "execution_count": 1182,
     "metadata": {},
     "output_type": "execute_result"
    }
   ],
   "source": [
    "x_test[0]"
   ]
  },
  {
   "cell_type": "code",
   "execution_count": 1183,
   "metadata": {
    "collapsed": false
   },
   "outputs": [],
   "source": [
    "\n",
    "# Getting the Random predictiond data\n",
    "\n",
    "\n",
    "counter=0\n",
    "for i in range(TIME_STEPS, len(df_test)+TIME_STEPS):\n",
    "    \n",
    "    x_test[counter]= inputs[i-TIME_STEPS:i]\n",
    "    counter+=1\n",
    "# X_test = np.array(X_test)\n",
    "# X_test = np.reshape(X_test, (X_test.shape[0], X_test.shape[1], 1))\n"
   ]
  },
  {
   "cell_type": "code",
   "execution_count": 1184,
   "metadata": {
    "collapsed": false
   },
   "outputs": [],
   "source": [
    "X_test = np.array(x_test)"
   ]
  },
  {
   "cell_type": "code",
   "execution_count": 1185,
   "metadata": {
    "collapsed": false
   },
   "outputs": [],
   "source": [
    "X_test = np.reshape(X_test, (X_test.shape[0], X_test.shape[1], 6))"
   ]
  },
  {
   "cell_type": "code",
   "execution_count": 1186,
   "metadata": {
    "collapsed": false
   },
   "outputs": [
    {
     "data": {
      "text/plain": [
       "(3226, 12, 6)"
      ]
     },
     "execution_count": 1186,
     "metadata": {},
     "output_type": "execute_result"
    }
   ],
   "source": [
    "X_test.shape"
   ]
  },
  {
   "cell_type": "code",
   "execution_count": 1188,
   "metadata": {
    "collapsed": false
   },
   "outputs": [
    {
     "data": {
      "text/plain": [
       "595.625"
      ]
     },
     "execution_count": 1188,
     "metadata": {},
     "output_type": "execute_result"
    }
   ],
   "source": [
    "X_test[0][0][0]"
   ]
  },
  {
   "cell_type": "code",
   "execution_count": 1189,
   "metadata": {
    "collapsed": false
   },
   "outputs": [],
   "source": [
    "predicted_pattern = regressor.predict(X_test)"
   ]
  },
  {
   "cell_type": "code",
   "execution_count": 1190,
   "metadata": {
    "collapsed": false
   },
   "outputs": [
    {
     "data": {
      "text/plain": [
       "(3226, 6)"
      ]
     },
     "execution_count": 1190,
     "metadata": {},
     "output_type": "execute_result"
    }
   ],
   "source": [
    "predicted_pattern.shape"
   ]
  },
  {
   "cell_type": "code",
   "execution_count": 1108,
   "metadata": {
    "collapsed": false
   },
   "outputs": [],
   "source": [
    "#predicted_pattern = sc.inverse_transform(predicted_pattern)"
   ]
  },
  {
   "cell_type": "code",
   "execution_count": null,
   "metadata": {
    "collapsed": false
   },
   "outputs": [],
   "source": []
  },
  {
   "cell_type": "code",
   "execution_count": 1191,
   "metadata": {
    "collapsed": false
   },
   "outputs": [],
   "source": [
    "predicted_result=predicted_pattern[:,0]\n"
   ]
  },
  {
   "cell_type": "code",
   "execution_count": 1196,
   "metadata": {
    "collapsed": false
   },
   "outputs": [
    {
     "data": {
      "text/plain": [
       "283.03357"
      ]
     },
     "execution_count": 1196,
     "metadata": {},
     "output_type": "execute_result"
    }
   ],
   "source": [
    "predicted_result[500]"
   ]
  },
  {
   "cell_type": "code",
   "execution_count": 1197,
   "metadata": {
    "collapsed": false
   },
   "outputs": [],
   "source": [
    "real_pattern_prediction=df_test.iloc[:, 1:2].values"
   ]
  },
  {
   "cell_type": "code",
   "execution_count": 1198,
   "metadata": {
    "collapsed": false
   },
   "outputs": [
    {
     "data": {
      "text/plain": [
       "(3226,)"
      ]
     },
     "execution_count": 1198,
     "metadata": {},
     "output_type": "execute_result"
    }
   ],
   "source": [
    "predicted_result.shape"
   ]
  },
  {
   "cell_type": "code",
   "execution_count": 1199,
   "metadata": {
    "collapsed": false
   },
   "outputs": [
    {
     "data": {
      "text/plain": [
       "array([[472.125],\n",
       "       [556.875],\n",
       "       [721.25 ],\n",
       "       ...,\n",
       "       [920.5  ],\n",
       "       [586.   ],\n",
       "       [938.875]])"
      ]
     },
     "execution_count": 1199,
     "metadata": {},
     "output_type": "execute_result"
    }
   ],
   "source": [
    "real_pattern_prediction#=sc.transform(real_pattern_prediction)"
   ]
  },
  {
   "cell_type": "code",
   "execution_count": 1200,
   "metadata": {
    "collapsed": false
   },
   "outputs": [
    {
     "data": {
      "text/plain": [
       "283.03357"
      ]
     },
     "execution_count": 1200,
     "metadata": {},
     "output_type": "execute_result"
    }
   ],
   "source": [
    "predicted_result[0]"
   ]
  },
  {
   "cell_type": "code",
   "execution_count": 1201,
   "metadata": {
    "collapsed": false
   },
   "outputs": [
    {
     "data": {
      "image/png": "[encoded data removed]",
      "text/plain": [
       "<Figure size 600x400 with 1 Axes>"
      ]
     },
     "metadata": {},
     "output_type": "display_data"
    }
   ],
   "source": [
    "\n",
    "\n",
    "import matplotlib.pyplot as plt\n",
    "%matplotlib inline\n",
    "#\n",
    "# Visualising the results\n",
    "plt.plot(real_pattern_prediction, color = 'red', label = 'Real Pattern Number')\n",
    "plt.plot(predicted_result, color = 'blue', label = 'Predicted Pattern Number')\n",
    "plt.title('Predicted Pattern')\n",
    "plt.xlabel('record')\n",
    "plt.ylabel('Utilization')\n",
    "plt.legend()\n",
    "plt.show()"
   ]
  },
  {
   "cell_type": "code",
   "execution_count": 982,
   "metadata": {
    "collapsed": false
   },
   "outputs": [
    {
     "data": {
      "image/png": "[encoded data removed]",
      "text/plain": [
       "<Figure size 600x400 with 1 Axes>"
      ]
     },
     "metadata": {},
     "output_type": "display_data"
    }
   ],
   "source": [
    "\n",
    "\n",
    "import matplotlib.pyplot as plt\n",
    "%matplotlib inline\n",
    "#\n",
    "# Visualising the results\n",
    "plt.plot(real_pattern_prediction, color = 'red', label = 'Real Pattern Number')\n",
    "#plt.plot(predicted_pattern, color = 'blue', label = 'Predicted Pattern Number')\n",
    "plt.title('Real Pattern')\n",
    "plt.xlabel('record')\n",
    "plt.ylabel('Utilization')\n",
    "plt.legend()\n",
    "plt.show()"
   ]
  },
  {
   "cell_type": "code",
   "execution_count": 983,
   "metadata": {
    "collapsed": false
   },
   "outputs": [
    {
     "data": {
      "image/png": "[encoded data removed]",
      "text/plain": [
       "<Figure size 600x400 with 1 Axes>"
      ]
     },
     "metadata": {},
     "output_type": "display_data"
    }
   ],
   "source": [
    "\n",
    "\n",
    "import matplotlib.pyplot as plt\n",
    "%matplotlib inline\n",
    "#\n",
    "# Visualising the results\n",
    "#plt.plot(real_pattern_prediction, color = 'red', label = 'Real Pattern Number')\n",
    "plt.plot(predicted_result, color = 'blue', label = 'Predicted Pattern Number')\n",
    "plt.title('Predicted Pattern')\n",
    "plt.xlabel('record')\n",
    "plt.ylabel('Utilization')\n",
    "plt.legend()\n",
    "plt.show()"
   ]
  },
  {
   "cell_type": "code",
   "execution_count": 984,
   "metadata": {
    "collapsed": false
   },
   "outputs": [
    {
     "data": {
      "text/plain": [
       "(3238, 1)"
      ]
     },
     "execution_count": 984,
     "metadata": {},
     "output_type": "execute_result"
    }
   ],
   "source": [
    "predicted_result=predicted_result.reshape(-1,1)\n",
    "predicted_result.shape"
   ]
  },
  {
   "cell_type": "code",
   "execution_count": 925,
   "metadata": {
    "collapsed": false
   },
   "outputs": [
    {
     "data": {
      "text/plain": [
       "(3226, 1)"
      ]
     },
     "execution_count": 925,
     "metadata": {},
     "output_type": "execute_result"
    }
   ],
   "source": [
    "real_pattern_prediction.shape"
   ]
  },
  {
   "cell_type": "code",
   "execution_count": 933,
   "metadata": {
    "collapsed": false
   },
   "outputs": [],
   "source": [
    "real_utilization = pd.DataFrame({'Real Utilization':real_pattern_prediction[:,0]})\n",
    "real_utilization.to_csv('Data/Real Utilization.csv',index=False)"
   ]
  },
  {
   "cell_type": "code",
   "execution_count": 932,
   "metadata": {
    "collapsed": false
   },
   "outputs": [],
   "source": [
    "predicted_utilization = pd.DataFrame({'Predicted Utilization':predicted_result[:,0]})\n",
    "predicted_utilization.to_csv('Data/Predicted Utilization.csv',index=False)"
   ]
  },
  {
   "cell_type": "code",
   "execution_count": null,
   "metadata": {
    "collapsed": false
   },
   "outputs": [],
   "source": []
  },
  {
   "cell_type": "code",
   "execution_count": null,
   "metadata": {
    "collapsed": false
   },
   "outputs": [],
   "source": []
  },
  {
   "cell_type": "code",
   "execution_count": null,
   "metadata": {
    "collapsed": false
   },
   "outputs": [],
   "source": []
  },
  {
   "cell_type": "code",
   "execution_count": null,
   "metadata": {
    "collapsed": false
   },
   "outputs": [],
   "source": []
  },
  {
   "cell_type": "code",
   "execution_count": null,
   "metadata": {
    "collapsed": false
   },
   "outputs": [],
   "source": []
  },
  {
   "cell_type": "code",
   "execution_count": null,
   "metadata": {
    "collapsed": false
   },
   "outputs": [],
   "source": []
  },
  {
   "cell_type": "code",
   "execution_count": null,
   "metadata": {
    "collapsed": false
   },
   "outputs": [],
   "source": []
  },
  {
   "cell_type": "code",
   "execution_count": null,
   "metadata": {
    "collapsed": false
   },
   "outputs": [],
   "source": []
  },
  {
   "cell_type": "code",
   "execution_count": null,
   "metadata": {
    "collapsed": false
   },
   "outputs": [],
   "source": []
  },
  {
   "cell_type": "code",
   "execution_count": null,
   "metadata": {
    "collapsed": false
   },
   "outputs": [],
   "source": []
  },
  {
   "cell_type": "code",
   "execution_count": 445,
   "metadata": {
    "collapsed": false
   },
   "outputs": [
    {
     "name": "stdout",
     "output_type": "stream",
     "text": [
      "_________________________________________________________________\n",
      "Layer (type)                 Output Shape              Param #   \n",
      "=================================================================\n",
      "lstm_22 (LSTM)               (None, 12, 50)            11400     \n",
      "_________________________________________________________________\n",
      "dropout_27 (Dropout)         (None, 12, 50)            0         \n",
      "_________________________________________________________________\n",
      "lstm_23 (LSTM)               (None, 50)                20200     \n",
      "_________________________________________________________________\n",
      "dropout_28 (Dropout)         (None, 50)                0         \n",
      "_________________________________________________________________\n",
      "dense_20 (Dense)             (None, 1)                 51        \n",
      "=================================================================\n",
      "Total params: 31,651\n",
      "Trainable params: 31,651\n",
      "Non-trainable params: 0\n",
      "_________________________________________________________________\n"
     ]
    }
   ],
   "source": [
    "regressor.summary()"
   ]
  },
  {
   "cell_type": "code",
   "execution_count": null,
   "metadata": {
    "collapsed": false
   },
   "outputs": [],
   "source": []
  },
  {
   "cell_type": "code",
   "execution_count": null,
   "metadata": {
    "collapsed": false
   },
   "outputs": [],
   "source": []
  },
  {
   "cell_type": "code",
   "execution_count": null,
   "metadata": {
    "collapsed": true
   },
   "outputs": [],
   "source": []
  },
  {
   "cell_type": "code",
   "execution_count": null,
   "metadata": {
    "collapsed": false
   },
   "outputs": [],
   "source": []
  },
  {
   "cell_type": "code",
   "execution_count": null,
   "metadata": {
    "collapsed": false
   },
   "outputs": [],
   "source": []
  },
  {
   "cell_type": "code",
   "execution_count": null,
   "metadata": {
    "collapsed": false
   },
   "outputs": [],
   "source": []
  },
  {
   "cell_type": "code",
   "execution_count": null,
   "metadata": {
    "collapsed": false
   },
   "outputs": [],
   "source": []
  },
  {
   "cell_type": "code",
   "execution_count": null,
   "metadata": {
    "collapsed": true
   },
   "outputs": [],
   "source": []
  }
 ],
 "metadata": {
  "anaconda-cloud": {},
  "kernelspec": {
   "display_name": "Python [Anaconda3]",
   "language": "python",
   "name": "Python [Anaconda3]"
  },
  "language_info": {
   "codemirror_mode": {
    "name": "ipython",
    "version": 3
   },
   "file_extension": ".py",
   "mimetype": "text/x-python",
   "name": "python",
   "nbconvert_exporter": "python",
   "pygments_lexer": "ipython3",
   "version": "3.5.2"
  }
 },
 "nbformat": 4,
 "nbformat_minor": 0
}

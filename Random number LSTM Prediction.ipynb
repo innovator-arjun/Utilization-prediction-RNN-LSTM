{
 "cells": [
  {
   "cell_type": "code",
   "execution_count": 24,
   "metadata": {
    "collapsed": true
   },
   "outputs": [],
   "source": [
    "import pandas as pd\n",
    "import numpy as np"
   ]
  },
  {
   "cell_type": "code",
   "execution_count": 25,
   "metadata": {
    "collapsed": false
   },
   "outputs": [
    {
     "name": "stdout",
     "output_type": "stream",
     "text": [
      "[607 608 606 ... 603 602 602]\n"
     ]
    }
   ],
   "source": [
    "import numpy\n",
    "\n",
    "newArray = numpy.random.randint(601, 609, size=3000)\n",
    "\n",
    "print(newArray)"
   ]
  },
  {
   "cell_type": "code",
   "execution_count": 26,
   "metadata": {
    "collapsed": true
   },
   "outputs": [],
   "source": [
    "#newArray=newArray/1000"
   ]
  },
  {
   "cell_type": "code",
   "execution_count": 27,
   "metadata": {
    "collapsed": false
   },
   "outputs": [
    {
     "data": {
      "text/plain": [
       "array([607, 608, 606, ..., 603, 602, 602])"
      ]
     },
     "execution_count": 27,
     "metadata": {},
     "output_type": "execute_result"
    }
   ],
   "source": [
    "newArray"
   ]
  },
  {
   "cell_type": "code",
   "execution_count": 28,
   "metadata": {
    "collapsed": false
   },
   "outputs": [],
   "source": [
    "df=pd.read_csv('array_ random.csv')"
   ]
  },
  {
   "cell_type": "code",
   "execution_count": 51,
   "metadata": {
    "collapsed": false
   },
   "outputs": [],
   "source": [
    "df_train=df[0:4000]\n",
    "df_test=df[4000:4200]"
   ]
  },
  {
   "cell_type": "code",
   "execution_count": 54,
   "metadata": {
    "collapsed": false
   },
   "outputs": [],
   "source": [
    "# df_train"
   ]
  },
  {
   "cell_type": "code",
   "execution_count": 55,
   "metadata": {
    "collapsed": false
   },
   "outputs": [],
   "source": [
    "# df_test[0:]"
   ]
  },
  {
   "cell_type": "code",
   "execution_count": 30,
   "metadata": {
    "collapsed": false
   },
   "outputs": [],
   "source": [
    "#New array is created with value between 0.601 to 0.609 with size 3000\n",
    "newArray.shape\n",
    "\n",
    "newArray_train=newArray[0:2900]\n",
    "newArray_test=newArray[2900:2999]"
   ]
  },
  {
   "cell_type": "code",
   "execution_count": 31,
   "metadata": {
    "collapsed": false
   },
   "outputs": [],
   "source": [
    "from sklearn.preprocessing import MinMaxScaler\n",
    "\n",
    "sc=MinMaxScaler(feature_range=(0,1))\n",
    "\n",
    "data_scaled_array=sc.fit_transform(df_train)"
   ]
  },
  {
   "cell_type": "code",
   "execution_count": 32,
   "metadata": {
    "collapsed": false
   },
   "outputs": [
    {
     "data": {
      "text/plain": [
       "array([0.375])"
      ]
     },
     "execution_count": 32,
     "metadata": {},
     "output_type": "execute_result"
    }
   ],
   "source": [
    "data_scaled_array[102]"
   ]
  },
  {
   "cell_type": "code",
   "execution_count": 33,
   "metadata": {
    "collapsed": false
   },
   "outputs": [],
   "source": [
    "X_train=[]\n",
    "y_train=[]\n",
    "\n",
    "for i in range(100,3999):\n",
    "    X_train.append(data_scaled_array[i-100:i,0])\n",
    "    y_train.append(data_scaled_array[i,0])\n",
    "    \n",
    "X_train,y_train=np.array(X_train),y_train"
   ]
  },
  {
   "cell_type": "code",
   "execution_count": 34,
   "metadata": {
    "collapsed": false
   },
   "outputs": [
    {
     "data": {
      "text/plain": [
       "array([[0.   , 0.5  , 0.   , 0.   , 0.375, 0.   , 0.875, 0.625, 0.25 ,\n",
       "        0.5  , 0.125, 0.5  , 1.   , 0.375, 0.875, 0.125, 0.375, 0.75 ,\n",
       "        0.875, 1.   , 0.125, 0.375, 1.   , 0.   , 1.   , 0.   , 0.625,\n",
       "        0.75 , 0.125, 0.625, 1.   , 0.875, 0.875, 0.75 , 0.   , 0.875,\n",
       "        0.25 , 0.375, 0.25 , 0.875, 0.5  , 0.25 , 0.375, 1.   , 0.25 ,\n",
       "        0.75 , 0.25 , 1.   , 0.625, 0.75 , 0.375, 0.625, 0.   , 0.375,\n",
       "        0.125, 0.375, 0.125, 1.   , 0.625, 0.125, 0.   , 0.375, 0.   ,\n",
       "        0.625, 0.625, 0.25 , 0.875, 0.5  , 0.125, 0.875, 1.   , 0.   ,\n",
       "        0.   , 1.   , 1.   , 0.125, 0.125, 0.375, 0.5  , 0.125, 0.875,\n",
       "        0.875, 0.5  , 0.25 , 0.25 , 0.875, 0.5  , 0.   , 0.75 , 0.25 ,\n",
       "        0.375, 0.   , 1.   , 0.625, 0.5  , 0.25 , 1.   , 0.625, 0.   ,\n",
       "        0.625]])"
      ]
     },
     "execution_count": 34,
     "metadata": {},
     "output_type": "execute_result"
    }
   ],
   "source": [
    "X_train[2:3]"
   ]
  },
  {
   "cell_type": "code",
   "execution_count": 35,
   "metadata": {
    "collapsed": false
   },
   "outputs": [
    {
     "data": {
      "text/plain": [
       "[0.0, 0.625, 0.375, 0.5, 0.25]"
      ]
     },
     "execution_count": 35,
     "metadata": {},
     "output_type": "execute_result"
    }
   ],
   "source": [
    "y_train[0:5]"
   ]
  },
  {
   "cell_type": "code",
   "execution_count": 36,
   "metadata": {
    "collapsed": true
   },
   "outputs": [],
   "source": [
    "X_train = np.reshape(X_train,(X_train.shape[0],X_train.shape[1],1))"
   ]
  },
  {
   "cell_type": "code",
   "execution_count": 37,
   "metadata": {
    "collapsed": false
   },
   "outputs": [],
   "source": [
    "from keras.models import Sequential\n",
    "from keras.layers import Dense\n",
    "from keras.layers import LSTM\n",
    "from keras.layers import Dropout\n"
   ]
  },
  {
   "cell_type": "code",
   "execution_count": 38,
   "metadata": {
    "collapsed": true
   },
   "outputs": [],
   "source": [
    "regressor=Sequential()"
   ]
  },
  {
   "cell_type": "code",
   "execution_count": 39,
   "metadata": {
    "collapsed": true
   },
   "outputs": [],
   "source": [
    "\n",
    "regressor.add(LSTM(units=50,return_sequences=True,input_shape=(X_train.shape[1],1)))\n",
    "\n",
    "regressor.add(Dropout(0.2))"
   ]
  },
  {
   "cell_type": "code",
   "execution_count": 40,
   "metadata": {
    "collapsed": true
   },
   "outputs": [],
   "source": [
    "#2nd LSTM Layer\n",
    "regressor.add(LSTM(units=50, return_sequences=True))\n",
    "regressor.add(Dropout(0.2)) "
   ]
  },
  {
   "cell_type": "code",
   "execution_count": 41,
   "metadata": {
    "collapsed": true
   },
   "outputs": [],
   "source": [
    "regressor.add(LSTM(units=50, return_sequences=True))\n",
    "regressor.add(Dropout(0.2)) "
   ]
  },
  {
   "cell_type": "code",
   "execution_count": 42,
   "metadata": {
    "collapsed": false
   },
   "outputs": [],
   "source": [
    "regressor.add(LSTM(units=50, return_sequences=False)) #since this is the last LSTM layer\n",
    "regressor.add(Dropout(0.2)) "
   ]
  },
  {
   "cell_type": "code",
   "execution_count": 43,
   "metadata": {
    "collapsed": true
   },
   "outputs": [],
   "source": [
    "regressor.add(Dense(units=1))"
   ]
  },
  {
   "cell_type": "code",
   "execution_count": 44,
   "metadata": {
    "collapsed": true
   },
   "outputs": [],
   "source": [
    "regressor.compile(optimizer='adam',loss='mean_squared_error')\n"
   ]
  },
  {
   "cell_type": "code",
   "execution_count": 63,
   "metadata": {
    "collapsed": false
   },
   "outputs": [
    {
     "name": "stdout",
     "output_type": "stream",
     "text": [
      "_________________________________________________________________\n",
      "Layer (type)                 Output Shape              Param #   \n",
      "=================================================================\n",
      "lstm_13 (LSTM)               (None, 1)                 12        \n",
      "=================================================================\n",
      "Total params: 12\n",
      "Trainable params: 12\n",
      "Non-trainable params: 0\n",
      "_________________________________________________________________\n",
      "None\n",
      "Epoch 1/10\n",
      " - 10s - loss: 0.2025\n",
      "Epoch 2/10\n",
      " - 8s - loss: 0.1220\n",
      "Epoch 3/10\n",
      " - 9s - loss: 0.1092\n",
      "Epoch 4/10\n",
      " - 8s - loss: 0.1074\n",
      "Epoch 5/10\n",
      " - 8s - loss: 0.1069\n",
      "Epoch 6/10\n",
      " - 8s - loss: 0.1065\n",
      "Epoch 7/10\n",
      " - 9s - loss: 0.1064\n",
      "Epoch 8/10\n",
      " - 8s - loss: 0.1057\n",
      "Epoch 9/10\n",
      " - 10s - loss: 0.1056\n",
      "Epoch 10/10\n",
      " - 9s - loss: 0.1055\n"
     ]
    },
    {
     "data": {
      "text/plain": [
       "<keras.callbacks.History at 0x1bb5dd16eb8>"
      ]
     },
     "execution_count": 63,
     "metadata": {},
     "output_type": "execute_result"
    }
   ],
   "source": [
    "model = Sequential()\n",
    "model.add(\n",
    "    LSTM(1, input_shape=(X_train.shape[1], 1), dropout=0.4,\n",
    "         return_sequences=False))\n",
    "\n",
    "#-----------------------Compiling the Model-------------------------------------------#\n",
    "model.compile(loss='mean_squared_error', optimizer='adam')\n",
    "print(model.summary())\n",
    "# train LSTM\n",
    "model.fit(X_train, y_train, epochs=10, batch_size=32, verbose=2)"
   ]
  },
  {
   "cell_type": "code",
   "execution_count": 64,
   "metadata": {
    "collapsed": false
   },
   "outputs": [],
   "source": [
    "#regressor.fit(X_train,y_train, epochs = 10, batch_size=32)"
   ]
  },
  {
   "cell_type": "code",
   "execution_count": 65,
   "metadata": {
    "collapsed": false
   },
   "outputs": [],
   "source": [
    "dataset_total= pd.concat((df_train,df_test),axis=0)\n",
    "inputs= dataset_total[len(dataset_total) -len(df_test)-100:].values#4200-200-100= 1198\n",
    "inputs=inputs.reshape(-1,1)\n",
    "inputs=sc.transform(inputs)"
   ]
  },
  {
   "cell_type": "code",
   "execution_count": 66,
   "metadata": {
    "collapsed": false
   },
   "outputs": [],
   "source": [
    "X_test=[]\n",
    "for i in range(100,199):#Lower bound and upper bound 60+20\n",
    "    X_test.append(inputs[i-100:i,0]) #Holding 60 values as memory\n",
    "#Converting to numpy array\n",
    "X_test=np.array(X_test)\n",
    "#adding the dimension\n",
    "X_test = np.reshape(X_test,(X_test.shape[0],X_test.shape[1],1))\n",
    "#Predicted values\n",
    "predicted_stock_price=model.predict(X_test)\n",
    "#Inversing the transformation\n",
    "predicted_stock_price=sc.inverse_transform(predicted_stock_price)"
   ]
  },
  {
   "cell_type": "code",
   "execution_count": 67,
   "metadata": {
    "collapsed": false
   },
   "outputs": [
    {
     "data": {
      "image/png": "[encoded data removed]",
      "text/plain": [
       "<Figure size 600x400 with 1 Axes>"
      ]
     },
     "metadata": {},
     "output_type": "display_data"
    }
   ],
   "source": [
    "import matplotlib.pyplot as plt\n",
    "%matplotlib inline\n",
    "plt.plot(df_test,color = 'red', label='Real Google Stock Price')\n",
    "plt.plot(predicted_stock_price,color = 'blue', label='Predicted Google Stock Price')\n",
    "plt.ylabel('Price')\n",
    "plt.legend()\n",
    "plt.show()"
   ]
  },
  {
   "cell_type": "code",
   "execution_count": null,
   "metadata": {
    "collapsed": true
   },
   "outputs": [],
   "source": []
  }
 ],
 "metadata": {
  "kernelspec": {
   "display_name": "Python [Anaconda3]",
   "language": "python",
   "name": "Python [Anaconda3]"
  },
  "language_info": {
   "codemirror_mode": {
    "name": "ipython",
    "version": 3
   },
   "file_extension": ".py",
   "mimetype": "text/x-python",
   "name": "python",
   "nbconvert_exporter": "python",
   "pygments_lexer": "ipython3",
   "version": "3.5.2"
  }
 },
 "nbformat": 4,
 "nbformat_minor": 0
}

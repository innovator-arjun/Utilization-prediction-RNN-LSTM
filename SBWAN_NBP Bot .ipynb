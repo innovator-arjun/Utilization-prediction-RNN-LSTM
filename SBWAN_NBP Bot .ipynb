{
 "cells": [
  {
   "cell_type": "markdown",
   "metadata": {},
   "source": [
    "# Satyaki NBPB "
   ]
  },
  {
   "cell_type": "markdown",
   "metadata": {},
   "source": [
    "## Approach 1: Using NBPB Code"
   ]
  },
  {
   "cell_type": "markdown",
   "metadata": {},
   "source": [
    "#### PYTHON 2"
   ]
  },
  {
   "cell_type": "code",
   "execution_count": 1,
   "metadata": {
    "collapsed": false
   },
   "outputs": [],
   "source": [
    "import pandas as pd\n",
    "import numpy as np\n",
    "import datetime\n",
    "import sqlite3"
   ]
  },
  {
   "cell_type": "code",
   "execution_count": 2,
   "metadata": {
    "collapsed": true
   },
   "outputs": [],
   "source": [
    "# Parameters\n",
    "\n",
    "# 5 mins interval\n",
    "Polling = 5"
   ]
  },
  {
   "cell_type": "code",
   "execution_count": 3,
   "metadata": {
    "collapsed": true
   },
   "outputs": [],
   "source": [
    "conn = sqlite3.connect('Data/ticket_db.sqlite')\n",
    "cur = conn.cursor()"
   ]
  },
  {
   "cell_type": "code",
   "execution_count": 4,
   "metadata": {
    "collapsed": false
   },
   "outputs": [
    {
     "data": {
      "text/html": [
       "<div>\n",
       "<table border=\"1\" class=\"dataframe\">\n",
       "  <thead>\n",
       "    <tr style=\"text-align: right;\">\n",
       "      <th></th>\n",
       "      <th>name</th>\n",
       "    </tr>\n",
       "  </thead>\n",
       "  <tbody>\n",
       "    <tr>\n",
       "      <th>0</th>\n",
       "      <td>sqlite_sequence</td>\n",
       "    </tr>\n",
       "    <tr>\n",
       "      <th>1</th>\n",
       "      <td>ticket_data</td>\n",
       "    </tr>\n",
       "  </tbody>\n",
       "</table>\n",
       "</div>"
      ],
      "text/plain": [
       "              name\n",
       "0  sqlite_sequence\n",
       "1      ticket_data"
      ]
     },
     "execution_count": 4,
     "metadata": {},
     "output_type": "execute_result"
    }
   ],
   "source": [
    "d1 = pd.read_sql(\"select name from sqlite_master where type = 'table'\", con=conn)\n",
    "d1\n",
    "#d1 = pd.read_sql(\"SELECT 'vdevice_host_name' as HOSTNAME FROM ticket_data\", con=conn)"
   ]
  },
  {
   "cell_type": "code",
   "execution_count": 7,
   "metadata": {
    "collapsed": false
   },
   "outputs": [],
   "source": [
    "#d1 = pd.read_sql(\"select * from ticket_data\", con=conn)"
   ]
  },
  {
   "cell_type": "code",
   "execution_count": 8,
   "metadata": {
    "collapsed": false
   },
   "outputs": [],
   "source": [
    "#d1.to_csv('ticket_db.csv')"
   ]
  },
  {
   "cell_type": "code",
   "execution_count": 5,
   "metadata": {
    "collapsed": false
   },
   "outputs": [],
   "source": [
    "data = pd.read_sql(\"SELECT 'vdevice-host-name' as Hostname, application as Application, octets, strftime('%Y-%m-%d %H:%M:%S', datetime(scheduler_datetime,'unixepoch')) as Timestamp FROM ticket_data\", con=conn)"
   ]
  },
  {
   "cell_type": "code",
   "execution_count": 6,
   "metadata": {
    "collapsed": false
   },
   "outputs": [
    {
     "data": {
      "text/plain": [
       "(601151, 4)"
      ]
     },
     "execution_count": 6,
     "metadata": {},
     "output_type": "execute_result"
    }
   ],
   "source": [
    "data.shape"
   ]
  },
  {
   "cell_type": "markdown",
   "metadata": {},
   "source": [
    "## Raw Data"
   ]
  },
  {
   "cell_type": "code",
   "execution_count": 7,
   "metadata": {
    "collapsed": false
   },
   "outputs": [],
   "source": [
    "df = data.copy()\n",
    "# Continous data starts here\n",
    "df = df[34:]\n",
    "\n",
    "# convert octects into bps\n",
    "df['octets(kb)'] = df['octets'].astype(float)/(8*1000)"
   ]
  },
  {
   "cell_type": "code",
   "execution_count": 8,
   "metadata": {
    "collapsed": false
   },
   "outputs": [
    {
     "data": {
      "text/html": [
       "<div>\n",
       "<table border=\"1\" class=\"dataframe\">\n",
       "  <thead>\n",
       "    <tr style=\"text-align: right;\">\n",
       "      <th></th>\n",
       "      <th>Hostname</th>\n",
       "      <th>Application</th>\n",
       "      <th>octets</th>\n",
       "      <th>Timestamp</th>\n",
       "      <th>octets(kb)</th>\n",
       "    </tr>\n",
       "  </thead>\n",
       "  <tbody>\n",
       "    <tr>\n",
       "      <th>34</th>\n",
       "      <td>vdevice-host-name</td>\n",
       "      <td>dns</td>\n",
       "      <td>999321</td>\n",
       "      <td>2019-01-18 08:50:12</td>\n",
       "      <td>124.915125</td>\n",
       "    </tr>\n",
       "    <tr>\n",
       "      <th>35</th>\n",
       "      <td>vdevice-host-name</td>\n",
       "      <td>firefox_update</td>\n",
       "      <td>135582</td>\n",
       "      <td>2019-01-18 08:50:12</td>\n",
       "      <td>16.947750</td>\n",
       "    </tr>\n",
       "    <tr>\n",
       "      <th>36</th>\n",
       "      <td>vdevice-host-name</td>\n",
       "      <td>google_gen</td>\n",
       "      <td>999692</td>\n",
       "      <td>2019-01-18 08:50:12</td>\n",
       "      <td>124.961500</td>\n",
       "    </tr>\n",
       "    <tr>\n",
       "      <th>37</th>\n",
       "      <td>vdevice-host-name</td>\n",
       "      <td>https</td>\n",
       "      <td>14039837</td>\n",
       "      <td>2019-01-18 08:50:12</td>\n",
       "      <td>1754.979625</td>\n",
       "    </tr>\n",
       "    <tr>\n",
       "      <th>38</th>\n",
       "      <td>vdevice-host-name</td>\n",
       "      <td>mozilla</td>\n",
       "      <td>961326</td>\n",
       "      <td>2019-01-18 08:50:12</td>\n",
       "      <td>120.165750</td>\n",
       "    </tr>\n",
       "  </tbody>\n",
       "</table>\n",
       "</div>"
      ],
      "text/plain": [
       "             Hostname     Application    octets            Timestamp  \\\n",
       "34  vdevice-host-name             dns    999321  2019-01-18 08:50:12   \n",
       "35  vdevice-host-name  firefox_update    135582  2019-01-18 08:50:12   \n",
       "36  vdevice-host-name      google_gen    999692  2019-01-18 08:50:12   \n",
       "37  vdevice-host-name           https  14039837  2019-01-18 08:50:12   \n",
       "38  vdevice-host-name         mozilla    961326  2019-01-18 08:50:12   \n",
       "\n",
       "     octets(kb)  \n",
       "34   124.915125  \n",
       "35    16.947750  \n",
       "36   124.961500  \n",
       "37  1754.979625  \n",
       "38   120.165750  "
      ]
     },
     "execution_count": 8,
     "metadata": {},
     "output_type": "execute_result"
    }
   ],
   "source": [
    "df.head()"
   ]
  },
  {
   "cell_type": "code",
   "execution_count": 9,
   "metadata": {
    "collapsed": true
   },
   "outputs": [],
   "source": [
    "df['octets(kb)']=df['octets(kb)'].round(2)"
   ]
  },
  {
   "cell_type": "code",
   "execution_count": 10,
   "metadata": {
    "collapsed": false
   },
   "outputs": [
    {
     "data": {
      "text/html": [
       "<div>\n",
       "<table border=\"1\" class=\"dataframe\">\n",
       "  <thead>\n",
       "    <tr style=\"text-align: right;\">\n",
       "      <th></th>\n",
       "      <th>Hostname</th>\n",
       "      <th>Application</th>\n",
       "      <th>octets</th>\n",
       "      <th>Timestamp</th>\n",
       "      <th>octets(kb)</th>\n",
       "    </tr>\n",
       "  </thead>\n",
       "  <tbody>\n",
       "    <tr>\n",
       "      <th>34</th>\n",
       "      <td>vdevice-host-name</td>\n",
       "      <td>dns</td>\n",
       "      <td>999321</td>\n",
       "      <td>2019-01-18 08:50:12</td>\n",
       "      <td>124.92</td>\n",
       "    </tr>\n",
       "    <tr>\n",
       "      <th>35</th>\n",
       "      <td>vdevice-host-name</td>\n",
       "      <td>firefox_update</td>\n",
       "      <td>135582</td>\n",
       "      <td>2019-01-18 08:50:12</td>\n",
       "      <td>16.95</td>\n",
       "    </tr>\n",
       "    <tr>\n",
       "      <th>36</th>\n",
       "      <td>vdevice-host-name</td>\n",
       "      <td>google_gen</td>\n",
       "      <td>999692</td>\n",
       "      <td>2019-01-18 08:50:12</td>\n",
       "      <td>124.96</td>\n",
       "    </tr>\n",
       "    <tr>\n",
       "      <th>37</th>\n",
       "      <td>vdevice-host-name</td>\n",
       "      <td>https</td>\n",
       "      <td>14039837</td>\n",
       "      <td>2019-01-18 08:50:12</td>\n",
       "      <td>1754.98</td>\n",
       "    </tr>\n",
       "    <tr>\n",
       "      <th>38</th>\n",
       "      <td>vdevice-host-name</td>\n",
       "      <td>mozilla</td>\n",
       "      <td>961326</td>\n",
       "      <td>2019-01-18 08:50:12</td>\n",
       "      <td>120.17</td>\n",
       "    </tr>\n",
       "  </tbody>\n",
       "</table>\n",
       "</div>"
      ],
      "text/plain": [
       "             Hostname     Application    octets            Timestamp  \\\n",
       "34  vdevice-host-name             dns    999321  2019-01-18 08:50:12   \n",
       "35  vdevice-host-name  firefox_update    135582  2019-01-18 08:50:12   \n",
       "36  vdevice-host-name      google_gen    999692  2019-01-18 08:50:12   \n",
       "37  vdevice-host-name           https  14039837  2019-01-18 08:50:12   \n",
       "38  vdevice-host-name         mozilla    961326  2019-01-18 08:50:12   \n",
       "\n",
       "    octets(kb)  \n",
       "34      124.92  \n",
       "35       16.95  \n",
       "36      124.96  \n",
       "37     1754.98  \n",
       "38      120.17  "
      ]
     },
     "execution_count": 10,
     "metadata": {},
     "output_type": "execute_result"
    }
   ],
   "source": [
    "df.head()"
   ]
  },
  {
   "cell_type": "code",
   "execution_count": 11,
   "metadata": {
    "collapsed": true
   },
   "outputs": [],
   "source": [
    "df.to_csv('understanding.csv', index=False)"
   ]
  },
  {
   "cell_type": "code",
   "execution_count": 12,
   "metadata": {
    "collapsed": false
   },
   "outputs": [
    {
     "data": {
      "text/html": [
       "<div>\n",
       "<table border=\"1\" class=\"dataframe\">\n",
       "  <thead>\n",
       "    <tr style=\"text-align: right;\">\n",
       "      <th></th>\n",
       "      <th>Hostname</th>\n",
       "      <th>Application</th>\n",
       "      <th>octets</th>\n",
       "      <th>Timestamp</th>\n",
       "      <th>octets(kb)</th>\n",
       "    </tr>\n",
       "  </thead>\n",
       "  <tbody>\n",
       "    <tr>\n",
       "      <th>0</th>\n",
       "      <td>vdevice-host-name</td>\n",
       "      <td>dns</td>\n",
       "      <td>999321</td>\n",
       "      <td>2019-01-18 08:50:00</td>\n",
       "      <td>124.92</td>\n",
       "    </tr>\n",
       "    <tr>\n",
       "      <th>1</th>\n",
       "      <td>vdevice-host-name</td>\n",
       "      <td>unknown</td>\n",
       "      <td>6263</td>\n",
       "      <td>2019-01-18 08:50:00</td>\n",
       "      <td>0.78</td>\n",
       "    </tr>\n",
       "    <tr>\n",
       "      <th>2</th>\n",
       "      <td>vdevice-host-name</td>\n",
       "      <td>tcp</td>\n",
       "      <td>256</td>\n",
       "      <td>2019-01-18 08:50:00</td>\n",
       "      <td>0.03</td>\n",
       "    </tr>\n",
       "    <tr>\n",
       "      <th>3</th>\n",
       "      <td>vdevice-host-name</td>\n",
       "      <td>mozilla</td>\n",
       "      <td>961326</td>\n",
       "      <td>2019-01-18 08:50:00</td>\n",
       "      <td>120.17</td>\n",
       "    </tr>\n",
       "    <tr>\n",
       "      <th>4</th>\n",
       "      <td>vdevice-host-name</td>\n",
       "      <td>https</td>\n",
       "      <td>14039837</td>\n",
       "      <td>2019-01-18 08:50:00</td>\n",
       "      <td>1754.98</td>\n",
       "    </tr>\n",
       "  </tbody>\n",
       "</table>\n",
       "</div>"
      ],
      "text/plain": [
       "            Hostname Application    octets           Timestamp  octets(kb)\n",
       "0  vdevice-host-name         dns    999321 2019-01-18 08:50:00      124.92\n",
       "1  vdevice-host-name     unknown      6263 2019-01-18 08:50:00        0.78\n",
       "2  vdevice-host-name         tcp       256 2019-01-18 08:50:00        0.03\n",
       "3  vdevice-host-name     mozilla    961326 2019-01-18 08:50:00      120.17\n",
       "4  vdevice-host-name       https  14039837 2019-01-18 08:50:00     1754.98"
      ]
     },
     "execution_count": 12,
     "metadata": {},
     "output_type": "execute_result"
    }
   ],
   "source": [
    "\n",
    "\n",
    "# convert to datetime and round-off min\n",
    "df.Timestamp = pd.to_datetime(pd.to_datetime(df.Timestamp).dt.strftime('%Y-%m-%d %H:%M:00'))\n",
    "df = df.sort_values(by='Timestamp').reset_index(drop=True)\n",
    "df.head()"
   ]
  },
  {
   "cell_type": "code",
   "execution_count": null,
   "metadata": {
    "collapsed": true
   },
   "outputs": [],
   "source": []
  },
  {
   "cell_type": "markdown",
   "metadata": {},
   "source": [
    "## Final Data"
   ]
  },
  {
   "cell_type": "code",
   "execution_count": 17,
   "metadata": {
    "collapsed": false
   },
   "outputs": [],
   "source": [
    "final = pd.DataFrame()\n",
    "\n",
    "for app in df.Application.unique():\n",
    "    \n",
    "    f = df[df.Application == app].sort_values(by='Timestamp').reset_index(drop=True)\n",
    "    f = f.drop_duplicates(subset='Timestamp')\n",
    "    #print(f.Timestamp)\n",
    "    f['time_gap(seconds)'] = (f.Timestamp.subtract(f.Timestamp.shift(1)) ).fillna(0).apply(lambda x: int(x.total_seconds()))\n",
    "    f['Utilization(kb)'] = (f['octets(kb)'] - f['octets(kb)'].shift(1)).fillna(0)\n",
    "    f = f.reset_index(drop=True)\n",
    "    f = f[f['time_gap(seconds)'] == Polling*60]\n",
    "    final = final.append(f)"
   ]
  },
  {
   "cell_type": "code",
   "execution_count": null,
   "metadata": {
    "collapsed": true
   },
   "outputs": [],
   "source": []
  },
  {
   "cell_type": "code",
   "execution_count": 18,
   "metadata": {
    "collapsed": false
   },
   "outputs": [
    {
     "data": {
      "text/html": [
       "<div>\n",
       "<table border=\"1\" class=\"dataframe\">\n",
       "  <thead>\n",
       "    <tr style=\"text-align: right;\">\n",
       "      <th></th>\n",
       "      <th>Hostname</th>\n",
       "      <th>Application</th>\n",
       "      <th>octets</th>\n",
       "      <th>Timestamp</th>\n",
       "      <th>octets(kb)</th>\n",
       "      <th>time_gap(seconds)</th>\n",
       "      <th>Utilization(kb)</th>\n",
       "    </tr>\n",
       "  </thead>\n",
       "  <tbody>\n",
       "    <tr>\n",
       "      <th>0</th>\n",
       "      <td>vdevice-host-name</td>\n",
       "      <td>dns</td>\n",
       "      <td>1000161</td>\n",
       "      <td>2019-01-18 08:55:00</td>\n",
       "      <td>125.02</td>\n",
       "      <td>300</td>\n",
       "      <td>0.10</td>\n",
       "    </tr>\n",
       "    <tr>\n",
       "      <th>1</th>\n",
       "      <td>vdevice-host-name</td>\n",
       "      <td>tcp</td>\n",
       "      <td>256</td>\n",
       "      <td>2019-01-18 08:55:00</td>\n",
       "      <td>0.03</td>\n",
       "      <td>300</td>\n",
       "      <td>0.00</td>\n",
       "    </tr>\n",
       "    <tr>\n",
       "      <th>2</th>\n",
       "      <td>vdevice-host-name</td>\n",
       "      <td>https</td>\n",
       "      <td>14062056</td>\n",
       "      <td>2019-01-18 08:55:00</td>\n",
       "      <td>1757.76</td>\n",
       "      <td>300</td>\n",
       "      <td>2.78</td>\n",
       "    </tr>\n",
       "    <tr>\n",
       "      <th>3</th>\n",
       "      <td>vdevice-host-name</td>\n",
       "      <td>google_gen</td>\n",
       "      <td>999692</td>\n",
       "      <td>2019-01-18 08:55:00</td>\n",
       "      <td>124.96</td>\n",
       "      <td>300</td>\n",
       "      <td>0.00</td>\n",
       "    </tr>\n",
       "    <tr>\n",
       "      <th>4</th>\n",
       "      <td>vdevice-host-name</td>\n",
       "      <td>firefox_update</td>\n",
       "      <td>135582</td>\n",
       "      <td>2019-01-18 08:55:00</td>\n",
       "      <td>16.95</td>\n",
       "      <td>300</td>\n",
       "      <td>0.00</td>\n",
       "    </tr>\n",
       "  </tbody>\n",
       "</table>\n",
       "</div>"
      ],
      "text/plain": [
       "            Hostname     Application    octets           Timestamp  \\\n",
       "0  vdevice-host-name             dns   1000161 2019-01-18 08:55:00   \n",
       "1  vdevice-host-name             tcp       256 2019-01-18 08:55:00   \n",
       "2  vdevice-host-name           https  14062056 2019-01-18 08:55:00   \n",
       "3  vdevice-host-name      google_gen    999692 2019-01-18 08:55:00   \n",
       "4  vdevice-host-name  firefox_update    135582 2019-01-18 08:55:00   \n",
       "\n",
       "   octets(kb)  time_gap(seconds)  Utilization(kb)  \n",
       "0      125.02                300             0.10  \n",
       "1        0.03                300             0.00  \n",
       "2     1757.76                300             2.78  \n",
       "3      124.96                300             0.00  \n",
       "4       16.95                300             0.00  "
      ]
     },
     "execution_count": 18,
     "metadata": {},
     "output_type": "execute_result"
    }
   ],
   "source": [
    "final = final.sort_values(by='Timestamp').reset_index(drop=True)\n",
    "final.head()"
   ]
  },
  {
   "cell_type": "markdown",
   "metadata": {},
   "source": [
    "## Final Output"
   ]
  },
  {
   "cell_type": "code",
   "execution_count": 19,
   "metadata": {
    "collapsed": true
   },
   "outputs": [],
   "source": [
    "final = final[['Hostname', 'Application', 'Utilization(kb)', 'Timestamp']]"
   ]
  },
  {
   "cell_type": "code",
   "execution_count": 20,
   "metadata": {
    "collapsed": true
   },
   "outputs": [],
   "source": [
    "final.to_csv('Data/preprocessed_data.csv')"
   ]
  },
  {
   "cell_type": "code",
   "execution_count": 12,
   "metadata": {
    "collapsed": true
   },
   "outputs": [],
   "source": [
    "application = final['Application']"
   ]
  },
  {
   "cell_type": "code",
   "execution_count": 13,
   "metadata": {
    "collapsed": true
   },
   "outputs": [],
   "source": [
    "applist = np.unique(application).tolist()"
   ]
  },
  {
   "cell_type": "code",
   "execution_count": 14,
   "metadata": {
    "collapsed": false
   },
   "outputs": [
    {
     "data": {
      "text/plain": [
       "60"
      ]
     },
     "execution_count": 14,
     "metadata": {},
     "output_type": "execute_result"
    }
   ],
   "source": [
    "len(applist)"
   ]
  },
  {
   "cell_type": "code",
   "execution_count": 21,
   "metadata": {
    "collapsed": false
   },
   "outputs": [
    {
     "data": {
      "text/plain": [
       "98.87640449438202"
      ]
     },
     "execution_count": 21,
     "metadata": {},
     "output_type": "execute_result"
    }
   ],
   "source": [
    "(176/178)*100."
   ]
  },
  {
   "cell_type": "code",
   "execution_count": 24,
   "metadata": {
    "collapsed": true
   },
   "outputs": [],
   "source": [
    "space = '             '"
   ]
  },
  {
   "cell_type": "code",
   "execution_count": 29,
   "metadata": {
    "collapsed": false
   },
   "outputs": [
    {
     "name": "stdout",
     "output_type": "stream",
     "text": [
      "6\n",
      "28\n",
      "7\n",
      "18\n",
      "36\n",
      "0\n",
      "1\n",
      "2\n",
      "20\n",
      "7\n",
      "20\n",
      "1\n",
      "1\n",
      "21251\n",
      "24\n",
      "533\n",
      "112\n",
      "5\n",
      "3692\n",
      "18\n",
      "4375\n",
      "27\n",
      "834\n",
      "0\n",
      "30\n",
      "21229\n",
      "0\n",
      "0\n",
      "26\n",
      "1\n",
      "10\n",
      "15\n",
      "31\n",
      "1\n",
      "2605\n",
      "14257\n",
      "3\n",
      "10\n",
      "181\n",
      "26\n",
      "30\n",
      "36\n",
      "0\n",
      "0\n",
      "0\n",
      "14277\n",
      "23\n",
      "0\n",
      "30\n",
      "3\n",
      "599\n",
      "27\n",
      "0\n",
      "2\n",
      "10646\n",
      "23\n",
      "21\n",
      "22\n",
      "2967\n",
      "1\n"
     ]
    }
   ],
   "source": [
    "for i in range(len(applist)):\n",
    "    df = final[final['Application'] == applist[i]]\n",
    "    df = pd.DataFrame(df['Utilization(bps)'])\n",
    "    nz = df.shape[0] - np.count_nonzero(df)\n",
    "    zPercent = (nz/df.shape[0])*100.\n",
    "#     table = [applist[i], df.shape[0], np.count_nonzero(df), zPercent]\n",
    "    print(np.count_nonzero(df))\n",
    "    del df"
   ]
  },
  {
   "cell_type": "code",
   "execution_count": 27,
   "metadata": {
    "collapsed": true
   },
   "outputs": [],
   "source": [
    "table = pd.DataFrame(table)"
   ]
  },
  {
   "cell_type": "code",
   "execution_count": 28,
   "metadata": {
    "collapsed": false
   },
   "outputs": [
    {
     "data": {
      "text/html": [
       "<div>\n",
       "<style scoped>\n",
       "    .dataframe tbody tr th:only-of-type {\n",
       "        vertical-align: middle;\n",
       "    }\n",
       "\n",
       "    .dataframe tbody tr th {\n",
       "        vertical-align: top;\n",
       "    }\n",
       "\n",
       "    .dataframe thead th {\n",
       "        text-align: right;\n",
       "    }\n",
       "</style>\n",
       "<table border=\"1\" class=\"dataframe\">\n",
       "  <thead>\n",
       "    <tr style=\"text-align: right;\">\n",
       "      <th></th>\n",
       "      <th>0</th>\n",
       "    </tr>\n",
       "  </thead>\n",
       "  <tbody>\n",
       "    <tr>\n",
       "      <th>0</th>\n",
       "      <td>zedo</td>\n",
       "    </tr>\n",
       "    <tr>\n",
       "      <th>1</th>\n",
       "      <td>1483</td>\n",
       "    </tr>\n",
       "    <tr>\n",
       "      <th>2</th>\n",
       "      <td>1</td>\n",
       "    </tr>\n",
       "    <tr>\n",
       "      <th>3</th>\n",
       "      <td>99.9326</td>\n",
       "    </tr>\n",
       "  </tbody>\n",
       "</table>\n",
       "</div>"
      ],
      "text/plain": [
       "         0\n",
       "0     zedo\n",
       "1     1483\n",
       "2        1\n",
       "3  99.9326"
      ]
     },
     "execution_count": 28,
     "metadata": {},
     "output_type": "execute_result"
    }
   ],
   "source": [
    "table"
   ]
  },
  {
   "cell_type": "code",
   "execution_count": 26,
   "metadata": {
    "collapsed": false
   },
   "outputs": [
    {
     "data": {
      "text/plain": [
       "0.024795437639474338"
      ]
     },
     "execution_count": 26,
     "metadata": {},
     "output_type": "execute_result"
    }
   ],
   "source": [
    "df = final[final['Application'] == 'dns']\n",
    "df = pd.DataFrame(df['Utilization(bps)'])\n",
    "nz = df.shape[0] - np.count_nonzero(df)\n",
    "(nz/df.shape[0])*100."
   ]
  },
  {
   "cell_type": "code",
   "execution_count": 27,
   "metadata": {
    "collapsed": false
   },
   "outputs": [
    {
     "data": {
      "text/html": [
       "<div>\n",
       "<table border=\"1\" class=\"dataframe\">\n",
       "  <thead>\n",
       "    <tr style=\"text-align: right;\">\n",
       "      <th></th>\n",
       "      <th>Utilization(bps)</th>\n",
       "    </tr>\n",
       "  </thead>\n",
       "  <tbody>\n",
       "    <tr>\n",
       "      <th>0</th>\n",
       "      <td>105.000</td>\n",
       "    </tr>\n",
       "    <tr>\n",
       "      <th>9</th>\n",
       "      <td>212.500</td>\n",
       "    </tr>\n",
       "    <tr>\n",
       "      <th>20</th>\n",
       "      <td>105.000</td>\n",
       "    </tr>\n",
       "    <tr>\n",
       "      <th>21</th>\n",
       "      <td>340.000</td>\n",
       "    </tr>\n",
       "    <tr>\n",
       "      <th>34</th>\n",
       "      <td>142.500</td>\n",
       "    </tr>\n",
       "    <tr>\n",
       "      <th>36</th>\n",
       "      <td>157.500</td>\n",
       "    </tr>\n",
       "    <tr>\n",
       "      <th>43</th>\n",
       "      <td>521.625</td>\n",
       "    </tr>\n",
       "    <tr>\n",
       "      <th>53</th>\n",
       "      <td>163.250</td>\n",
       "    </tr>\n",
       "    <tr>\n",
       "      <th>57</th>\n",
       "      <td>154.250</td>\n",
       "    </tr>\n",
       "    <tr>\n",
       "      <th>63</th>\n",
       "      <td>398.500</td>\n",
       "    </tr>\n",
       "    <tr>\n",
       "      <th>70</th>\n",
       "      <td>140.000</td>\n",
       "    </tr>\n",
       "    <tr>\n",
       "      <th>81</th>\n",
       "      <td>160.000</td>\n",
       "    </tr>\n",
       "    <tr>\n",
       "      <th>89</th>\n",
       "      <td>353.000</td>\n",
       "    </tr>\n",
       "    <tr>\n",
       "      <th>91</th>\n",
       "      <td>213.000</td>\n",
       "    </tr>\n",
       "    <tr>\n",
       "      <th>100</th>\n",
       "      <td>300.000</td>\n",
       "    </tr>\n",
       "    <tr>\n",
       "      <th>107</th>\n",
       "      <td>343.000</td>\n",
       "    </tr>\n",
       "    <tr>\n",
       "      <th>114</th>\n",
       "      <td>140.000</td>\n",
       "    </tr>\n",
       "    <tr>\n",
       "      <th>121</th>\n",
       "      <td>185.250</td>\n",
       "    </tr>\n",
       "    <tr>\n",
       "      <th>128</th>\n",
       "      <td>347.375</td>\n",
       "    </tr>\n",
       "    <tr>\n",
       "      <th>139</th>\n",
       "      <td>230.500</td>\n",
       "    </tr>\n",
       "    <tr>\n",
       "      <th>144</th>\n",
       "      <td>230.000</td>\n",
       "    </tr>\n",
       "    <tr>\n",
       "      <th>153</th>\n",
       "      <td>328.000</td>\n",
       "    </tr>\n",
       "    <tr>\n",
       "      <th>154</th>\n",
       "      <td>210.000</td>\n",
       "    </tr>\n",
       "    <tr>\n",
       "      <th>165</th>\n",
       "      <td>250.500</td>\n",
       "    </tr>\n",
       "    <tr>\n",
       "      <th>173</th>\n",
       "      <td>157.500</td>\n",
       "    </tr>\n",
       "    <tr>\n",
       "      <th>175</th>\n",
       "      <td>122.500</td>\n",
       "    </tr>\n",
       "    <tr>\n",
       "      <th>187</th>\n",
       "      <td>390.500</td>\n",
       "    </tr>\n",
       "    <tr>\n",
       "      <th>191</th>\n",
       "      <td>270.000</td>\n",
       "    </tr>\n",
       "    <tr>\n",
       "      <th>201</th>\n",
       "      <td>262.500</td>\n",
       "    </tr>\n",
       "    <tr>\n",
       "      <th>206</th>\n",
       "      <td>426.125</td>\n",
       "    </tr>\n",
       "    <tr>\n",
       "      <th>...</th>\n",
       "      <td>...</td>\n",
       "    </tr>\n",
       "    <tr>\n",
       "      <th>598548</th>\n",
       "      <td>857.500</td>\n",
       "    </tr>\n",
       "    <tr>\n",
       "      <th>598598</th>\n",
       "      <td>663.750</td>\n",
       "    </tr>\n",
       "    <tr>\n",
       "      <th>598622</th>\n",
       "      <td>1127.000</td>\n",
       "    </tr>\n",
       "    <tr>\n",
       "      <th>598679</th>\n",
       "      <td>855.750</td>\n",
       "    </tr>\n",
       "    <tr>\n",
       "      <th>598773</th>\n",
       "      <td>691.000</td>\n",
       "    </tr>\n",
       "    <tr>\n",
       "      <th>598785</th>\n",
       "      <td>836.375</td>\n",
       "    </tr>\n",
       "    <tr>\n",
       "      <th>598840</th>\n",
       "      <td>766.500</td>\n",
       "    </tr>\n",
       "    <tr>\n",
       "      <th>598886</th>\n",
       "      <td>642.250</td>\n",
       "    </tr>\n",
       "    <tr>\n",
       "      <th>598964</th>\n",
       "      <td>1456.000</td>\n",
       "    </tr>\n",
       "    <tr>\n",
       "      <th>599022</th>\n",
       "      <td>882.000</td>\n",
       "    </tr>\n",
       "    <tr>\n",
       "      <th>599051</th>\n",
       "      <td>698.750</td>\n",
       "    </tr>\n",
       "    <tr>\n",
       "      <th>599152</th>\n",
       "      <td>854.000</td>\n",
       "    </tr>\n",
       "    <tr>\n",
       "      <th>599155</th>\n",
       "      <td>758.500</td>\n",
       "    </tr>\n",
       "    <tr>\n",
       "      <th>599250</th>\n",
       "      <td>605.250</td>\n",
       "    </tr>\n",
       "    <tr>\n",
       "      <th>599295</th>\n",
       "      <td>1170.750</td>\n",
       "    </tr>\n",
       "    <tr>\n",
       "      <th>599347</th>\n",
       "      <td>836.000</td>\n",
       "    </tr>\n",
       "    <tr>\n",
       "      <th>599421</th>\n",
       "      <td>644.250</td>\n",
       "    </tr>\n",
       "    <tr>\n",
       "      <th>599451</th>\n",
       "      <td>953.625</td>\n",
       "    </tr>\n",
       "    <tr>\n",
       "      <th>599505</th>\n",
       "      <td>905.250</td>\n",
       "    </tr>\n",
       "    <tr>\n",
       "      <th>599543</th>\n",
       "      <td>644.250</td>\n",
       "    </tr>\n",
       "    <tr>\n",
       "      <th>599630</th>\n",
       "      <td>1478.500</td>\n",
       "    </tr>\n",
       "    <tr>\n",
       "      <th>599685</th>\n",
       "      <td>796.000</td>\n",
       "    </tr>\n",
       "    <tr>\n",
       "      <th>599720</th>\n",
       "      <td>705.000</td>\n",
       "    </tr>\n",
       "    <tr>\n",
       "      <th>599793</th>\n",
       "      <td>606.250</td>\n",
       "    </tr>\n",
       "    <tr>\n",
       "      <th>599834</th>\n",
       "      <td>722.250</td>\n",
       "    </tr>\n",
       "    <tr>\n",
       "      <th>599860</th>\n",
       "      <td>1134.250</td>\n",
       "    </tr>\n",
       "    <tr>\n",
       "      <th>599957</th>\n",
       "      <td>723.250</td>\n",
       "    </tr>\n",
       "    <tr>\n",
       "      <th>600013</th>\n",
       "      <td>920.500</td>\n",
       "    </tr>\n",
       "    <tr>\n",
       "      <th>600052</th>\n",
       "      <td>586.000</td>\n",
       "    </tr>\n",
       "    <tr>\n",
       "      <th>600099</th>\n",
       "      <td>938.875</td>\n",
       "    </tr>\n",
       "  </tbody>\n",
       "</table>\n",
       "<p>16132 rows × 1 columns</p>\n",
       "</div>"
      ],
      "text/plain": [
       "        Utilization(bps)\n",
       "0                105.000\n",
       "9                212.500\n",
       "20               105.000\n",
       "21               340.000\n",
       "34               142.500\n",
       "36               157.500\n",
       "43               521.625\n",
       "53               163.250\n",
       "57               154.250\n",
       "63               398.500\n",
       "70               140.000\n",
       "81               160.000\n",
       "89               353.000\n",
       "91               213.000\n",
       "100              300.000\n",
       "107              343.000\n",
       "114              140.000\n",
       "121              185.250\n",
       "128              347.375\n",
       "139              230.500\n",
       "144              230.000\n",
       "153              328.000\n",
       "154              210.000\n",
       "165              250.500\n",
       "173              157.500\n",
       "175              122.500\n",
       "187              390.500\n",
       "191              270.000\n",
       "201              262.500\n",
       "206              426.125\n",
       "...                  ...\n",
       "598548           857.500\n",
       "598598           663.750\n",
       "598622          1127.000\n",
       "598679           855.750\n",
       "598773           691.000\n",
       "598785           836.375\n",
       "598840           766.500\n",
       "598886           642.250\n",
       "598964          1456.000\n",
       "599022           882.000\n",
       "599051           698.750\n",
       "599152           854.000\n",
       "599155           758.500\n",
       "599250           605.250\n",
       "599295          1170.750\n",
       "599347           836.000\n",
       "599421           644.250\n",
       "599451           953.625\n",
       "599505           905.250\n",
       "599543           644.250\n",
       "599630          1478.500\n",
       "599685           796.000\n",
       "599720           705.000\n",
       "599793           606.250\n",
       "599834           722.250\n",
       "599860          1134.250\n",
       "599957           723.250\n",
       "600013           920.500\n",
       "600052           586.000\n",
       "600099           938.875\n",
       "\n",
       "[16132 rows x 1 columns]"
      ]
     },
     "execution_count": 27,
     "metadata": {},
     "output_type": "execute_result"
    }
   ],
   "source": [
    "df"
   ]
  },
  {
   "cell_type": "code",
   "execution_count": 30,
   "metadata": {
    "collapsed": true
   },
   "outputs": [],
   "source": [
    "from matplotlib.pyplot import plot "
   ]
  },
  {
   "cell_type": "code",
   "execution_count": 31,
   "metadata": {
    "collapsed": false
   },
   "outputs": [
    {
     "data": {
      "text/plain": [
       "[<matplotlib.lines.Line2D at 0x27a27429748>]"
      ]
     },
     "execution_count": 31,
     "metadata": {},
     "output_type": "execute_result"
    },
    {
     "data": {
      "image/png": "[encoded data removed]",
      "text/plain": [
       "<Figure size 432x288 with 1 Axes>"
      ]
     },
     "metadata": {
      "needs_background": "light"
     },
     "output_type": "display_data"
    }
   ],
   "source": [
    "df = final[final['Application'] == 'amazon_aws']\n",
    "time = df['Timestamp']\n",
    "util = df['Utilization(bps)']\n",
    "plot(time, util)"
   ]
  },
  {
   "cell_type": "code",
   "execution_count": null,
   "metadata": {
    "collapsed": true
   },
   "outputs": [],
   "source": []
  },
  {
   "cell_type": "code",
   "execution_count": null,
   "metadata": {
    "collapsed": true
   },
   "outputs": [],
   "source": [
    "df = final[final['Application'] == 'https']\n",
    "time = df['Timestamp']\n",
    "util = df['Utilization(bps)']\n",
    "plot(time, util)"
   ]
  },
  {
   "cell_type": "code",
   "execution_count": null,
   "metadata": {
    "collapsed": true
   },
   "outputs": [],
   "source": [
    "df = final[final['Application'] == 'new_relic']\n",
    "time = df['Timestamp']\n",
    "util = df['Utilization(bps)']\n",
    "plot(time, util)"
   ]
  },
  {
   "cell_type": "code",
   "execution_count": null,
   "metadata": {
    "collapsed": true
   },
   "outputs": [],
   "source": [
    "df = final[final['Application'] == 'salesforce']\n",
    "time = df['Timestamp']\n",
    "util = df['Utilization(bps)']\n",
    "plot(time, util)"
   ]
  },
  {
   "cell_type": "code",
   "execution_count": null,
   "metadata": {
    "collapsed": true
   },
   "outputs": [],
   "source": [
    "df = final[final['Application'] == 'unknown']\n",
    "time = df['Timestamp']\n",
    "util = df['Utilization(bps)']\n",
    "plot(time, util)"
   ]
  },
  {
   "cell_type": "code",
   "execution_count": null,
   "metadata": {
    "collapsed": true
   },
   "outputs": [],
   "source": [
    "df = final[final['Application'] == 'adobe']\n",
    "time = df['Timestamp']\n",
    "util = df['Utilization(bps)']\n",
    "plot(time, util)"
   ]
  },
  {
   "cell_type": "code",
   "execution_count": null,
   "metadata": {
    "collapsed": true
   },
   "outputs": [],
   "source": [
    "df = final[final['Application'] == 'appnexus']\n",
    "time = df['Timestamp']\n",
    "util = df['Utilization(bps)']\n",
    "plot(time, util)"
   ]
  },
  {
   "cell_type": "code",
   "execution_count": 32,
   "metadata": {
    "collapsed": true
   },
   "outputs": [],
   "source": [
    "n=1\n",
    "for i in range(n):\n",
    "    n=1\n"
   ]
  },
  {
   "cell_type": "code",
   "execution_count": null,
   "metadata": {
    "collapsed": true
   },
   "outputs": [],
   "source": [
    "while True:\n",
    "    a=1"
   ]
  },
  {
   "cell_type": "code",
   "execution_count": null,
   "metadata": {
    "collapsed": true
   },
   "outputs": [],
   "source": []
  }
 ],
 "metadata": {
  "anaconda-cloud": {},
  "kernelspec": {
   "display_name": "Python [Anaconda3]",
   "language": "python",
   "name": "Python [Anaconda3]"
  },
  "language_info": {
   "codemirror_mode": {
    "name": "ipython",
    "version": 3
   },
   "file_extension": ".py",
   "mimetype": "text/x-python",
   "name": "python",
   "nbconvert_exporter": "python",
   "pygments_lexer": "ipython3",
   "version": "3.5.2"
  }
 },
 "nbformat": 4,
 "nbformat_minor": 2
}
